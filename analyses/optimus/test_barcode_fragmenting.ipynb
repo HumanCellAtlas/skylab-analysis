{
 "cells": [
  {
   "cell_type": "markdown",
   "metadata": {},
   "source": [
    "## Examine the 10x UMI for potential Aberrations\n",
    "\n",
    "Whether or not 10x suffers from insertion/deletion or breakage errors is an open question. Here we do some basic analyses to add to this discussion. "
   ]
  },
  {
   "cell_type": "code",
   "execution_count": 16,
   "metadata": {
    "run_control": {
     "frozen": false,
     "read_only": false
    }
   },
   "outputs": [],
   "source": [
    "from collections import Counter\n",
    "from scsequtil import fastq\n",
    "import pygtrie\n",
    "import pandas as pd\n",
    "import numpy as np\n",
    "from operator import itemgetter\n",
    "import random\n",
    "from scipy.stats import normaltest\n",
    "import matplotlib.pyplot as plt\n",
    "%matplotlib inline"
   ]
  },
  {
   "cell_type": "markdown",
   "metadata": {},
   "source": [
    "First, download the 10x whitelist from the SEQC public repository, and a large 10x datafile from our group. "
   ]
  },
  {
   "cell_type": "code",
   "execution_count": null,
   "metadata": {
    "run_control": {
     "frozen": false,
     "read_only": false
    }
   },
   "outputs": [],
   "source": [
    "!aws s3 cp s3://seqc-public/barcodes/ten_x_v2/flat/737K-august-2016.txt ~/Desktop/\n",
    "!aws s3 cp s3://dp-lab-data/ms5034/sc-seq/bone_marrow/10x/Run4_full_length/Run4_SI-GA-H11_merged.fastq.gz /Users/ajc/Desktop/10x_bigfile.fastq.gz"
   ]
  },
  {
   "cell_type": "markdown",
   "metadata": {},
   "source": [
    "The first question we want to ask is whether we observe truncations in the 10x barcodes. Truncations could occur from: \n",
    "\n",
    "1. point mutations, \n",
    "2. barcode recombination or barcode breakage events or \n",
    "3. barcode insertions or deletions\n",
    "\n",
    "We'll start by making a Trie data structure out of the 10x whitelist. This allows fast identification of the longest prefix of a barcode, which will let us find truncation rates. \n",
    "\n",
    "For now, lets run on uncorrected barcodes. "
   ]
  },
  {
   "cell_type": "code",
   "execution_count": 17,
   "metadata": {
    "run_control": {
     "frozen": false,
     "read_only": false
    }
   },
   "outputs": [],
   "source": [
    "t = pygtrie.CharTrie()\n",
    "with open('/Users/ajc/Desktop/737K-august-2016.txt', 'r') as f:\n",
    "    for line in f:\n",
    "        t[line.strip()] = True"
   ]
  },
  {
   "cell_type": "markdown",
   "metadata": {},
   "source": [
    "Count up the number of times we see each cell barcode. Here we're using an intermediate from the Pe'er lab SEQC pipeline, so the cell barcode has been prepended to the fastq name"
   ]
  },
  {
   "cell_type": "code",
   "execution_count": 144,
   "metadata": {
    "run_control": {
     "frozen": false,
     "read_only": false
    }
   },
   "outputs": [],
   "source": [
    "rd = fastq.Reader('/Users/ajc/Desktop/10x_bigfile.fastq.gz', 'r')\n",
    "counter = Counter()\n",
    "for i, record in enumerate(rd):\n",
    "    counter[record.name[2:18]] += 1\n",
    "    if i > 1e7: \n",
    "        break"
   ]
  },
  {
   "cell_type": "markdown",
   "metadata": {
    "run_control": {
     "frozen": false,
     "read_only": false
    }
   },
   "source": [
    "sample the first million barcodes from the file. "
   ]
  },
  {
   "cell_type": "code",
   "execution_count": 139,
   "metadata": {
    "run_control": {
     "frozen": false,
     "read_only": false
    }
   },
   "outputs": [],
   "source": [
    "def get_path_counts(counter, n, barcode_trie):\n",
    "    short_path_counter = Counter()\n",
    "    n_short_paths = Counter()\n",
    "    for i, (k, v) in enumerate(counter.items()):\n",
    "        if k not in t and 'N' not in k:\n",
    "            while k:\n",
    "                k = k[:-1]\n",
    "                if barcode_trie.has_subtrie(k):\n",
    "                    short_path_counter[len(k)] += v\n",
    "                    n_short_paths[len(k)] += 1\n",
    "                    break\n",
    "        if i > n: \n",
    "            break\n",
    "    path_data = pd.DataFrame({'total observations': short_path_counter, 'unique prefixes': n_short_paths})\n",
    "    path_data['ratio'] = path_data['total observations'] / path_data['unique prefixes']\n",
    "    path_data\n",
    "    return path_data"
   ]
  },
  {
   "cell_type": "code",
   "execution_count": 145,
   "metadata": {},
   "outputs": [],
   "source": [
    "path_data = get_path_counts(counter, n=1e7, barcode_trie=t)"
   ]
  },
  {
   "cell_type": "markdown",
   "metadata": {},
   "source": [
    "with 370,000 barcodes, there is a null distribution that must be considered. It's probably easier to generate it empirically than to model it explicitly. So, lets generate a null distribution of the same size as our sample by generating 100% random barcodes from an ATGC alphabet"
   ]
  },
  {
   "cell_type": "code",
   "execution_count": 172,
   "metadata": {},
   "outputs": [],
   "source": [
    "null_counter = Counter()\n",
    "i = 0\n",
    "while i < 1e6:\n",
    "    random_barcode = ''.join(random.choices('ACGT', k=10))\n",
    "    null_counter[random_barcode] += 1\n",
    "    i += 1"
   ]
  },
  {
   "cell_type": "code",
   "execution_count": 149,
   "metadata": {},
   "outputs": [],
   "source": [
    "null_path_data = get_path_counts(null_counter, 1e7, barcode_trie=t)"
   ]
  },
  {
   "cell_type": "markdown",
   "metadata": {},
   "source": [
    "This does not look like a good fit for our data; random barcodes do not generate "
   ]
  },
  {
   "cell_type": "code",
   "execution_count": 183,
   "metadata": {},
   "outputs": [
    {
     "data": {
      "image/png": "[encoded data removed]",
      "text/plain": [
       "<matplotlib.figure.Figure at 0x167500860>"
      ]
     },
     "metadata": {},
     "output_type": "display_data"
    }
   ],
   "source": [
    "plt.bar(height=path_data['total observations'] / path_data['total observations'].sum(), x=path_data.index, alpha=0.5, label='observed')\n",
    "plt.bar(height=null_path_data['total observations'] / null_path_data['total observations'].sum(), x=null_path_data.index, alpha=0.5, label='null; random barcodes')\n",
    "plt.legend()\n",
    "plt.xlabel('length of smallest prefix')\n",
    "plt.ylabel('frequency');"
   ]
  },
  {
   "cell_type": "markdown",
   "metadata": {},
   "source": [
    "Instead, lets now build a null distribution from barcodes consisting of only single-base errors. "
   ]
  },
  {
   "cell_type": "code",
   "execution_count": 156,
   "metadata": {},
   "outputs": [],
   "source": [
    "# build a set from the reference whitelist\n",
    "with open('/Users/ajc/Desktop/737K-august-2016.txt', 'r') as f:\n",
    "    true_barcodes = list(l.strip() for l in f)\n",
    "\n",
    "null_substitution_counter = Counter()\n",
    "i = 0\n",
    "while i < 1e6:\n",
    "    alphabet = list('ACGT')\n",
    "    random_barcode = random.choice(true_barcodes)\n",
    "    p = np.random.randint(0, 10)\n",
    "    current_nucleotide = random_barcode[p]\n",
    "    alphabet.remove(current_nucleotide)\n",
    "    mutant_nucleotide = random.choice(alphabet)\n",
    "    mutant_barcode = random_barcode[:p] + mutant_nucleotide + random_barcode[p + 1:]\n",
    "    null_substitution_counter[mutant_barcode] += 1\n",
    "    i += 1\n",
    "\n",
    "null_mutation_path_data = get_path_counts(null_substitution_counter, n=1e6, barcode_trie=t)"
   ]
  },
  {
   "cell_type": "markdown",
   "metadata": {},
   "source": [
    "This matches really quite well. It also suggests that the 10x whitelist is very weirdly distributed with an unequal distribution of hamming weights. However, we do see an uptick in long prefixes versus what is expected and decreases in 5, 6, and 8-length prefixes "
   ]
  },
  {
   "cell_type": "code",
   "execution_count": 184,
   "metadata": {},
   "outputs": [
    {
     "data": {
      "image/png": "[encoded data removed]",
      "text/plain": [
       "<matplotlib.figure.Figure at 0x1675e4dd8>"
      ]
     },
     "metadata": {},
     "output_type": "display_data"
    }
   ],
   "source": [
    "plt.bar(height=path_data['total observations'] / path_data['total observations'].sum(), x=path_data.index, alpha=0.5, label='observed')\n",
    "plt.bar(height=null_mutation_path_data['total observations'] / null_mutation_path_data['total observations'].sum(), x=null_mutation_path_data.index, alpha=0.5, label='null, single mutations')\n",
    "plt.legend()\n",
    "plt.xlabel('length of smallest prefix')\n",
    "plt.ylabel('frequency');"
   ]
  },
  {
   "cell_type": "markdown",
   "metadata": {},
   "source": [
    "## Test UMIs\n",
    "\n",
    "If UMIs show additional T-frequency, that would suggest that the cause is either breakage (if T increases throughout the UMI) or short deletions (if T increases only at the final position(s)). Below we measure the frequency of T-nucletides across the UMI"
   ]
  },
  {
   "cell_type": "code",
   "execution_count": 71,
   "metadata": {},
   "outputs": [],
   "source": [
    "rd = fastq.Reader('/Users/ajc/Desktop/10x_bigfile.fastq.gz', 'r')\n",
    "positions = np.zeros(10)\n",
    "for i, record in enumerate(rd):\n",
    "    is_t = np.array([1 if c == 'T' else 0 for c in record.name[19:29]])\n",
    "    positions += is_t\n",
    "    if i > 1e7:\n",
    "        break\n",
    "positions /= 1e7"
   ]
  },
  {
   "cell_type": "markdown",
   "metadata": {},
   "source": [
    "Now, plot the frequency of T-nucleotides across the UMI"
   ]
  },
  {
   "cell_type": "code",
   "execution_count": 112,
   "metadata": {},
   "outputs": [
    {
     "data": {
      "text/plain": [
       "Text(0.5,1,'Increased T nucleotides in final UMI position')"
      ]
     },
     "execution_count": 112,
     "metadata": {},
     "output_type": "execute_result"
    },
    {
     "data": {
      "image/png": "[encoded data removed]",
      "text/plain": [
       "<matplotlib.figure.Figure at 0x14b50bb00>"
      ]
     },
     "metadata": {},
     "output_type": "display_data"
    }
   ],
   "source": [
    "plt.plot(positions)\n",
    "plt.plot([0.25] * 10, linestyle='--')\n",
    "plt.xlim((0, 9))\n",
    "plt.ylabel('percentage of T nucleotides per UMI position')\n",
    "plt.xlabel('UMI position, 10x');\n",
    "plt.title('Increased T nucleotides in final UMI position')"
   ]
  },
  {
   "cell_type": "markdown",
   "metadata": {},
   "source": [
    "define a simple z-test, check if the last value is significantly deviating (it is)"
   ]
  },
  {
   "cell_type": "code",
   "execution_count": 105,
   "metadata": {},
   "outputs": [
    {
     "name": "stdout",
     "output_type": "stream",
     "text": [
      "z-score: 15.75\n",
      "p-value: 3.4e-56\n"
     ]
    }
   ],
   "source": [
    "from scipy.stats import norm\n",
    "\n",
    "pop = positions[:-1]\n",
    "comparison = positions[-1]\n",
    "sigma = np.std(pop)\n",
    "mu = np.mean(pop)\n",
    "stderr = sigma / np.sqrt(pop.shape[0])\n",
    "z = (comparison - mu) / stderr\n",
    "print('z-score: %.2f' % z)\n",
    "print('p-value: %.2g' % norm.sf(z))"
   ]
  },
  {
   "cell_type": "markdown",
   "metadata": {},
   "source": [
    "Check: Is our data gaussian? Kinda hard to tell with only 10 data points, but.. more evidence for than against. \n",
    "\n",
    "The below test is significant if the data _deviates_ from a normal distribution"
   ]
  },
  {
   "cell_type": "code",
   "execution_count": 187,
   "metadata": {},
   "outputs": [
    {
     "name": "stderr",
     "output_type": "stream",
     "text": [
      "/usr/local/lib/python3.6/site-packages/scipy/stats/stats.py:1334: UserWarning: kurtosistest only valid for n>=20 ... continuing anyway, n=9\n",
      "  \"anyway, n=%i\" % int(n))\n"
     ]
    },
    {
     "data": {
      "text/plain": [
       "NormaltestResult(statistic=0.36618081360392174, pvalue=0.83269287123452274)"
      ]
     },
     "execution_count": 187,
     "metadata": {},
     "output_type": "execute_result"
    }
   ],
   "source": [
    "normaltest(pop) "
   ]
  },
  {
   "cell_type": "code",
   "execution_count": 99,
   "metadata": {},
   "outputs": [
    {
     "data": {
      "image/png": "[encoded data removed]",
      "text/plain": [
       "<matplotlib.figure.Figure at 0x149a332e8>"
      ]
     },
     "metadata": {},
     "output_type": "display_data"
    }
   ],
   "source": [
    "f, ax = plt.subplots(figsize=(3, 3))\n",
    "plt.hist(pop, bins=3)\n",
    "plt.ylabel('frequency')\n",
    "plt.xlabel('% T per UMI position');"
   ]
  },
  {
   "cell_type": "markdown",
   "metadata": {},
   "source": [
    "Assume the data is gaussian, what's the 95% confidence interval around the mean? Given that confidence interval, what's the MINIMUM effect size, accounting for maximum (95%) variance? "
   ]
  },
  {
   "cell_type": "code",
   "execution_count": 188,
   "metadata": {},
   "outputs": [
    {
     "name": "stdout",
     "output_type": "stream",
     "text": [
      "high: 0.246, low: 0.226\n",
      "minimum effect size: 0.017\n"
     ]
    }
   ],
   "source": [
    "print('high: %.3f, low: %.3f' % (mu + sigma * 1.96, mu - sigma * 1.96))\n",
    "print('minimum effect size: %.3f' % (comparison - (mu + sigma * 1.96)))"
   ]
  },
  {
   "cell_type": "markdown",
   "metadata": {},
   "source": [
    "So, at bare minimum we have a 1.7% increase in T nucleotide fraction, which could be seen as a proxy for barcode breakage. Normal barcode errors appear to occur at a similar rate, so this problem has a similar magnitude to the errors we currently detect. Unless there is an alternative explanation that I've missing, this suggests to me that it would be worthwhile for the community to address this problem."
   ]
  },
  {
   "cell_type": "code",
   "execution_count": null,
   "metadata": {},
   "outputs": [],
   "source": []
  }
 ],
 "metadata": {
  "hide_input": false,
  "kernelspec": {
   "display_name": "Python 3",
   "language": "python",
   "name": "python3"
  },
  "language_info": {
   "codemirror_mode": {
    "name": "ipython",
    "version": 3
   },
   "file_extension": ".py",
   "mimetype": "text/x-python",
   "name": "python",
   "nbconvert_exporter": "python",
   "pygments_lexer": "ipython3",
   "version": "3.6.1"
  },
  "nav_menu": {},
  "toc": {
   "navigate_menu": true,
   "number_sections": true,
   "sideBar": true,
   "threshold": 6,
   "toc_cell": false,
   "toc_section_display": "block",
   "toc_window_display": false
  }
 },
 "nbformat": 4,
 "nbformat_minor": 2
}

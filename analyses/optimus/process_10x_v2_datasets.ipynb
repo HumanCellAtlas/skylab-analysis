{
 "cells": [
  {
   "cell_type": "code",
   "execution_count": 1,
   "metadata": {
    "collapsed": true,
    "deletable": true,
    "editable": true
   },
   "outputs": [],
   "source": [
    "import shutil\n",
    "import json\n",
    "import os\n",
    "from google.cloud import storage"
   ]
  },
  {
   "cell_type": "markdown",
   "metadata": {
    "deletable": true,
    "editable": true
   },
   "source": [
    "## create submission packages for each of the new datasets"
   ]
  },
  {
   "cell_type": "markdown",
   "metadata": {
    "deletable": true,
    "editable": true
   },
   "source": [
    "### Make Directories"
   ]
  },
  {
   "cell_type": "code",
   "execution_count": 2,
   "metadata": {
    "collapsed": true,
    "deletable": true,
    "editable": true
   },
   "outputs": [],
   "source": [
    "testdir = os.environ['TMPDIR'] + 'process_10x_v2_datasets'\n",
    "os.environ['testdir'] = testdir\n",
    "os.makedirs(testdir, exist_ok=True)"
   ]
  },
  {
   "cell_type": "markdown",
   "metadata": {
    "deletable": true,
    "editable": true
   },
   "source": [
    "## Make the dependencies"
   ]
  },
  {
   "cell_type": "code",
   "execution_count": 36,
   "metadata": {
    "collapsed": true,
    "deletable": true,
    "editable": true
   },
   "outputs": [],
   "source": [
    "skylab_directory = '../../../skylab'"
   ]
  },
  {
   "cell_type": "code",
   "execution_count": 37,
   "metadata": {
    "collapsed": true,
    "deletable": true,
    "editable": true
   },
   "outputs": [],
   "source": [
    "# grab the dependencies; these are static\n",
    "workflow_dependencies = {\n",
    "    \"StarAlignBamSingleEnd.wdl\": \"{0}/library/tasks/StarAlignBamSingleEnd.wdl\".format(skylab_directory),\n",
    "    \"FastqToUBam.wdl\": \"{0}/library/tasks/FastqToUBam.wdl\".format(skylab_directory),\n",
    "    \"Attach10xBarcodes.wdl\": \"{0}/library/tasks/Attach10xBarcodes.wdl\".format(skylab_directory),\n",
    "    \"SplitBamByCellBarcode.wdl\": \"{0}/library/tasks/SplitBamByCellBarcode.wdl\".format(skylab_directory),\n",
    "    \"TagGeneExon.wdl\": \"{0}/library/tasks/TagGeneExon.wdl\".format(skylab_directory),\n",
    "    \"CorrectUmiMarkDuplicates.wdl\": \"{0}/library/tasks/CorrectUmiMarkDuplicates.wdl\".format(skylab_directory),\n",
    "    \"CollectMultiplePicardMetrics.wdl\": \"{0}/library/tasks/CollectMultiplePicardMetrics.wdl\".format(skylab_directory),\n",
    "    \"MergeSortBam.wdl\": \"{0}/library/tasks/MergeSortBam.wdl\".format(skylab_directory),\n",
    "    \"CreateCountMatrix.wdl\": \"{0}/library/tasks/CreateCountMatrix.wdl\".format(skylab_directory),\n",
    "    \"AlignTagCorrectUmis.wdl\": \"{0}/library/subworkflows/AlignTagCorrectUmis.wdl\".format(skylab_directory)    \n",
    "}"
   ]
  },
  {
   "cell_type": "code",
   "execution_count": 4,
   "metadata": {
    "collapsed": true,
    "deletable": true,
    "editable": true
   },
   "outputs": [],
   "source": [
    "# copy all the dependencies to the temp dir\n",
    "dependency_dir = testdir + '/dependencies'\n",
    "os.makedirs(dependency_dir, exist_ok=True)\n",
    "for v in workflow_dependencies.values():\n",
    "    shutil.copy(v, dependency_dir)"
   ]
  },
  {
   "cell_type": "code",
   "execution_count": 5,
   "metadata": {
    "collapsed": true,
    "deletable": true,
    "editable": true
   },
   "outputs": [],
   "source": [
    "%%bash \n",
    "# make the dependencies zip\n",
    "cd ${testdir}/dependencies \n",
    "zip -cq dependencies.zip ./*"
   ]
  },
  {
   "cell_type": "code",
   "execution_count": 6,
   "metadata": {
    "collapsed": true,
    "deletable": true,
    "editable": true
   },
   "outputs": [],
   "source": [
    "dependencies_zip = testdir + '/dependencies/dependencies.zip'"
   ]
  },
  {
   "cell_type": "markdown",
   "metadata": {
    "deletable": true,
    "editable": true
   },
   "source": [
    "## Copy the workflow to the testing dir"
   ]
  },
  {
   "cell_type": "code",
   "execution_count": 39,
   "metadata": {
    "collapsed": true,
    "deletable": true,
    "editable": true
   },
   "outputs": [],
   "source": [
    "%%bash \n",
    "skylab_directory=../../../skylab\n",
    "cp \"${skylab_directory}\"/pipelines/optimus/Optimus.wdl ${testdir}"
   ]
  },
  {
   "cell_type": "markdown",
   "metadata": {
    "deletable": true,
    "editable": true
   },
   "source": [
    "## Make the inputs json files"
   ]
  },
  {
   "cell_type": "markdown",
   "metadata": {
    "deletable": true,
    "editable": true
   },
   "source": [
    "### Make the 10x inputs"
   ]
  },
  {
   "cell_type": "code",
   "execution_count": 8,
   "metadata": {
    "collapsed": true,
    "deletable": true,
    "editable": true
   },
   "outputs": [],
   "source": [
    "# static inputs first, easiest\n",
    "static_inputs = {\n",
    "    \"Optimus.whitelist\": \"gs://broad-dsde-mint-dev-teststorage/10x/whitelist/737K-august-2016.txt\",\n",
    "}"
   ]
  },
  {
   "cell_type": "markdown",
   "metadata": {
    "deletable": true,
    "editable": true
   },
   "source": [
    "### Make the genome inputs"
   ]
  },
  {
   "cell_type": "code",
   "execution_count": 9,
   "metadata": {
    "collapsed": true,
    "deletable": true,
    "editable": true
   },
   "outputs": [],
   "source": [
    "human_genome_inputs = {\n",
    "    \"Optimus.tar_star_reference\": \"gs://hca-dcp-mint-test-data/reference/GRCh38_Gencode/GRCh38_GencodeV27_Primary.tar\",\n",
    "    \"Optimus.annotations_gtf\": \"gs://hca-dcp-mint-test-data/reference/GRCh38_Gencode/gencode.v27.primary_assembly.annotation.gtf\",\n",
    "    \"Optimus.ref_genome_fasta\": \"gs://hca-dcp-mint-test-data/reference/GRCh38_Gencode/GRCh38.primary_assembly.genome.fa\"\n",
    "}"
   ]
  },
  {
   "cell_type": "code",
   "execution_count": 10,
   "metadata": {
    "collapsed": true,
    "deletable": true,
    "editable": true
   },
   "outputs": [],
   "source": [
    "mouse_genome_inputs = {\n",
    "    \"Optimus.tar_star_reference\": \"gs://hca-dcp-mint-test-data/reference/GRCm38_Gencode/GRCm38_star_genome.tar\",\n",
    "    \"Optimus.annotations_gtf\": \"gs://hca-dcp-mint-test-data/reference/GRCm38_Gencode/gencode.vM16.primary_assembly.annotation.gtf\",\n",
    "    \"Optimus.ref_genome_fasta\": \"gs://hca-dcp-mint-test-data/reference/GRCm38_Gencode/GRCm38.primary_assembly.genome.fa\"\n",
    "}"
   ]
  },
  {
   "cell_type": "code",
   "execution_count": 11,
   "metadata": {
    "collapsed": true,
    "deletable": true,
    "editable": true
   },
   "outputs": [],
   "source": [
    "mouse_human_genome_inputs = {\n",
    "    \"Optimus.tar_star_reference\": \"gs://hca-dcp-mint-test-data/reference/GRCm38_GRCh38_Gencode/GRCm38_GRCh38_star_genome.tar\",\n",
    "    \"Optimus.annotations_gtf\": \"gs://hca-dcp-mint-test-data/reference/GRCm38_GRCh38_Gencode/mmhg.gtf\",\n",
    "    \"Optimus.ref_genome_fasta\": \"gs://hca-dcp-mint-test-data/reference/GRCm38_GRCh38_Gencode/mmhg.fa\"\n",
    "}"
   ]
  },
  {
   "cell_type": "code",
   "execution_count": 12,
   "metadata": {
    "collapsed": true,
    "deletable": true,
    "editable": true
   },
   "outputs": [],
   "source": [
    "human_flu_genome_inputs = {\n",
    "    \"Optimus.tar_star_reference\": \"gs://hca-dcp-mint-test-data/reference/Flu_GRCh38_Gencode/Flu_GRCh38_star_genome.tar\",\n",
    "    \"Optimus.annotations_gtf\": \"gs://hca-dcp-mint-test-data/reference/Flu_GRCh38_Gencode/hg_flu.gtf\",\n",
    "    \"Optimus.ref_genome_fasta\": \"gs://hca-dcp-mint-test-data/reference/Flu_GRCh38_Gencode/hg_flu.fa\"\n",
    "}"
   ]
  },
  {
   "cell_type": "code",
   "execution_count": 13,
   "metadata": {
    "collapsed": true,
    "deletable": true,
    "editable": true
   },
   "outputs": [],
   "source": [
    "# notes on the flu data:\n",
    "# the flu file was not formatted properly; it needs gene_name and transcript_name fields in addition to gene_id and transcript_id, \n",
    "# and fields must all be terminated with semicolons. "
   ]
  },
  {
   "cell_type": "markdown",
   "metadata": {
    "deletable": true,
    "editable": true
   },
   "source": [
    "### Make the sample inputs and combine with appropriate genomes"
   ]
  },
  {
   "cell_type": "code",
   "execution_count": 14,
   "metadata": {
    "collapsed": true,
    "deletable": true,
    "editable": true
   },
   "outputs": [],
   "source": [
    "%%bash\n",
    "mkdir -p ${testdir}/inputs"
   ]
  },
  {
   "cell_type": "code",
   "execution_count": 15,
   "metadata": {
    "collapsed": false,
    "deletable": true,
    "editable": true
   },
   "outputs": [],
   "source": [
    "# these samples have i1 files\n",
    "sample = [\n",
    "    ('A549_virus/10hr', human_flu_genome_inputs),\n",
    "    ('A549_virus/6hr',  human_flu_genome_inputs),\n",
    "    ('A549_virus/8hr',  human_flu_genome_inputs),\n",
    "    ('A549_virus/8hr-rep2',  human_flu_genome_inputs),\n",
    "    ('A549_virus/uninfected',  human_flu_genome_inputs),\n",
    "    ('hgmm_12k', mouse_human_genome_inputs),\n",
    "    ('hgmm_1k', mouse_human_genome_inputs),\n",
    "    ('hgmm_6k', mouse_human_genome_inputs),\n",
    "    ('pbmc4k', human_genome_inputs),\n",
    "    ('pbmc8k', human_genome_inputs),\n",
    "    ('t_3k', human_genome_inputs),\n",
    "    ('t_4k', human_genome_inputs),\n",
    "]\n",
    "\n",
    "\n",
    "for s, g in sample:\n",
    "    i1 = !gsutil ls gs://hca-dcp-mint-test-data/10x/$s/ | grep \"I1\"\n",
    "    r1 = !gsutil ls gs://hca-dcp-mint-test-data/10x/$s/ | grep \"R1\"\n",
    "    r2 = !gsutil ls gs://hca-dcp-mint-test-data/10x/$s/ | grep \"R2\"\n",
    "\n",
    "    specific_inputs = {\n",
    "        \"Optimus.sample_id\": s.replace('/', '_'),\n",
    "        \"Optimus.i1\": i1,\n",
    "        \"Optimus.r1\": r1,\n",
    "        \"Optimus.r2\": r2\n",
    "    }\n",
    "    \n",
    "    # build the sample inputs\n",
    "    inputs_dict = {**static_inputs, **g, **specific_inputs}\n",
    "    with open(testdir + '/inputs/{}_inputs.json'.format(s.replace('/', '_')), 'w') as f:\n",
    "        json.dump(inputs_dict, f)"
   ]
  },
  {
   "cell_type": "code",
   "execution_count": 16,
   "metadata": {
    "collapsed": true,
    "deletable": true,
    "editable": true
   },
   "outputs": [],
   "source": [
    "# these samples are r1 + r2 only (no i1 files)\n",
    "sample = [\n",
    "    ('kidney/human-organoid', human_genome_inputs),\n",
    "    ('kidney/mouse-e18', mouse_genome_inputs),\n",
    "    ('cd14mono/donor2', human_genome_inputs),\n",
    "    ('rs_pbmc_barcoded/adt', mouse_human_genome_inputs),\n",
    "    ('rs_pbmc_barcoded/hto', mouse_human_genome_inputs),\n",
    "    ('rs_pbmc_barcoded/rna', mouse_human_genome_inputs)\n",
    "]\n",
    "\n",
    "for s, g in sample:\n",
    "    r1 = !gsutil ls gs://hca-dcp-mint-test-data/10x/$s/ | grep \"_1\"\n",
    "    r2 = !gsutil ls gs://hca-dcp-mint-test-data/10x/$s/ | grep \"_2\"\n",
    "\n",
    "    specific_inputs = {\n",
    "        \"Optimus.sample_id\": s.replace('/', '_'),\n",
    "        \"Optimus.r1\": r1,\n",
    "        \"Optimus.r2\": r2\n",
    "    }\n",
    "    \n",
    "    # build the sample inputs\n",
    "    inputs_dict = {**static_inputs, **g, **specific_inputs}\n",
    "    with open(testdir + '/inputs/{}_inputs.json'.format(s.replace('/', '_')), 'w') as f:\n",
    "        json.dump(inputs_dict, f)"
   ]
  },
  {
   "cell_type": "code",
   "execution_count": 40,
   "metadata": {
    "collapsed": true,
    "deletable": true,
    "editable": true
   },
   "outputs": [],
   "source": [
    "# this is the main pipeline wdl\n",
    "wdl = '{0}/pipelines/optimus/Optimus.wdl'.format(skylab_directory)"
   ]
  },
  {
   "cell_type": "markdown",
   "metadata": {
    "deletable": true,
    "editable": true
   },
   "source": [
    "## submit everything to cromwell"
   ]
  },
  {
   "cell_type": "code",
   "execution_count": 17,
   "metadata": {
    "collapsed": true,
    "deletable": true,
    "editable": true
   },
   "outputs": [],
   "source": [
    "import json\n",
    "import os\n",
    "from google.cloud import storage\n",
    "import cromwell_manager as cwm"
   ]
  },
  {
   "cell_type": "code",
   "execution_count": 19,
   "metadata": {
    "collapsed": true,
    "deletable": true,
    "editable": true
   },
   "outputs": [],
   "source": [
    "storage_client = storage.Client(project='broad-dsde-mint-dev')\n",
    "with open(os.path.expanduser('~/.ssh/mint_cromwell_config.json')) as f:\n",
    "    cromwell_server = cwm.Cromwell(**json.load(f))"
   ]
  },
  {
   "cell_type": "code",
   "execution_count": 20,
   "metadata": {
    "collapsed": false,
    "deletable": true,
    "editable": true
   },
   "outputs": [],
   "source": [
    "input_dir = testdir + '/inputs/'\n",
    "inputs = os.listdir(input_dir)"
   ]
  },
  {
   "cell_type": "code",
   "execution_count": 27,
   "metadata": {
    "collapsed": true,
    "deletable": true,
    "editable": true
   },
   "outputs": [],
   "source": [
    "workflows = {}"
   ]
  },
  {
   "cell_type": "code",
   "execution_count": 149,
   "metadata": {
    "collapsed": false,
    "deletable": true,
    "editable": true
   },
   "outputs": [],
   "source": [
    "for input_json in inputs:\n",
    "    name = input_json.rpartition('_')[0].split('/')[-1]\n",
    "    workflows[name] = cwm.Workflow.from_submission(\n",
    "        wdl=wdl, \n",
    "        inputs_json=input_dir + input_json, \n",
    "        cromwell_server=cromwell_server,\n",
    "        workflow_dependencies=dependencies_zip,\n",
    "        storage_client=storage_client)"
   ]
  },
  {
   "cell_type": "markdown",
   "metadata": {
    "deletable": true,
    "editable": true
   },
   "source": [
    "Successful Runs & Data Locations: \n",
    "```\n",
    "A549_virus_10hr {'status': 'Succeeded', 'id': '4761f352-d5a4-4c10-852d-54cb24057021'}\n",
    "A549_virus_6hr {'status': 'Succeeded', 'id': '01c3eb26-1d20-45dd-90d1-77b58faf43f4'}\n",
    "A549_virus_8hr-rep2 {'status': 'Succeeded', 'id': '9866bf21-a96b-49c2-93d4-bbd87a5ea0f2'}\n",
    "A549_virus_8hr {'status': 'Succeeded', 'id': '31c8a21e-e53a-4f04-88cb-6073cf811328'}\n",
    "A549_virus_uninfected {'status': 'Succeeded', 'id': 'b4fe7d27-742f-4936-ab4f-60f14821846d'}\n",
    "kidney_human-organoid {'status': 'Running', 'id': '1c988f53-9133-4e10-80b5-d9a5f602884b'}\n",
    "kidney_mouse-e18 {'status': 'Running', 'id': 'ce9dda49-2b6e-462e-a323-78badc605ad3'}\n",
    "cd14mono_donor2 {'status': 'Succeeded', 'id': '5a42e722-c674-47ea-ade5-5bd4ebfa0696'}\n",
    "hgmm_12k {'status': 'Succeeded', 'id': '9b97f79c-8582-48d2-87b3-78936b4e45db'}\n",
    "hgmm_1k {'status': 'Succeeded', 'id': 'f34bc386-5edf-4c63-b15f-ca19c3ca2a64'}\n",
    "hgmm_6k {'status': 'Succeeded', 'id': 'cb6c3743-6640-443f-8981-db84430757f7'}\n",
    "pbmc4k {'status': 'Succeeded', 'id': '12a865e4-3632-4b82-99c7-84dbbd73c39b'}\n",
    "pbmc8k {'status': 'Succeeded', 'id': '32c84fc4-48dc-4aaa-943b-6a96aa7ff106'}\n",
    "rs_pbmc_barcoded_adt {'status': 'Succeeded', 'id': '658e6717-65fb-42d5-a640-7a99e5521c1d'}\n",
    "rs_pbmc_barcoded_hto {'status': 'Succeeded', 'id': 'aa8d8ca9-14b1-42b0-9bc5-a28bd13f0839'}\n",
    "rs_pbmc_barcoded_rna {'status': 'Succeeded', 'id': 'b6d0d002-c597-4bb3-aff4-587673f284db'}\n",
    "t_3k {'status': 'Succeeded', 'id': '92b813f7-748d-4727-a579-b7f737d01b8d'}\n",
    "t_4k {'status': 'Succeeded', 'id': '8f17344c-6ef2-48c0-a6d3-9b7f39fa6f89'}\n",
    "kidney_human-organoid {'status': 'Succeeded', 'id': '1c988f53-9133-4e10-80b5-d9a5f602884b'}\n",
    "kidney_mouse-e18 {'status': 'Succeeded', 'id': 'ce9dda49-2b6e-462e-a323-78badc605ad3'}\n",
    "```"
   ]
  },
  {
   "cell_type": "markdown",
   "metadata": {
    "deletable": true,
    "editable": true
   },
   "source": [
    "## Move all the outputs to our public bucket. "
   ]
  },
  {
   "cell_type": "code",
   "execution_count": 42,
   "metadata": {
    "collapsed": true,
    "deletable": true,
    "editable": true
   },
   "outputs": [],
   "source": [
    "# these are the succeeding workflows\n",
    "workflows = {\n",
    "    \"A549_virus/10hr\":'4761f352-d5a4-4c10-852d-54cb24057021',\n",
    "    \"A549_virus/6hr\":'01c3eb26-1d20-45dd-90d1-77b58faf43f4',\n",
    "    \"A549_virus/8hr-rep2\":'9866bf21-a96b-49c2-93d4-bbd87a5ea0f2',\n",
    "    \"A549_virus/8hr\":'31c8a21e-e53a-4f04-88cb-6073cf811328',\n",
    "    \"A549_virus/uninfected\":'b4fe7d27-742f-4936-ab4f-60f14821846d',\n",
    "    \"cd14mono/donor2\":'5a42e722-c674-47ea-ade5-5bd4ebfa0696',\n",
    "    \"hgmm_12k\":'9b97f79c-8582-48d2-87b3-78936b4e45db',\n",
    "    \"hgmm_1k\":'f34bc386-5edf-4c63-b15f-ca19c3ca2a64',\n",
    "    \"hgmm_6k\":'cb6c3743-6640-443f-8981-db84430757f7',\n",
    "    \"pbmc4k\":'12a865e4-3632-4b82-99c7-84dbbd73c39b',\n",
    "    \"pbmc8k\":'32c84fc4-48dc-4aaa-943b-6a96aa7ff106',\n",
    "    \"rs_pbmc_barcoded/adt\":'658e6717-65fb-42d5-a640-7a99e5521c1d',\n",
    "    \"rs_pbmc_barcoded/hto\":'aa8d8ca9-14b1-42b0-9bc5-a28bd13f0839',\n",
    "    \"rs_pbmc_barcoded/rna\":'b6d0d002-c597-4bb3-aff4-587673f284db',\n",
    "    \"t_3k\":'92b813f7-748d-4727-a579-b7f737d01b8d',\n",
    "    \"t_4k\":'8f17344c-6ef2-48c0-a6d3-9b7f39fa6f89',\n",
    "    \"kidney_human/organoid\":'1c988f53-9133-4e10-80b5-d9a5f602884b',\n",
    "    \"kidney_mouse/e18\":'ce9dda49-2b6e-462e-a323-78badc605ad3'\n",
    "}"
   ]
  },
  {
   "cell_type": "code",
   "execution_count": 59,
   "metadata": {
    "collapsed": false,
    "deletable": true,
    "editable": true
   },
   "outputs": [
    {
     "name": "stdout",
     "output_type": "stream",
     "text": [
      "gs://hca-dcp-mint-test-data/10x/rs_pbmc_barcoded/adt/\r\n",
      "gs://hca-dcp-mint-test-data/10x/rs_pbmc_barcoded/hto/\r\n",
      "gs://hca-dcp-mint-test-data/10x/rs_pbmc_barcoded/rna/\r\n"
     ]
    }
   ],
   "source": [
    "!gsutil ls gs://hca-dcp-mint-test-data/10x/rs_pbmc_barcoded/"
   ]
  },
  {
   "cell_type": "code",
   "execution_count": 51,
   "metadata": {
    "collapsed": false,
    "deletable": true,
    "editable": true
   },
   "outputs": [],
   "source": [
    "outputs_to_produce = [\n",
    "    'Optimus.matrix_summary', \n",
    "    'Optimus.matrix',\n",
    "    'Optimus.bam',\n",
    "    'Optimus.picard_metrics'\n",
    "]\n",
    "for name, wf in workflows.items():\n",
    "    outputs = cromwell_server.outputs(wf).json()['outputs']\n",
    "    for k in outputs_to_produce:\n",
    "        output_location = outputs[k]\n",
    "        !gsutil cp -m output_location gs://hca-dcp-mint-test-data/10x/${name}/"
   ]
  }
 ],
 "metadata": {
  "hide_input": false,
  "kernelspec": {
   "display_name": "Python 3",
   "language": "python",
   "name": "python3"
  },
  "language_info": {
   "codemirror_mode": {
    "name": "ipython",
    "version": 3
   },
   "file_extension": ".py",
   "mimetype": "text/x-python",
   "name": "python",
   "nbconvert_exporter": "python",
   "pygments_lexer": "ipython3",
   "version": "3.6.0"
  },
  "nav_menu": {},
  "toc": {
   "nav_menu": {},
   "number_sections": true,
   "sideBar": true,
   "skip_h1_title": false,
   "toc_cell": false,
   "toc_position": {},
   "toc_section_display": "block",
   "toc_window_display": false
  }
 },
 "nbformat": 4,
 "nbformat_minor": 2
}

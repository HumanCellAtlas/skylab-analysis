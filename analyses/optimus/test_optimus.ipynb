{
 "cells": [
  {
   "cell_type": "code",
   "execution_count": 13,
   "metadata": {
    "collapsed": true,
    "deletable": true,
    "editable": true
   },
   "outputs": [],
   "source": [
    "import json\n",
    "import os\n",
    "from google.cloud import storage\n",
    "import cromwell_manager as cwm\n",
    "\n",
    "with open(os.path.expanduser('~/.ssh/mint_cromwell_config.json')) as f:\n",
    "    cromwell_server = cwm.Cromwell(**json.load(f))\n",
    "\n",
    "storage_client = storage.Client(project='broad-dsde-mint-dev')\n",
    "\n",
    "os.environ['wdltool'] = '/Users/ajc/google_drive/software/wdltool-0.14.jar'"
   ]
  },
  {
   "cell_type": "code",
   "execution_count": 15,
   "metadata": {
    "collapsed": false,
    "deletable": true,
    "editable": true
   },
   "outputs": [
    {
     "name": "stdout",
     "output_type": "stream",
     "text": [
      "{\r\n",
      "  \"Optimus.fastq_inputs\": [\r\n",
      "    [\r\n",
      "      \"gs://broad-dsde-mint-dev-teststorage/10x/demo/fastqs/pbmc8k_S1_L007_R1_001.fastq.gz\",\r\n",
      "      \"gs://broad-dsde-mint-dev-teststorage/10x/demo/fastqs/pbmc8k_S1_L007_R2_001.fastq.gz\",\r\n",
      "      \"gs://broad-dsde-mint-dev-teststorage/10x/demo/fastqs/pbmc8k_S1_L007_I1_001.fastq.gz\"\r\n",
      "    ],\r\n",
      "    [\r\n",
      "      \"gs://broad-dsde-mint-dev-teststorage/10x/demo/fastqs/pbmc8k_S1_L007_R1_001.fastq.gz\",\r\n",
      "      \"gs://broad-dsde-mint-dev-teststorage/10x/demo/fastqs/pbmc8k_S1_L007_R2_001.fastq.gz\",\r\n",
      "      \"gs://broad-dsde-mint-dev-teststorage/10x/demo/fastqs/pbmc8k_S1_L007_I1_001.fastq.gz\"\r\n",
      "    ]\r\n",
      "  ],\r\n",
      "  \"Optimus.whitelist\": \"gs://broad-dsde-mint-dev-teststorage/10x/whitelist/737K-august-2016.txt\",\r\n",
      "  \"Optimus.tar_star_reference\": \"gs://broad-dsde-mint-dev-teststorage/demo/star.tar\",\r\n",
      "  \"Optimus.sample_id\": \"pbmc8k_test\",\r\n",
      "  \"Optimus.annotations_gtf\": \"gs://broad-dsde-mint-dev-teststorage/reference/hg19_ds/GSM1629193_hg19_ERCC.gtf.gz\",\r\n",
      "  \"Optimus.ref_genome_fasta\": \"gs://broad-dsde-mint-dev-teststorage/demo/chr21.fa\"\r\n",
      "}\r\n"
     ]
    }
   ],
   "source": [
    "cat example_test_inputs.json"
   ]
  },
  {
   "cell_type": "code",
   "execution_count": 19,
   "metadata": {
    "collapsed": true,
    "deletable": true,
    "editable": true
   },
   "outputs": [],
   "source": [
    "inputs_json = {\n",
    "    \"Optimus.fastq_inputs\": [\n",
    "      [\n",
    "          \"gs://broad-dsde-mint-dev-teststorage/10x/pbmc8k/fastqs/pbmc8k_S1_L007_R1_001.fastq.gz\",\n",
    "          \"gs://broad-dsde-mint-dev-teststorage/10x/pbmc8k/fastqs/pbmc8k_S1_L007_R2_001.fastq.gz\",\n",
    "          \"gs://broad-dsde-mint-dev-teststorage/10x/pbmc8k/fastqs/pbmc8k_S1_L007_I1_001.fastq.gz\"\n",
    "      ],\n",
    "      [\n",
    "          \"gs://broad-dsde-mint-dev-teststorage/10x/pbmc8k/fastqs/pbmc8k_S1_L008_R1_001.fastq.gz\",\n",
    "          \"gs://broad-dsde-mint-dev-teststorage/10x/pbmc8k/fastqs/pbmc8k_S1_L008_R2_001.fastq.gz\",\n",
    "          \"gs://broad-dsde-mint-dev-teststorage/10x/pbmc8k/fastqs/pbmc8k_S1_L008_I1_001.fastq.gz\"\n",
    "      ]\n",
    "    ],\n",
    "    \"Optimus.whitelist\": \"gs://broad-dsde-mint-dev-teststorage/10x/whitelist/737K-august-2016.txt\",\n",
    "    \"Optimus.tar_star_reference\": \"gs://broad-dsde-mint-dev-teststorage/demo/star.tar\",\n",
    "    \"Optimus.sample_id\": \"pbmc8k_test\",\n",
    "    \"Optimus.annotations_gtf\": \"gs://broad-dsde-mint-dev-teststorage/reference/hg19_ds/GSM1629193_hg19_ERCC.gtf.gz\",\n",
    "    \"Optimus.ref_genome_fasta\": \"gs://broad-dsde-mint-dev-teststorage/demo/chr21.fa\"\n",
    "}\n",
    "\n",
    "wdl = \"Optimus.wdl\"\n",
    "\n",
    "workflow_dependencies = {\n",
    "    'Optimus.wdl': '../optimus/Optimus.wdl',\n",
    "    \"StarAlignBamSingleEnd.wdl\": \"../pipelines/tasks/StarAlignBamSingleEnd.wdl\",\n",
    "    \"FastqToUBam.wdl\": \"../pipelines/tasks/FastqToUBam.wdl\",\n",
    "    \"Attach10xBarcodes.wdl\": \"../pipelines/tasks/Attach10xBarcodes.wdl\",\n",
    "    \"SplitBamByCellBarcode.wdl\": \"../pipelines/tasks/SplitBamByCellBarcode.wdl\",\n",
    "    \"TagGeneExon.wdl\": \"../pipelines/tasks/TagGeneExon.wdl\",\n",
    "    \"CorrectUmiMarkDuplicates.wdl\": \"../pipelines/tasks/CorrectUmiMarkDuplicates.wdl\",\n",
    "    \"CollectMultiplePicardMetrics.wdl\": \"../pipelines/tasks/CollectMultiplePicardMetrics.wdl\",\n",
    "    \"MergeSortBam.wdl\": \"../pipelines/tasks/MergeSortBam.wdl\",\n",
    "    \"CreateCountMatrix.wdl\": \"../pipelines/tasks/CreateCountMatrix.wdl\",\n",
    "    \"AlignTagCorrectUmis.wdl\": \"../optimus/AlignTagCorrectUmis.wdl\"    \n",
    "}"
   ]
  },
  {
   "cell_type": "code",
   "execution_count": 39,
   "metadata": {
    "collapsed": false,
    "deletable": true,
    "editable": true
   },
   "outputs": [
    {
     "name": "stdout",
     "output_type": "stream",
     "text": [
      "CWM:2018-01-08 20:07:42.953779:creating temporary directory\n",
      "CWM:2018-01-08 20:07:42.954540:writing dependencies\n",
      "CWM:2018-01-08 20:07:42.968711:writing wdl\n",
      "CWM:2018-01-08 20:07:42.969804:running wdltool validate\n",
      "Error: Unable to access jarfile /Users/ajc/google_drive/software/wdltool-0.14.jar\n",
      "\n",
      "CWM:2018-01-08 20:07:43.482615:checking docker image humancellatlas/picard:2.10.10... OK.\n",
      "CWM:2018-01-08 20:07:43.777050:checking docker image humancellatlas/dropseqtools:1.12... OK.\n",
      "CWM:2018-01-08 20:07:45.049217:checking docker image humancellatlas/samtools:1.3.1... OK.\n",
      "CWM:2018-01-08 20:07:45.765581:checking docker image humancellatlas/python3-scientific:0.1.5... OK.\n",
      "CWM:2018-01-08 20:07:45.996618:checking docker image us.gcr.io/broad-gotc-prod/genomes-in-the-cloud:2.3.3-1513176735... not found. Is image private?\n",
      "CWM:2018-01-08 20:07:46.299912:checking docker image humancellatlas/star:2.5.3a-40ead6e... OK.\n"
     ]
    }
   ],
   "source": [
    "cwm.Workflow.validate(\n",
    "    wdl=wdl,\n",
    "    inputs_json=inputs_json,\n",
    "    storage_client=storage_client,\n",
    "    workflow_dependencies=workflow_dependencies,\n",
    "    cromwell_server=cromwell_server)"
   ]
  },
  {
   "cell_type": "code",
   "execution_count": 40,
   "metadata": {
    "collapsed": true,
    "deletable": true,
    "editable": true
   },
   "outputs": [],
   "source": [
    "wf = cwm.Workflow.from_submission(\n",
    "    wdl=wdl,\n",
    "    inputs_json=inputs_json,\n",
    "    storage_client=storage_client,\n",
    "    workflow_dependencies=workflow_dependencies,\n",
    "    cromwell_server=cromwell_server)"
   ]
  },
  {
   "cell_type": "code",
   "execution_count": 46,
   "metadata": {
    "collapsed": false,
    "deletable": true,
    "editable": true
   },
   "outputs": [
    {
     "data": {
      "text/plain": [
       "{'id': 'fb314e86-5943-41cb-9ec9-361ed92f4833', 'status': 'Succeeded'}"
      ]
     },
     "execution_count": 46,
     "metadata": {},
     "output_type": "execute_result"
    }
   ],
   "source": [
    "wf.status"
   ]
  },
  {
   "cell_type": "code",
   "execution_count": 44,
   "metadata": {
    "collapsed": false,
    "deletable": true,
    "editable": true
   },
   "outputs": [
    {
     "data": {
      "text/plain": [
       "<Response [200]>"
      ]
     },
     "execution_count": 44,
     "metadata": {},
     "output_type": "execute_result"
    }
   ],
   "source": [
    "cromwell_server.metadata(wf.id, open_browser=True)"
   ]
  },
  {
   "cell_type": "code",
   "execution_count": 4,
   "metadata": {
    "collapsed": true,
    "deletable": true,
    "editable": true
   },
   "outputs": [],
   "source": [
    "wf.timing()"
   ]
  },
  {
   "cell_type": "code",
   "execution_count": null,
   "metadata": {
    "collapsed": true,
    "deletable": true,
    "editable": true
   },
   "outputs": [],
   "source": []
  }
 ],
 "metadata": {
  "hide_input": false,
  "kernelspec": {
   "display_name": "Python 3",
   "language": "python",
   "name": "python3"
  },
  "language_info": {
   "codemirror_mode": {
    "name": "ipython",
    "version": 3
   },
   "file_extension": ".py",
   "mimetype": "text/x-python",
   "name": "python",
   "nbconvert_exporter": "python",
   "pygments_lexer": "ipython3",
   "version": "3.6.0"
  },
  "nav_menu": {},
  "toc": {
   "nav_menu": {},
   "number_sections": true,
   "sideBar": true,
   "skip_h1_title": false,
   "toc_cell": false,
   "toc_position": {},
   "toc_section_display": "block",
   "toc_window_display": false
  }
 },
 "nbformat": 4,
 "nbformat_minor": 2
}

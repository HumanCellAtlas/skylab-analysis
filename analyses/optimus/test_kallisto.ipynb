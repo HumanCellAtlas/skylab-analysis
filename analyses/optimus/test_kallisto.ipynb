{
 "cells": [
  {
   "cell_type": "code",
   "execution_count": 1,
   "metadata": {
    "collapsed": true,
    "deletable": true,
    "editable": true
   },
   "outputs": [],
   "source": [
    "# for workflow management\n",
    "import json\n",
    "import os\n",
    "from google.cloud import storage\n",
    "import cromwell_manager as cwm\n",
    "\n",
    "with open(os.path.expanduser('~/.ssh/mint_cromwell_config.json')) as f:\n",
    "    cromwell_server = cwm.Cromwell(**json.load(f))\n",
    "\n",
    "storage_client = storage.Client(project='broad-dsde-mint-dev')"
   ]
  },
  {
   "cell_type": "code",
   "execution_count": 2,
   "metadata": {
    "collapsed": false,
    "deletable": true,
    "editable": true
   },
   "outputs": [],
   "source": [
    "# later this will be set!\n",
    "os.environ['wdltool'] = os.path.expanduser('~/google_drive/software/wdltool-0.14.jar')"
   ]
  },
  {
   "cell_type": "markdown",
   "metadata": {
    "collapsed": false,
    "deletable": true,
    "editable": true
   },
   "source": [
    "## Create an UMI file for testing\n",
    "\n",
    "Mock up an UMI file with randomers; kallisto expects a newline-separated file with only one umi on each line. Upload this to the bucket. "
   ]
  },
  {
   "cell_type": "code",
   "execution_count": null,
   "metadata": {
    "collapsed": true,
    "deletable": true,
    "editable": true
   },
   "outputs": [],
   "source": [
    "import sctools\n",
    "rd = sctools.fastq.Reader('/Users/carra1/local_test_data/SRR1295257_1.fastq.gz', 'r')\n",
    "file_length = len(rd)\n",
    "\n",
    "import random\n",
    "alphabet = 'ACGT'\n",
    "with open('/Users/carra1/local_test_data/umis.txt', 'w') as f:\n",
    "    for _ in range(file_length):\n",
    "        f.write(''.join(random.choices(alphabet, k=4)) + '\\n')"
   ]
  },
  {
   "cell_type": "code",
   "execution_count": 20,
   "metadata": {
    "collapsed": false,
    "deletable": true,
    "editable": true
   },
   "outputs": [
    {
     "name": "stdout",
     "output_type": "stream",
     "text": [
      "Copying file:///Users/carra1/local_test_data/umis.txt [Content-Type=text/plain]...\n",
      "\\ [1 files][  4.4 MiB/  4.4 MiB]                                                \n",
      "Operation completed over 1 objects/4.4 MiB.                                      \n"
     ]
    }
   ],
   "source": [
    "!gsutil cp ~/local_test_data/umis.txt gs://broad-dsde-mint-dev-teststorage/patel_ap/SRR1295257_mock_umis.txt"
   ]
  },
  {
   "cell_type": "markdown",
   "metadata": {
    "deletable": true,
    "editable": true
   },
   "source": [
    "## Run the test wdl"
   ]
  },
  {
   "cell_type": "code",
   "execution_count": 10,
   "metadata": {
    "collapsed": false,
    "deletable": true,
    "editable": true
   },
   "outputs": [],
   "source": [
    "inputs_json = {\n",
    "    \"test_kallisto.transcriptome_fasta\": \"gs://broad-dsde-mint-dev-teststorage/reference/GRCh38_Gencode/gencode.v27.transcripts.fa.gz\",\n",
    "    \"test_kallisto.r1\": \"gs://broad-dsde-mint-dev-teststorage/patel_ap/SRR1295257_1.fastq.gz\",\n",
    "    \"test_kallisto.r2\": \"gs://broad-dsde-mint-dev-teststorage/patel_ap/SRR1295257_2.fastq.gz\",\n",
    "    \"test_kallisto.umi\": \"gs://broad-dsde-mint-dev-teststorage/patel_ap/SRR1295257_mock_umis.txt\",\n",
    "    \"test_kallisto.k\": 15,\n",
    "}\n",
    "\n",
    "wdl = 'test_kallisto.wdl'\n",
    "\n",
    "dependencies = {\n",
    "    'Kallisto.wdl': '../pipelines/tasks/Kallisto.wdl',\n",
    "}"
   ]
  },
  {
   "cell_type": "code",
   "execution_count": 15,
   "metadata": {
    "collapsed": false,
    "deletable": true,
    "editable": true
   },
   "outputs": [
    {
     "name": "stdout",
     "output_type": "stream",
     "text": [
      "CWM:2017-11-13 23:22:55.023595:creating temporary directory\n",
      "CWM:2017-11-13 23:22:55.024036:writing dependencies\n",
      "CWM:2017-11-13 23:22:55.035982:writing wdl\n",
      "CWM:2017-11-13 23:22:55.036902:running wdltool validate\n",
      "CWM:2017-11-13 23:22:56.415079:validation successful\n",
      "CWM:2017-11-13 23:22:56.897222:checking docker image humancellatlas/kallisto:0.43.1... OK.\n"
     ]
    }
   ],
   "source": [
    "cwm.Workflow.validate(\n",
    "    wdl=wdl, inputs_json=inputs_json, cromwell_server=cromwell_server, storage_client=storage_client,\n",
    "    workflow_dependencies=dependencies)"
   ]
  },
  {
   "cell_type": "code",
   "execution_count": 16,
   "metadata": {
    "collapsed": false,
    "deletable": true,
    "editable": true
   },
   "outputs": [],
   "source": [
    "test_kallisto = cwm.Workflow.from_submission(\n",
    "    wdl=wdl, inputs_json=inputs_json, cromwell_server=cromwell_server, storage_client=storage_client,\n",
    "    workflow_dependencies=dependencies)"
   ]
  },
  {
   "cell_type": "code",
   "execution_count": 17,
   "metadata": {
    "collapsed": false,
    "deletable": true,
    "editable": true
   },
   "outputs": [
    {
     "data": {
      "text/plain": [
       "{'id': '2d57ff39-b10d-4a6d-8ed3-acdd478eff48', 'status': 'Succeeded'}"
      ]
     },
     "execution_count": 17,
     "metadata": {},
     "output_type": "execute_result"
    }
   ],
   "source": [
    "test_kallisto.status"
   ]
  },
  {
   "cell_type": "markdown",
   "metadata": {},
   "source": [
    "## Verify the outputs"
   ]
  },
  {
   "cell_type": "code",
   "execution_count": 19,
   "metadata": {
    "collapsed": false
   },
   "outputs": [
    {
     "data": {
      "text/plain": [
       "{'id': '2d57ff39-b10d-4a6d-8ed3-acdd478eff48',\n",
       " 'outputs': {'test_kallisto.Mkref.index': 'gs://broad-dsde-mint-dev-cromwell-execution/cromwell-executions/test_kallisto/2d57ff39-b10d-4a6d-8ed3-acdd478eff48/call-Mkref/kallisto.idx',\n",
       "  'test_kallisto.PseudoSingleEndUMI.pseudo_cells': 'gs://broad-dsde-mint-dev-cromwell-execution/cromwell-executions/test_kallisto/2d57ff39-b10d-4a6d-8ed3-acdd478eff48/call-PseudoSingleEndUMI/matrix.cells',\n",
       "  'test_kallisto.PseudoSingleEndUMI.pseudo_ec': 'gs://broad-dsde-mint-dev-cromwell-execution/cromwell-executions/test_kallisto/2d57ff39-b10d-4a6d-8ed3-acdd478eff48/call-PseudoSingleEndUMI/matrix.ec',\n",
       "  'test_kallisto.PseudoSingleEndUMI.pseudo_tsv': 'gs://broad-dsde-mint-dev-cromwell-execution/cromwell-executions/test_kallisto/2d57ff39-b10d-4a6d-8ed3-acdd478eff48/call-PseudoSingleEndUMI/matrix.tsv',\n",
       "  'test_kallisto.PseudoSingleEndUMI.run_log': 'gs://broad-dsde-mint-dev-cromwell-execution/cromwell-executions/test_kallisto/2d57ff39-b10d-4a6d-8ed3-acdd478eff48/call-PseudoSingleEndUMI/run_info.json',\n",
       "  'test_kallisto.QuantPairedEnd.abundance_h5': 'gs://broad-dsde-mint-dev-cromwell-execution/cromwell-executions/test_kallisto/2d57ff39-b10d-4a6d-8ed3-acdd478eff48/call-QuantPairedEnd/abundance.h5',\n",
       "  'test_kallisto.QuantPairedEnd.abundance_tsv': 'gs://broad-dsde-mint-dev-cromwell-execution/cromwell-executions/test_kallisto/2d57ff39-b10d-4a6d-8ed3-acdd478eff48/call-QuantPairedEnd/abundance.tsv',\n",
       "  'test_kallisto.QuantPairedEnd.bam': 'gs://broad-dsde-mint-dev-cromwell-execution/cromwell-executions/test_kallisto/2d57ff39-b10d-4a6d-8ed3-acdd478eff48/call-QuantPairedEnd/pseudo.bam',\n",
       "  'test_kallisto.QuantPairedEnd.log': 'gs://broad-dsde-mint-dev-cromwell-execution/cromwell-executions/test_kallisto/2d57ff39-b10d-4a6d-8ed3-acdd478eff48/call-QuantPairedEnd/run_info.json',\n",
       "  'test_kallisto.QuantSingleEnd.abundance_h5': 'gs://broad-dsde-mint-dev-cromwell-execution/cromwell-executions/test_kallisto/2d57ff39-b10d-4a6d-8ed3-acdd478eff48/call-QuantSingleEnd/abundance.h5',\n",
       "  'test_kallisto.QuantSingleEnd.abundance_tsv': 'gs://broad-dsde-mint-dev-cromwell-execution/cromwell-executions/test_kallisto/2d57ff39-b10d-4a6d-8ed3-acdd478eff48/call-QuantSingleEnd/abundance.tsv',\n",
       "  'test_kallisto.QuantSingleEnd.log': 'gs://broad-dsde-mint-dev-cromwell-execution/cromwell-executions/test_kallisto/2d57ff39-b10d-4a6d-8ed3-acdd478eff48/call-QuantSingleEnd/run_info.json',\n",
       "  'test_kallisto.QuantSingleEnd.sam': 'gs://broad-dsde-mint-dev-cromwell-execution/cromwell-executions/test_kallisto/2d57ff39-b10d-4a6d-8ed3-acdd478eff48/call-QuantSingleEnd/pseudo.bam'}}"
      ]
     },
     "execution_count": 19,
     "metadata": {},
     "output_type": "execute_result"
    }
   ],
   "source": [
    "test_kallisto.outputs"
   ]
  },
  {
   "cell_type": "markdown",
   "metadata": {},
   "source": [
    "### Verify PseudoSingleEndUMI\n",
    "pseudo single-end umi should produce pseudo results only; given that I mocked up a random UMI file, I don't expect to see much overlap between multiple transcripts"
   ]
  },
  {
   "cell_type": "code",
   "execution_count": 23,
   "metadata": {
    "collapsed": false
   },
   "outputs": [
    {
     "name": "stdout",
     "output_type": "stream",
     "text": [
      "{\n",
      "\t\"n_targets\": 200401,\n",
      "\t\"n_bootstraps\": 0,\n",
      "\t\"n_processed\": 913447,\n",
      "\t\"kallisto_version\": \"0.43.1\",\n",
      "\t\"index_version\": 10,\n",
      "\t\"start_time\": \"Tue Nov 14 04:51:01 2017\",\n",
      "\t\"call\": \"kallisto pseudo --index /cromwell_root/broad-dsde-mint-dev-cromwell-execution/cromwell-executions/test_kallisto/2d57ff39-b10d-4a6d-8ed3-acdd478eff48/call-Mkref/kallisto.idx --output-dir . --single --umi --threads 4 --batch batch.txt\"\n",
      "}\n"
     ]
    }
   ],
   "source": [
    "%%bash\n",
    "# look at pseudo single-end umi log\n",
    "gsutil cat gs://broad-dsde-mint-dev-cromwell-execution/cromwell-executions/test_kallisto/2d57ff39-b10d-4a6d-8ed3-acdd478eff48/call-PseudoSingleEndUMI/run_info.json"
   ]
  },
  {
   "cell_type": "markdown",
   "metadata": {},
   "source": [
    "Visualize first 10 lines of .ec (equivalence class) file. This is a two column file of read_index and ec_index. We expect this to mostly contain matched indices at the beginning of the file."
   ]
  },
  {
   "cell_type": "code",
   "execution_count": 24,
   "metadata": {
    "collapsed": false
   },
   "outputs": [
    {
     "name": "stdout",
     "output_type": "stream",
     "text": [
      "0\t0\n",
      "1\t1\n",
      "2\t2\n",
      "3\t3\n",
      "4\t4\n",
      "5\t5\n",
      "6\t6\n",
      "7\t7\n",
      "8\t8\n",
      "9\t9\n"
     ]
    }
   ],
   "source": [
    "# look at first 10 lines of file\n",
    "!gsutil cat gs://broad-dsde-mint-dev-cromwell-execution/cromwell-executions/test_kallisto/2d57ff39-b10d-4a6d-8ed3-acdd478eff48/call-PseudoSingleEndUMI/matrix.ec | head -n 10"
   ]
  },
  {
   "cell_type": "code",
   "execution_count": 26,
   "metadata": {
    "collapsed": false,
    "deletable": true,
    "editable": true
   },
   "outputs": [
    {
     "name": "stdout",
     "output_type": "stream",
     "text": [
      "90\t0\t3\r\n",
      "96\t0\t65\r\n",
      "126\t0\t7\r\n",
      "129\t0\t2\r\n",
      "140\t0\t1\r\n",
      "261\t0\t2\r\n",
      "271\t0\t5\r\n",
      "303\t0\t1\r\n",
      "330\t0\t2\r\n",
      "433\t0\t1\r\n"
     ]
    }
   ],
   "source": [
    "# look at ec class counts -- visualizing number of UMIs mapped (column 2) to each EC (column 0). I don't know what the column 1 means yet.\n",
    "# note the lack of column headers. :(\n",
    "!gsutil cat gs://broad-dsde-mint-dev-cromwell-execution/cromwell-executions/test_kallisto/2d57ff39-b10d-4a6d-8ed3-acdd478eff48/call-PseudoSingleEndUMI/matrix.tsv | head -n 10"
   ]
  },
  {
   "cell_type": "markdown",
   "metadata": {},
   "source": [
    "### verify QuantSingleEnd & QuantPairedEnd \n",
    "Here, we just want to see pseudobam outputs; the samtools view error is expected; it is the result of piping to head"
   ]
  },
  {
   "cell_type": "code",
   "execution_count": 28,
   "metadata": {
    "collapsed": false
   },
   "outputs": [
    {
     "name": "stdout",
     "output_type": "stream",
     "text": [
      "GLPB22-B5C:585:h0tpladxx:1:1101:3628:2241\t4\t*\t0\t0\t*\t*\t0\t0\tTCCTGGAAGCAGGGCATTTGTTGCT\t@BCFFFFFHHHGHJJJJJJIJJJJI\r\n",
      "GLPB22-B5C:585:h0tpladxx:1:1101:6746:2219\t4\t*\t0\t0\t*\t*\t0\t0\tTTTCAGTACAGAGTAGATACAGAAT\t?@@DDDDDHHHHGCFH@GEHIIIIH\r\n",
      "GLPB22-B5C:585:h0tpladxx:1:1101:8068:2250\t4\t*\t0\t0\t*\t*\t0\t0\tTTGCTGGCGCGCGTGCGTTCATTGC\t@BBDDFFFHFHHHEFGHGHIIJJJE\r\n",
      "GLPB22-B5C:585:h0tpladxx:1:1101:11075:2200\t16\tENST00000581862.5|ENSG00000263711.5|OTTHUMG00000178984.2|OTTHUMT00000444214.2|AC079062.1-203|AC079062.1|3610|lincRNA|\t661\t255\t25M\t*\t0\t0\tATACCACTGCTTATCCCATGTACTC\tJFAIGHHJJIGJHHHHHFFFDFCCB\tNH:i:1\r\n",
      "GLPB22-B5C:585:h0tpladxx:1:1101:15295:2242\t16\tENST00000338432.11|ENSG00000076555.15|OTTHUMG00000169250.5|OTTHUMT00000403077.1|ACACB-201|ACACB|9360|protein_coding|\t1033\t255\t25M\t*\t0\t0\tGTATCAACGCAGAGTACATAAGCAG\tGIGCJJIJIGHJHGHHHFFFFFCC@\tNH:i:4\r\n",
      "GLPB22-B5C:585:h0tpladxx:1:1101:15295:2242\t272\tENST00000377854.9|ENSG00000076555.15|OTTHUMG00000169250.5|-|ACACB-203|ACACB|6588|protein_coding|\t923\t255\t25M\t*\t0\t0\tGTATCAACGCAGAGTACATAAGCAG\tGIGCJJIJIGHJHGHHHFFFFFCC@\tNH:i:4\r\n",
      "GLPB22-B5C:585:h0tpladxx:1:1101:15295:2242\t272\tENST00000377848.7|ENSG00000076555.15|OTTHUMG00000169250.5|-|ACACB-202|ACACB|9247|protein_coding|\t923\t255\t25M\t*\t0\t0\tGTATCAACGCAGAGTACATAAGCAG\tGIGCJJIJIGHJHGHHHFFFFFCC@\tNH:i:4\r\n",
      "GLPB22-B5C:585:h0tpladxx:1:1101:15295:2242\t272\tENST00000544726.2|ENSG00000076555.15|OTTHUMG00000169250.5|OTTHUMT00000403080.3|ACACB-214|ACACB|678|protein_coding|\t520\t255\t25M\t*\t0\t0\tGTATCAACGCAGAGTACATAAGCAG\tGIGCJJIJIGHJHGHHHFFFFFCC@\tNH:i:4\r\n",
      "GLPB22-B5C:585:h0tpladxx:1:1101:15512:2175\t4\t*\t0\t0\t*\t*\t0\t0\tGGAAAGGCCACTGAATTAGGTTATC\tBC@FFFFFHHHHHJJJJJJJHIJJ,\r\n",
      "GLPB22-B5C:585:h0tpladxx:1:1101:16777:2244\t4\t*\t0\t0\t*\t*\t0\t0\tAATGAGAGAGGTGCCTGGGGTCCCT\t@B@DDFDFHHHFHIJJJJJJGIJJJ\r\n",
      "samtools view: writing to standard output failed: Broken pipe\r\n",
      "samtools view: error closing standard output: -1\r\n"
     ]
    }
   ],
   "source": [
    "# view single end\n",
    "!gsutil cat gs://broad-dsde-mint-dev-cromwell-execution/cromwell-executions/test_kallisto/2d57ff39-b10d-4a6d-8ed3-acdd478eff48/call-QuantSingleEnd/pseudo.bam | samtools view | head -n 10"
   ]
  },
  {
   "cell_type": "code",
   "execution_count": 27,
   "metadata": {
    "collapsed": false,
    "deletable": true,
    "editable": true
   },
   "outputs": [
    {
     "name": "stdout",
     "output_type": "stream",
     "text": [
      "GLPB22-B5C:585:h0tpladxx:1:1101:3628:2241\t77\t*\t0\t0\t*\t*\t0\t0\tTCCTGGAAGCAGGGCATTTGTTGCT\t@BCFFFFFHHHGHJJJJJJIJJJJI\r\n",
      "GLPB22-B5C:585:h0tpladxx:1:1101:3628:2241\t141\t*\t0\t0\t*\t*\t0\t0\tGTGNTACNNNNNNNNNNNNNNNNNN\t<;<#2=@##################\r\n",
      "GLPB22-B5C:585:h0tpladxx:1:1101:6746:2219\t77\t*\t0\t0\t*\t*\t0\t0\tTTTCAGTACAGAGTAGATACAGAAT\t?@@DDDDDHHHHGCFH@GEHIIIIH\r\n",
      "GLPB22-B5C:585:h0tpladxx:1:1101:6746:2219\t141\t*\t0\t0\t*\t*\t0\t0\tNNNNNNNNNNNNNNNNNNNNNNNNN\t#########################\r\n",
      "GLPB22-B5C:585:h0tpladxx:1:1101:8068:2250\t77\t*\t0\t0\t*\t*\t0\t0\tTTGCTGGCGCGCGTGCGTTCATTGC\t@BBDDFFFHFHHHEFGHGHIIJJJE\r\n",
      "GLPB22-B5C:585:h0tpladxx:1:1101:8068:2250\t141\t*\t0\t0\t*\t*\t0\t0\tGTTCTGCATGAAAATTTCCAGNNNN\t<;<?@@@@@@??@@@???>?@####\r\n",
      "GLPB22-B5C:585:h0tpladxx:1:1101:11075:2200\t89\tENST00000581862.5|ENSG00000263711.5|OTTHUMG00000178984.2|OTTHUMT00000444214.2|AC079062.1-203|AC079062.1|3610|lincRNA|\t661\t255\t25M\t=\t661\t0\tATACCACTGCTTATCCCATGTACTC\tJFAIGHHJJIGJHHHHHFFFDFCCB\tNH:i:1\r\n",
      "GLPB22-B5C:585:h0tpladxx:1:1101:11075:2200\t165\tENST00000581862.5|ENSG00000263711.5|OTTHUMG00000178984.2|OTTHUMT00000444214.2|AC079062.1-203|AC079062.1|3610|lincRNA|\t661\t0\t*\t=\t661\t0\tNNNNNNNNNNNNNNNNNNNNNNNNN\t#########################\tNH:i:1\r\n",
      "GLPB22-B5C:585:h0tpladxx:1:1101:15295:2242\t89\tENST00000338432.11|ENSG00000076555.15|OTTHUMG00000169250.5|OTTHUMT00000403077.1|ACACB-201|ACACB|9360|protein_coding|\t1033\t255\t25M\t=\t1033\t0\tGTATCAACGCAGAGTACATAAGCAG\tGIGCJJIJIGHJHGHHHFFFFFCC@\tNH:i:4\r\n",
      "GLPB22-B5C:585:h0tpladxx:1:1101:15295:2242\t345\tENST00000377854.9|ENSG00000076555.15|OTTHUMG00000169250.5|-|ACACB-203|ACACB|6588|protein_coding|\t923\t255\t25M\t=\t923\t0\tGTATCAACGCAGAGTACATAAGCAG\tGIGCJJIJIGHJHGHHHFFFFFCC@\tNH:i:4\r\n",
      "samtools view: writing to standard output failed: Broken pipe\r\n",
      "samtools view: error closing standard output: -1\r\n"
     ]
    }
   ],
   "source": [
    "# view paired end\n",
    "!gsutil cat gs://broad-dsde-mint-dev-cromwell-execution/cromwell-executions/test_kallisto/2d57ff39-b10d-4a6d-8ed3-acdd478eff48/call-QuantPairedEnd/pseudo.bam | samtools view | head -n 10"
   ]
  }
 ],
 "metadata": {
  "hide_input": false,
  "kernelspec": {
   "display_name": "Python 3",
   "language": "python",
   "name": "python3"
  },
  "language_info": {
   "codemirror_mode": {
    "name": "ipython",
    "version": 3
   },
   "file_extension": ".py",
   "mimetype": "text/x-python",
   "name": "python",
   "nbconvert_exporter": "python",
   "pygments_lexer": "ipython3",
   "version": "3.6.0"
  },
  "nav_menu": {},
  "toc": {
   "nav_menu": {},
   "number_sections": true,
   "sideBar": true,
   "skip_h1_title": false,
   "toc_cell": false,
   "toc_position": {},
   "toc_section_display": "block",
   "toc_window_display": false
  }
 },
 "nbformat": 4,
 "nbformat_minor": 2
}

{
 "cells": [
  {
   "cell_type": "markdown",
   "metadata": {},
   "source": [
    "# Get input data from the two pipelines"
   ]
  },
  {
   "cell_type": "code",
   "execution_count": 6,
   "metadata": {},
   "outputs": [
    {
     "name": "stdout",
     "output_type": "stream",
     "text": [
      "Copying gs://hca-dcp-mint-test-data/10x/pbmc8k/digital_expression.txt.gz...\n",
      "/ [1 files][ 95.5 MiB/ 95.5 MiB]                                                \n",
      "Operation completed over 1 objects/95.5 MiB.                                     \n"
     ]
    }
   ],
   "source": [
    "!gsutil cp gs://hca-dcp-mint-test-data/10x/pbmc8k/digital_expression.txt.gz optimus_pbmc8k.txt.gz "
   ]
  },
  {
   "cell_type": "code",
   "execution_count": 9,
   "metadata": {},
   "outputs": [
    {
     "name": "stdout",
     "output_type": "stream",
     "text": [
      "  % Total    % Received % Xferd  Average Speed   Time    Time     Time  Current\n",
      "                                 Dload  Upload   Total   Spent    Left  Speed\n",
      "100 35.8M  100 35.8M    0     0  7881k      0  0:00:04  0:00:04 --:--:-- 7882k\n"
     ]
    }
   ],
   "source": [
    "!curl -o 10x_pbmc8k.tar.gz http://cf.10xgenomics.com/samples/cell-exp/2.1.0/pbmc8k/pbmc8k_filtered_gene_bc_matrices.tar.gz"
   ]
  },
  {
   "cell_type": "code",
   "execution_count": 13,
   "metadata": {},
   "outputs": [],
   "source": [
    "!tar -xzf 10x_pbmc8k.tar.gz"
   ]
  },
  {
   "cell_type": "markdown",
   "metadata": {},
   "source": [
    "# Pre-process the data"
   ]
  },
  {
   "cell_type": "code",
   "execution_count": 32,
   "metadata": {},
   "outputs": [],
   "source": [
    "import scipy.sparse as sp\n",
    "import scanpy.api as sc\n",
    "import pandas as pd\n",
    "import numpy as np"
   ]
  },
  {
   "cell_type": "code",
   "execution_count": 61,
   "metadata": {},
   "outputs": [],
   "source": [
    "import matplotlib.pyplot as plt\n",
    "%matplotlib inline\n",
    "import seaborn as sns\n",
    "plt.style.use('seaborn-notebook')"
   ]
  },
  {
   "cell_type": "markdown",
   "metadata": {},
   "source": [
    "This code translates the awful dense matrix into something sparse that we can operate over. "
   ]
  },
  {
   "cell_type": "code",
   "execution_count": 31,
   "metadata": {},
   "outputs": [],
   "source": [
    "row = []\n",
    "col = []\n",
    "val = []\n",
    "with open('optimus_pbmc8k.txt', 'r') as f:\n",
    "    \n",
    "    line_iterator = iter(f)\n",
    "    row_ids = next(f).strip().split()[1:]\n",
    "    col_ids = []\n",
    "    \n",
    "    for col_index, line in enumerate(line_iterator): \n",
    "        header, *data = line.strip().split()\n",
    "        col_ids.append(header)\n",
    "        data = np.fromiter(data, dtype=np.int32)\n",
    "        row_inds = np.where(data)[0]\n",
    "        vals = data[row_inds]\n",
    "        row.extend(row_inds)\n",
    "        col.extend([col_index] * row_inds.shape[0])\n",
    "        val.extend(vals)\n",
    "        if not col_index % 1000: \n",
    "            pass\n",
    "#             print('%d columns parsed' % col_index)"
   ]
  },
  {
   "cell_type": "markdown",
   "metadata": {},
   "source": [
    "Take the row, col, val and use those arrays to construct a coordinate sparse data structure. We then immediately wrap this in scanpy AnnData object. "
   ]
  },
  {
   "cell_type": "code",
   "execution_count": 34,
   "metadata": {},
   "outputs": [],
   "source": [
    "coo = sp.coo_matrix((val, (row,col)), dtype=np.int32)\n",
    "col_ids = pd.read_csv('./row_ids.txt', header=0, squeeze=True)\n",
    "adata = sc.AnnData(coo, obs=row_ids[1:], var=col_ids)"
   ]
  },
  {
   "cell_type": "markdown",
   "metadata": {},
   "source": [
    "# Compare the library size distribution between the two datasets"
   ]
  },
  {
   "cell_type": "code",
   "execution_count": 78,
   "metadata": {},
   "outputs": [],
   "source": [
    "tenx_data = sc.read_mtx('filtered_gene_bc_matrices/GRCh38/matrix.mtx')"
   ]
  },
  {
   "cell_type": "code",
   "execution_count": 50,
   "metadata": {},
   "outputs": [],
   "source": [
    "optimus_counts = adata.X.tocsr().sum(axis=1)\n",
    "tenx2_counts = tenx_data.X.tocsr().sum(axis=1)"
   ]
  },
  {
   "cell_type": "code",
   "execution_count": 84,
   "metadata": {},
   "outputs": [
    {
     "name": "stderr",
     "output_type": "stream",
     "text": [
      "/usr/local/lib/python3.6/site-packages/matplotlib/axes/_axes.py:6462: UserWarning: The 'normed' kwarg is deprecated, and has been replaced by the 'density' kwarg.\n",
      "  warnings.warn(\"The 'normed' kwarg is deprecated, and has been \"\n"
     ]
    },
    {
     "data": {
      "text/plain": [
       "Text(0.5,0,'log10 molecule count')"
      ]
     },
     "execution_count": 84,
     "metadata": {},
     "output_type": "execute_result"
    },
    {
     "data": {
      "image/png": "[encoded data removed]",
      "text/plain": [
       "<Figure size 576x288 with 2 Axes>"
      ]
     },
     "metadata": {},
     "output_type": "display_data"
    }
   ],
   "source": [
    "f, (ax1, ax2) = plt.subplots(1, 2, figsize=(8, 4), sharex=True)\n",
    "\n",
    "sns.distplot(np.log10(optimus_counts + 1), ax=ax1)\n",
    "ax1.set_title('optimus')\n",
    "ax1.set_xlabel('log10 molecule count')\n",
    "ax1.set_ylabel('relative cell barcode\\nabundance')\n",
    "# ax1.set_xlim((-1, 7))\n",
    "\n",
    "\n",
    "sns.distplot(np.log10(tenx2_counts + 1), ax=ax2)\n",
    "ax2.set_title('cellranger count')\n",
    "ax2.set_xlabel('log10 molecule count')\n",
    "# ax2.set_ylabel('relative cell barcode\\nabundance')\n",
    "# ax1.set_xlim((-1, 7))"
   ]
  },
  {
   "cell_type": "code",
   "execution_count": 78,
   "metadata": {},
   "outputs": [],
   "source": [
    "tenx_data = sc.read_mtx('filtered_gene_bc_matrices/GRCh38/matrix.mtx')"
   ]
  }
 ],
 "metadata": {
  "kernelspec": {
   "display_name": "Python 3",
   "language": "python",
   "name": "python3"
  },
  "language_info": {
   "codemirror_mode": {
    "name": "ipython",
    "version": 3
   },
   "file_extension": ".py",
   "mimetype": "text/x-python",
   "name": "python",
   "nbconvert_exporter": "python",
   "pygments_lexer": "ipython3",
   "version": "3.6.4"
  }
 },
 "nbformat": 4,
 "nbformat_minor": 2
}

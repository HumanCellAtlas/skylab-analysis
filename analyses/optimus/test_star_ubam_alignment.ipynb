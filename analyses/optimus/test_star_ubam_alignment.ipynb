{
 "cells": [
  {
   "cell_type": "markdown",
   "metadata": {
    "deletable": true,
    "editable": true
   },
   "source": [
    "## Test ability of STAR to align unaligned bam files\n",
    "\n",
    "Normally, star aligns fastq files. Alex Dobin has graciously agreed to add ubam alignment functionality. In this notebook, we confirm that this functionality works. "
   ]
  },
  {
   "cell_type": "code",
   "execution_count": 1,
   "metadata": {
    "collapsed": true,
    "deletable": true,
    "editable": true
   },
   "outputs": [],
   "source": [
    "# for workflow management\n",
    "import json\n",
    "import os\n",
    "from google.cloud import storage\n",
    "import cromwell_manager as cwm\n",
    "\n",
    "with open(os.path.expanduser('~/.ssh/mint_cromwell_config.json')) as f:\n",
    "    cromwell_server = cwm.Cromwell(**json.load(f))\n",
    "\n",
    "storage_client = storage.Client(project='broad-dsde-mint-dev')"
   ]
  },
  {
   "cell_type": "markdown",
   "metadata": {
    "deletable": true,
    "editable": true
   },
   "source": [
    "Because this is a new version of star, it is not compatible with our generated references. We can make some new ones. "
   ]
  },
  {
   "cell_type": "code",
   "execution_count": 8,
   "metadata": {
    "collapsed": true,
    "deletable": true,
    "editable": true
   },
   "outputs": [],
   "source": [
    "inputs_json = {\n",
    "    \"star_mkref.fasta_file\": \"gs://broad-dsde-mint-dev-teststorage/demo/chr21.fa\",\n",
    "    \"star_mkref.annotation_file\": \"gs://broad-dsde-mint-dev-teststorage/demo/gencodev19_chr21.gtf\",\n",
    "}\n",
    "\n",
    "wdl = '../pipelines/accessories/star_mkref.wdl'\n",
    "\n",
    "dependencies = {\n",
    "    'StarMkref.wdl': '../pipelines/tasks/StarMkref.wdl',\n",
    "}"
   ]
  },
  {
   "cell_type": "code",
   "execution_count": 9,
   "metadata": {
    "collapsed": false,
    "deletable": true,
    "editable": true
   },
   "outputs": [
    {
     "name": "stdout",
     "output_type": "stream",
     "text": [
      "CWM:2017-10-26 17:04:16.003290:creating temporary directory\n",
      "CWM:2017-10-26 17:04:16.008332:writing dependencies\n",
      "CWM:2017-10-26 17:04:16.019737:writing wdl\n",
      "CWM:2017-10-26 17:04:16.021304:running wdltool validate\n",
      "CWM:2017-10-26 17:04:17.375423:validation successful\n",
      "CWM:2017-10-26 17:04:17.618765:checking docker image ${star_docker_image}... not found. Is image private?\n"
     ]
    }
   ],
   "source": [
    "os.environ['wdltool'] = os.path.expanduser('~/google_drive/software/wdltool-0.14.jar')\n",
    "make_index = cwm.Workflow.validate(\n",
    "    wdl=wdl, inputs_json=inputs_json, cromwell_server=cromwell_server, storage_client=storage_client,\n",
    "    workflow_dependencies=dependencies)"
   ]
  },
  {
   "cell_type": "code",
   "execution_count": 10,
   "metadata": {
    "collapsed": false,
    "deletable": true,
    "editable": true
   },
   "outputs": [],
   "source": [
    "make_index = cwm.Workflow.from_submission(\n",
    "    wdl=wdl, inputs_json=inputs_json, cromwell_server=cromwell_server, storage_client=storage_client,\n",
    "    workflow_dependencies=dependencies)"
   ]
  },
  {
   "cell_type": "code",
   "execution_count": 17,
   "metadata": {
    "collapsed": false
   },
   "outputs": [
    {
     "data": {
      "text/plain": [
       "{'id': '554b87ef-3d0c-4b38-a062-4cbf90f40dde', 'status': 'Succeeded'}"
      ]
     },
     "execution_count": 17,
     "metadata": {},
     "output_type": "execute_result"
    }
   ],
   "source": [
    "make_index.status"
   ]
  },
  {
   "cell_type": "code",
   "execution_count": null,
   "metadata": {
    "collapsed": true
   },
   "outputs": [],
   "source": [
    "%%bash\n",
    "# copy over index\n",
    "gsutil cp gs://broad-dsde-mint-dev-cromwell-execution/cromwell-executions/star_mkref/554b87ef-3d0c-4b38-a062-4cbf90f40dde/call-StarMkref/genome.tar \\\n",
    "gs://broad-dsde-mint-dev-teststorage/reference/hg19-chr21-star-2.5.3a-index.tar"
   ]
  },
  {
   "cell_type": "markdown",
   "metadata": {
    "deletable": true,
    "editable": true
   },
   "source": [
    "This test needn't be on a large fastq; it's just to see if it works. Test that:\n",
    "\n",
    "1. Sorted bam outputs of STAR from fastq and STAR from ubam are identical\n",
    "2. No tags should be lost. "
   ]
  },
  {
   "cell_type": "code",
   "execution_count": 15,
   "metadata": {
    "collapsed": true,
    "deletable": true,
    "editable": true
   },
   "outputs": [],
   "source": [
    "inputs_json = {\n",
    "    \"test_ubam_alignment.r1\": \"gs://broad-dsde-mint-dev-teststorage/10x/benchmark/1e6/pbmc8k_S1_L007_R1_001.fastq.gz\",\n",
    "    \"test_ubam_alignment.r2\": \"gs://broad-dsde-mint-dev-teststorage/10x/benchmark/1e6/pbmc8k_S1_L007_R2_001.fastq.gz\",\n",
    "    \"test_ubam_alignment.i7\": \"gs://broad-dsde-mint-dev-teststorage/10x/benchmark/1e6/pbmc8k_S1_L007_I1_001.fastq.gz\",    \n",
    "    \"test_ubam_alignment.sample_name\": \"test_chr19_1e6\",\n",
    "    \"test_ubam_alignment.tar_star_reference\": \"gs://broad-dsde-mint-dev-teststorage/reference/hg19-chr21-star-2.5.3a-index.tar\"\n",
    "}\n",
    "\n",
    "wdl = '../analysis/test_star_ubam_alignment.wdl'\n",
    "\n",
    "dependencies = {\n",
    "    'StarAlignFastqSingleEnd.wdl': '../pipelines/tasks/StarAlignFastqSingleEnd.wdl',\n",
    "    'StarAlignBamSingleEnd.wdl': '../pipelines/tasks/StarAlignBamSingleEnd.wdl',\n",
    "    'FastqToUBam.wdl': '../pipelines/tasks/FastqToUBam.wdl',\n",
    "    'Attach10xBarcodes.wdl': '../pipelines/tasks/Attach10xBarcodes.wdl'\n",
    "}"
   ]
  },
  {
   "cell_type": "code",
   "execution_count": 23,
   "metadata": {
    "collapsed": false,
    "deletable": true,
    "editable": true
   },
   "outputs": [
    {
     "name": "stdout",
     "output_type": "stream",
     "text": [
      "CWM:2017-10-26 17:17:12.014899:creating temporary directory\n",
      "CWM:2017-10-26 17:17:12.019486:writing dependencies\n",
      "CWM:2017-10-26 17:17:12.029171:writing wdl\n",
      "CWM:2017-10-26 17:17:12.031048:running wdltool validate\n",
      "CWM:2017-10-26 17:17:12.911353:validation successful\n",
      "CWM:2017-10-26 17:17:13.264883:checking docker image humancellatlas/python3-scientific:0.1.0... OK.\n",
      "CWM:2017-10-26 17:17:13.540806:checking docker image humancellatlas/picard:latest... OK.\n",
      "CWM:2017-10-26 17:17:13.749258:checking docker image humancellatlas/star:2.5.3a-40ead6e... OK.\n"
     ]
    }
   ],
   "source": [
    "workflow = cwm.Workflow.validate(\n",
    "    wdl=wdl, inputs_json=inputs_json, cromwell_server=cromwell_server, storage_client=storage_client,\n",
    "    workflow_dependencies=dependencies)"
   ]
  },
  {
   "cell_type": "code",
   "execution_count": 24,
   "metadata": {
    "collapsed": true,
    "deletable": true,
    "editable": true
   },
   "outputs": [],
   "source": [
    "workflow = cwm.Workflow.from_submission(\n",
    "    wdl=wdl, inputs_json=inputs_json, cromwell_server=cromwell_server, storage_client=storage_client,\n",
    "    workflow_dependencies=dependencies)"
   ]
  },
  {
   "cell_type": "code",
   "execution_count": 26,
   "metadata": {
    "collapsed": false,
    "deletable": true,
    "editable": true
   },
   "outputs": [
    {
     "data": {
      "text/plain": [
       "{'id': '726317de-d349-4aac-b4b3-c7644276b9aa',\n",
       " 'outputs': {'test_ubam_alignment.bam_alignment_log': 'gs://broad-dsde-mint-dev-cromwell-execution/cromwell-executions/test_ubam_alignment/726317de-d349-4aac-b4b3-c7644276b9aa/call-StarAlignBamSingleEnd/Log.final.out',\n",
       "  'test_ubam_alignment.bam_to_bam': 'gs://broad-dsde-mint-dev-cromwell-execution/cromwell-executions/test_ubam_alignment/726317de-d349-4aac-b4b3-c7644276b9aa/call-StarAlignBamSingleEnd/Aligned.out.bam',\n",
       "  'test_ubam_alignment.fastq_alignment_log': 'gs://broad-dsde-mint-dev-cromwell-execution/cromwell-executions/test_ubam_alignment/726317de-d349-4aac-b4b3-c7644276b9aa/call-StarAlignFastqSingleEnd/Log.final.out',\n",
       "  'test_ubam_alignment.fastq_to_bam': 'gs://broad-dsde-mint-dev-cromwell-execution/cromwell-executions/test_ubam_alignment/726317de-d349-4aac-b4b3-c7644276b9aa/call-StarAlignFastqSingleEnd/Aligned.out.bam'}}"
      ]
     },
     "execution_count": 26,
     "metadata": {},
     "output_type": "execute_result"
    }
   ],
   "source": [
    "workflow.outputs"
   ]
  },
  {
   "cell_type": "markdown",
   "metadata": {
    "deletable": true,
    "editable": true
   },
   "source": [
    "Download the alignment logs"
   ]
  },
  {
   "cell_type": "code",
   "execution_count": 27,
   "metadata": {
    "collapsed": false,
    "deletable": true,
    "editable": true
   },
   "outputs": [
    {
     "data": {
      "text/plain": [
       "True"
      ]
     },
     "execution_count": 27,
     "metadata": {},
     "output_type": "execute_result"
    }
   ],
   "source": [
    "bam_results = cwm.io_util.GSObject(workflow.outputs['outputs']['test_ubam_alignment.bam_alignment_log'], storage_client).download_as_string()\n",
    "fastq_results = cwm.io_util.GSObject(workflow.outputs['outputs']['test_ubam_alignment.fastq_alignment_log'], storage_client).download_as_string()\n",
    "\n",
    "# test that the alignment logs have identical outputs. This contains things like # unique mapped, # multimapped, indel rates, etc.\n",
    "''.join(bam_results.split('\\n')[4:])  == ''.join(fastq_results.split('\\n')[4:])"
   ]
  },
  {
   "cell_type": "markdown",
   "metadata": {
    "deletable": true,
    "editable": true
   },
   "source": [
    "Affter trimming the time stamps and alignment rates, the results are identical. In addition, bam is slightly faster (although the number of reads is small)!\n",
    "\n",
    "Download and view the bamfile."
   ]
  },
  {
   "cell_type": "code",
   "execution_count": null,
   "metadata": {
    "collapsed": true,
    "deletable": true,
    "editable": true
   },
   "outputs": [],
   "source": [
    "%%bash\n",
    "# download files\n",
    "gsutil cp gs://broad-dsde-mint-dev-cromwell-execution/cromwell-executions/test_ubam_alignment/726317de-d349-4aac-b4b3-c7644276b9aa/\\\n",
    "call-StarAlignBamSingleEnd/Aligned.out.bam aligned_ubam.bam\n",
    "\n",
    "gsutil cp gs://broad-dsde-mint-dev-cromwell-execution/cromwell-executions/test_ubam_alignment/726317de-d349-4aac-b4b3-c7644276b9aa/\\\n",
    "call-StarAlignFastqSingleEnd/Aligned.out.bam aligned_fastq.bam"
   ]
  },
  {
   "cell_type": "markdown",
   "metadata": {
    "deletable": true,
    "editable": true
   },
   "source": [
    "It contains properly tagged bam reads. Looks like things are working! Sort the files so we can check if each read is identical."
   ]
  },
  {
   "cell_type": "code",
   "execution_count": 185,
   "metadata": {
    "collapsed": false,
    "deletable": true,
    "editable": true
   },
   "outputs": [],
   "source": [
    "%%bash\n",
    "# sort files\n",
    "samtools sort -n -o aligned_ubam_sorted.bam aligned_ubam.bam\n",
    "samtools sort -n -o aligned_fastq_sorted.bam aligned_fastq.bam"
   ]
  },
  {
   "cell_type": "code",
   "execution_count": 182,
   "metadata": {
    "collapsed": true,
    "deletable": true,
    "editable": true
   },
   "outputs": [],
   "source": [
    "import pysam\n",
    "\n",
    "fq = pysam.AlignmentFile('aligned_fastq_sorted.bam', 'rb')\n",
    "ub = pysam.AlignmentFile('aligned_ubam_sorted.bam', 'rb')\n",
    "for fqr, ubr in zip(fq, ub):\n",
    "    # check that read qname (name header), pos (alignment location on chromosome) and rname (chromosome) are identical\n",
    "    if any([fqr.qname != ubr.qname, fqr.pos != ubr.pos, fqr.rname != ubr.rname]):\n",
    "        print(fqr)\n",
    "        print(ubr)\n",
    "        break # print the reads and break out of the loop if a non-identical read is found"
   ]
  },
  {
   "cell_type": "markdown",
   "metadata": {
    "deletable": true,
    "editable": true
   },
   "source": [
    "Using a samfile iterator based on htslib we checked that for each read, the alignment position and query name in the two sorted bam files is identical.  "
   ]
  }
 ],
 "metadata": {
  "hide_input": false,
  "kernelspec": {
   "display_name": "Python 3",
   "language": "python",
   "name": "python3"
  },
  "language_info": {
   "codemirror_mode": {
    "name": "ipython",
    "version": 3
   },
   "file_extension": ".py",
   "mimetype": "text/x-python",
   "name": "python",
   "nbconvert_exporter": "python",
   "pygments_lexer": "ipython3",
   "version": "3.6.0"
  },
  "nav_menu": {},
  "toc": {
   "nav_menu": {},
   "number_sections": true,
   "sideBar": true,
   "skip_h1_title": false,
   "toc_cell": false,
   "toc_position": {},
   "toc_section_display": "block",
   "toc_window_display": false
  }
 },
 "nbformat": 4,
 "nbformat_minor": 2
}

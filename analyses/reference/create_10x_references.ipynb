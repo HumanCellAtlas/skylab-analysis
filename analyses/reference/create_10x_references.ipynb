{
 "cells": [
  {
   "cell_type": "markdown",
   "metadata": {},
   "source": [
    "## Load packages and define workflow inputs"
   ]
  },
  {
   "cell_type": "code",
   "execution_count": 3,
   "metadata": {
    "run_control": {
     "frozen": false,
     "read_only": false
    }
   },
   "outputs": [],
   "source": [
    "import json\n",
    "import os\n",
    "from google.cloud import storage\n",
    "import cromwell_manager as cwm\n",
    "\n",
    "with open(os.path.expanduser('~/.ssh/mint_cromwell_config.json')) as f:\n",
    "    cromwell_server = cwm.Cromwell(**json.load(f))\n",
    "\n",
    "storage_client = storage.Client(project='broad-dsde-mint-dev')\n",
    "\n",
    "os.environ['wdltool'] = '/Users/ajc/google_drive/software/wdltool-0.14.jar'"
   ]
  },
  {
   "cell_type": "code",
   "execution_count": 8,
   "metadata": {
    "run_control": {
     "frozen": false,
     "read_only": false
    }
   },
   "outputs": [],
   "source": [
    "# run each genome creation routine\n",
    "wdl = '../../../skylab/library/accessory_workflows/star_mkref.wdl'"
   ]
  },
  {
   "cell_type": "code",
   "execution_count": 73,
   "metadata": {
    "run_control": {
     "frozen": false,
     "read_only": false
    }
   },
   "outputs": [],
   "source": [
    "dependencies = {'StarMkref': '../../../skylab/library/tasks/StarMkref.wdl'}"
   ]
  },
  {
   "cell_type": "code",
   "execution_count": 69,
   "metadata": {
    "run_control": {
     "frozen": false,
     "read_only": false
    }
   },
   "outputs": [],
   "source": [
    "mm38_hg38_inputs_json = {\n",
    "    'star_mkref.fasta_file': 'gs://hca-dcp-mint-test-data/reference/GRCm38_GRCh38_Gencode/mmhg.fa',\n",
    "    'star_mkref.annotation_file': 'gs://hca-dcp-mint-test-data/reference/GRCm38_GRCh38_Gencode/mmhg.gtf'\n",
    "}"
   ]
  },
  {
   "cell_type": "code",
   "execution_count": 48,
   "metadata": {
    "run_control": {
     "frozen": false,
     "read_only": false
    }
   },
   "outputs": [],
   "source": [
    "flu_hg38_inputs_json = {\n",
    "    'star_mkref.fasta_file': 'gs://hca-dcp-mint-test-data/reference/Flu_GRCh38_Gencode/hg_flu.fa',\n",
    "    'star_mkref.annotation_file': 'gs://hca-dcp-mint-test-data/reference/Flu_GRCh38_Gencode/hg_flu.gtf'\n",
    "}"
   ]
  },
  {
   "cell_type": "code",
   "execution_count": 40,
   "metadata": {
    "run_control": {
     "frozen": false,
     "read_only": false
    }
   },
   "outputs": [],
   "source": [
    "mm38_inputs_json = {\n",
    "    'star_mkref.fasta_file': 'gs://hca-dcp-mint-test-data/reference/GRCm38_Gencode/GRCm38.primary_assembly.genome.fa',\n",
    "    'star_mkref.annotation_file': 'gs://hca-dcp-mint-test-data/reference/GRCm38_Gencode/gencode.vM16.primary_assembly.annotation.gtf'\n",
    "}"
   ]
  },
  {
   "cell_type": "code",
   "execution_count": 19,
   "metadata": {
    "run_control": {
     "frozen": false,
     "read_only": false
    }
   },
   "outputs": [
    {
     "name": "stdout",
     "output_type": "stream",
     "text": [
      "Attach10xBarcodes.wdl             StarAlignFastqSingleEnd.wdl\r\n",
      "CollectMultiplePicardMetrics.wdl  StarMkref.wdl\r\n",
      "CorrectUmiMarkDuplicates.wdl      TagGeneExon.wdl\r\n",
      "CreateCountMatrix.wdl             featurecounts.wdl\r\n",
      "FastqToUBam.wdl                   hisat2.wdl\r\n",
      "Kallisto.wdl                      htseq.wdl\r\n",
      "MergeSortBam.wdl                  picard.wdl\r\n",
      "SplitBamByCellBarcode.wdl         rsem.wdl\r\n",
      "StarAlignBamSingleEnd.wdl         star.wdl\r\n"
     ]
    }
   ],
   "source": [
    "ls ../../../skylab/library/tasks/"
   ]
  },
  {
   "cell_type": "code",
   "execution_count": 74,
   "metadata": {
    "run_control": {
     "frozen": false,
     "read_only": false
    }
   },
   "outputs": [],
   "source": [
    "!rm -r dependencies.zip\n",
    "!rm -r StarMkref.wdl"
   ]
  },
  {
   "cell_type": "code",
   "execution_count": 75,
   "metadata": {
    "run_control": {
     "frozen": false,
     "read_only": false
    }
   },
   "outputs": [],
   "source": [
    "%%bash\n",
    "cp ../../../skylab/library/tasks/StarMkref.wdl .\n",
    "zip -cq dependencies.zip StarMkref.wdl\n",
    "rm ./StarMkref.wdl"
   ]
  },
  {
   "cell_type": "code",
   "execution_count": 41,
   "metadata": {
    "run_control": {
     "frozen": false,
     "read_only": false
    }
   },
   "outputs": [],
   "source": [
    "with open('mmhg38_inputs.json', 'w') as f:\n",
    "    json.dump(mm38_hg38_inputs_json, f)"
   ]
  },
  {
   "cell_type": "code",
   "execution_count": 49,
   "metadata": {
    "run_control": {
     "frozen": false,
     "read_only": false
    }
   },
   "outputs": [],
   "source": [
    "with open('flu_hg38_inputs.json', 'w') as f:\n",
    "    json.dump(flu_hg38_inputs_json, f)"
   ]
  },
  {
   "cell_type": "code",
   "execution_count": 42,
   "metadata": {
    "run_control": {
     "frozen": false,
     "read_only": false
    }
   },
   "outputs": [],
   "source": [
    "with open('mm38_inputs.json', 'w') as f:\n",
    "    json.dump(mm38_inputs_json, f)"
   ]
  },
  {
   "cell_type": "markdown",
   "metadata": {},
   "source": [
    "## Run all the workflows"
   ]
  },
  {
   "cell_type": "code",
   "execution_count": 22,
   "metadata": {
    "run_control": {
     "frozen": false,
     "read_only": false
    }
   },
   "outputs": [],
   "source": [
    "wf = cwm.Workflow.from_submission(\n",
    "    wdl=wdl,\n",
    "    inputs_json=mm38_hg38_inputs_json,\n",
    "    storage_client=storage_client,\n",
    "    workflow_dependencies=dependencies,\n",
    "    cromwell_server=cromwell_server)"
   ]
  },
  {
   "cell_type": "markdown",
   "metadata": {
    "run_control": {
     "frozen": false,
     "read_only": false
    }
   },
   "source": [
    "Successful workflow ids:\n",
    "```\n",
    "mm38 = 2d2577e8-d1fb-43a2-b85a-b8e0a7527d05\n",
    "mm38_hg38 = b4f016c8-9f25-45f8-8c17-77f7e7bf9b53\n",
    "mm38_hg38 # 2 = 92aea1d0-f47d-4348-8dbd-ce570840fcdc\n",
    "hg38_flu = e4e6ab25-4c74-4a7b-bc17-798a1f6bbc31\n",
    "```"
   ]
  },
  {
   "cell_type": "markdown",
   "metadata": {},
   "source": [
    "## Copy the outputs to the public bucket"
   ]
  },
  {
   "cell_type": "code",
   "execution_count": 64,
   "metadata": {
    "run_control": {
     "frozen": false,
     "read_only": false
    }
   },
   "outputs": [
    {
     "data": {
      "text/plain": [
       "{'id': '2d2577e8-d1fb-43a2-b85a-b8e0a7527d05',\n",
       " 'outputs': {'star_mkref.genome': 'gs://broad-dsde-mint-dev-cromwell-execution/cromwell-executions/star_mkref/2d2577e8-d1fb-43a2-b85a-b8e0a7527d05/call-StarMkref/genome.tar'}}"
      ]
     },
     "execution_count": 64,
     "metadata": {},
     "output_type": "execute_result"
    }
   ],
   "source": [
    "cromwell_server.outputs('2d2577e8-d1fb-43a2-b85a-b8e0a7527d05').json()"
   ]
  },
  {
   "cell_type": "code",
   "execution_count": 66,
   "metadata": {
    "run_control": {
     "frozen": false,
     "read_only": false
    }
   },
   "outputs": [
    {
     "data": {
      "text/plain": [
       "{'id': 'b4f016c8-9f25-45f8-8c17-77f7e7bf9b53',\n",
       " 'outputs': {'star_mkref.genome': 'gs://broad-dsde-mint-dev-cromwell-execution/cromwell-executions/star_mkref/b4f016c8-9f25-45f8-8c17-77f7e7bf9b53/call-StarMkref/genome.tar'}}"
      ]
     },
     "execution_count": 66,
     "metadata": {},
     "output_type": "execute_result"
    }
   ],
   "source": [
    "cromwell_server.outputs('b4f016c8-9f25-45f8-8c17-77f7e7bf9b53').json()"
   ]
  },
  {
   "cell_type": "code",
   "execution_count": 65,
   "metadata": {
    "run_control": {
     "frozen": false,
     "read_only": false
    }
   },
   "outputs": [
    {
     "data": {
      "text/plain": [
       "{'id': 'e4e6ab25-4c74-4a7b-bc17-798a1f6bbc31',\n",
       " 'outputs': {'star_mkref.genome': 'gs://broad-dsde-mint-dev-cromwell-execution/cromwell-executions/star_mkref/e4e6ab25-4c74-4a7b-bc17-798a1f6bbc31/call-StarMkref/genome.tar'}}"
      ]
     },
     "execution_count": 65,
     "metadata": {},
     "output_type": "execute_result"
    }
   ],
   "source": [
    "cromwell_server.outputs('e4e6ab25-4c74-4a7b-bc17-798a1f6bbc31').json()"
   ]
  },
  {
   "cell_type": "code",
   "execution_count": null,
   "metadata": {
    "run_control": {
     "frozen": false,
     "read_only": false
    }
   },
   "outputs": [],
   "source": [
    "%%bash\n",
    "gsutil -m cp \\\n",
    "gs://broad-dsde-mint-dev-cromwell-execution/cromwell-executions/star_mkref/2d2577e8-d1fb-43a2-b85a-b8e0a7527d05/call-StarMkref/genome.tar \\\n",
    "gs://hca-dcp-mint-test-data/reference/GRCm38_Gencode/GRCm38_star_genome.tar"
   ]
  },
  {
   "cell_type": "code",
   "execution_count": null,
   "metadata": {
    "run_control": {
     "frozen": false,
     "read_only": false
    }
   },
   "outputs": [],
   "source": [
    "%%bash\n",
    "gsutil -m cp \\\n",
    "gs://broad-dsde-mint-dev-cromwell-execution/cromwell-executions/star_mkref/92aea1d0-f47d-4348-8dbd-ce570840fcdc/call-StarMkref/genome.tar \\\n",
    "gs://hca-dcp-mint-test-data/reference/GRCm38_GRCh38_Gencode/GRCm38_GRCh38_star_genome.tar"
   ]
  },
  {
   "cell_type": "code",
   "execution_count": null,
   "metadata": {
    "run_control": {
     "frozen": false,
     "read_only": false
    }
   },
   "outputs": [],
   "source": [
    "%%bash\n",
    "gsutil -m cp \\\n",
    "gs://broad-dsde-mint-dev-cromwell-execution/cromwell-executions/star_mkref/e4e6ab25-4c74-4a7b-bc17-798a1f6bbc31/call-StarMkref/genome.tar \\\n",
    "gs://hca-dcp-mint-test-data/reference/Flu_GRCh38_Gencode/Flu_GRCh38_star_genome.tar"
   ]
  },
  {
   "cell_type": "markdown",
   "metadata": {},
   "source": [
    "Check the references made it into the bucket (they did)"
   ]
  },
  {
   "cell_type": "code",
   "execution_count": 67,
   "metadata": {
    "run_control": {
     "frozen": false,
     "read_only": false
    }
   },
   "outputs": [
    {
     "name": "stdout",
     "output_type": "stream",
     "text": [
      "gs://hca-dcp-mint-test-data/reference/\r\n",
      "gs://hca-dcp-mint-test-data/reference/GRCh38_gencode.v27.refFlat.txt\r\n",
      "gs://hca-dcp-mint-test-data/reference/gencode.v27.rRNA.interval_list\r\n",
      "gs://hca-dcp-mint-test-data/reference/Flu_GRCh38_Gencode/\r\n",
      "gs://hca-dcp-mint-test-data/reference/GRCh38_Gencode/\r\n",
      "gs://hca-dcp-mint-test-data/reference/GRCm38_GRCh38_Gencode/\r\n",
      "gs://hca-dcp-mint-test-data/reference/GRCm38_Gencode/\r\n",
      "gs://hca-dcp-mint-test-data/reference/HISAT2/\r\n",
      "gs://hca-dcp-mint-test-data/reference/rsem_ref/\r\n"
     ]
    }
   ],
   "source": [
    "!gsutil ls gs://hca-dcp-mint-test-data/reference/"
   ]
  }
 ],
 "metadata": {
  "hide_input": false,
  "kernelspec": {
   "display_name": "Python 3",
   "language": "python",
   "name": "python3"
  },
  "language_info": {
   "codemirror_mode": {
    "name": "ipython",
    "version": 3
   },
   "file_extension": ".py",
   "mimetype": "text/x-python",
   "name": "python",
   "nbconvert_exporter": "python",
   "pygments_lexer": "ipython3",
   "version": "3.6.1"
  },
  "nav_menu": {},
  "toc": {
   "navigate_menu": true,
   "number_sections": true,
   "sideBar": true,
   "threshold": 6,
   "toc_cell": false,
   "toc_section_display": "block",
   "toc_window_display": false
  }
 },
 "nbformat": 4,
 "nbformat_minor": 2
}

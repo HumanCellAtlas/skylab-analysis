{
 "cells": [
  {
   "cell_type": "markdown",
   "metadata": {},
   "source": [
    "# Goal:\n",
    "\n",
    "Outline the process of producing shared QC metric schema that delegates to picard names when they are adequately descriptive of what they measure. The following two workflows were used to extract metrics, and files were downloaded to `picard_metric_dir` and `optimus_metric_dir`: \n",
    "```\n",
    "https://job-manager.mint-dev.broadinstitute.org/jobs/a39b92db-bed0-40d4-83de-3ca0505dc5a8  # 10x v2\n",
    "https://job-manager.mint-dev.broadinstitute.org/jobs/b9ff68b4-2434-4909-8275-850cb84ebb13  # ss2\n",
    "```"
   ]
  },
  {
   "cell_type": "code",
   "execution_count": 1,
   "metadata": {},
   "outputs": [],
   "source": [
    "import os\n",
    "from crimson import picard"
   ]
  },
  {
   "cell_type": "markdown",
   "metadata": {},
   "source": [
    "## Examine SS2 pipeline metrics outputs\n",
    "\n",
    "Listed below are the file names of metrics files emitted by a smart-seq2 workflow"
   ]
  },
  {
   "cell_type": "code",
   "execution_count": 2,
   "metadata": {},
   "outputs": [
    {
     "name": "stdout",
     "output_type": "stream",
     "text": [
      "SRR1294925_qc.alignment_summary_metrics.txt\r\n",
      "SRR1294925_qc.bait_bias_detail_metrics.txt\r\n",
      "SRR1294925_qc.bait_bias_summary_metrics.txt\r\n",
      "SRR1294925_qc.base_distribution_by_cycle_metrics.txt\r\n",
      "SRR1294925_qc.error_summary_metrics.txt\r\n",
      "SRR1294925_qc.gc_bias.detail_metrics.txt\r\n",
      "SRR1294925_qc.gc_bias.summary_metrics.txt\r\n",
      "SRR1294925_qc.pre_adapter_detail_metrics.txt\r\n",
      "SRR1294925_qc.quality_by_cycle_metrics.txt\r\n",
      "SRR1294925_qc.quality_distribution_metrics.txt\r\n"
     ]
    }
   ],
   "source": [
    "picard_metric_dir = os.path.expanduser('~/Desktop/picard')\n",
    "!ls $picard_metric_dir"
   ]
  },
  {
   "cell_type": "markdown",
   "metadata": {},
   "source": [
    "This method parses a few of the files that are in a consistent format"
   ]
  },
  {
   "cell_type": "code",
   "execution_count": 3,
   "metadata": {},
   "outputs": [],
   "source": [
    "metric_files = [os.path.join(picard_metric_dir, f) for f in os.listdir(picard_metric_dir)]\n",
    "\n",
    "def parse_picard(metric_file):\n",
    "    with open(metric_file, 'r') as f:\n",
    "        json_data = picard.parse(f)\n",
    "        metric_class_name = json_data['metrics']['class']\n",
    "        metrics = {}\n",
    "        for d in json_data['metrics']['contents']:\n",
    "            for k, v in d.items():\n",
    "                metrics[k] = type(v)\n",
    "        del metrics['SAMPLE_ALIAS'], metrics['LIBRARY']\n",
    "    return metric_class_name, metrics"
   ]
  },
  {
   "cell_type": "markdown",
   "metadata": {},
   "source": [
    "This is a map between the metric class and the names of metrics calculated by each class, mapped to the output type. \n",
    "\n",
    "Caveat: 5 of the files don't decode. Those are printed in full below. "
   ]
  },
  {
   "cell_type": "code",
   "execution_count": 4,
   "metadata": {},
   "outputs": [
    {
     "name": "stdout",
     "output_type": "stream",
     "text": [
      "/Users/ajc/Desktop/picard/SRR1294925_qc.quality_by_cycle_metrics.txt\n",
      "/Users/ajc/Desktop/picard/SRR1294925_qc.error_summary_metrics.txt\n",
      "/Users/ajc/Desktop/picard/SRR1294925_qc.gc_bias.detail_metrics.txt\n",
      "/Users/ajc/Desktop/picard/SRR1294925_qc.gc_bias.summary_metrics.txt\n",
      "/Users/ajc/Desktop/picard/SRR1294925_qc.base_distribution_by_cycle_metrics.txt\n"
     ]
    }
   ],
   "source": [
    "all_metrics_and_names = {}\n",
    "for m in metric_files[:-2]:\n",
    "    try:\n",
    "        all_metrics_and_names.__setitem__(*parse_picard(m))\n",
    "    except:\n",
    "        print(m)"
   ]
  },
  {
   "cell_type": "code",
   "execution_count": 5,
   "metadata": {},
   "outputs": [
    {
     "data": {
      "text/plain": [
       "{'picard.analysis.artifacts.SequencingArtifactMetrics$BaitBiasSummaryMetrics': {'REF_BASE': str,\n",
       "  'ALT_BASE': str,\n",
       "  'TOTAL_QSCORE': int,\n",
       "  'WORST_CXT': str,\n",
       "  'WORST_CXT_QSCORE': int,\n",
       "  'WORST_PRE_CXT': str,\n",
       "  'WORST_PRE_CXT_QSCORE': int,\n",
       "  'WORST_POST_CXT': str,\n",
       "  'WORST_POST_CXT_QSCORE': int,\n",
       "  'ARTIFACT_NAME': str},\n",
       " 'picard.analysis.artifacts.SequencingArtifactMetrics$PreAdapterDetailMetrics': {'REF_BASE': str,\n",
       "  'ALT_BASE': str,\n",
       "  'CONTEXT': str,\n",
       "  'PRO_REF_BASES': int,\n",
       "  'PRO_ALT_BASES': int,\n",
       "  'CON_REF_BASES': int,\n",
       "  'CON_ALT_BASES': int,\n",
       "  'ERROR_RATE': int,\n",
       "  'QSCORE': int},\n",
       " 'picard.analysis.artifacts.SequencingArtifactMetrics$BaitBiasDetailMetrics': {'REF_BASE': str,\n",
       "  'ALT_BASE': str,\n",
       "  'CONTEXT': str,\n",
       "  'FWD_CXT_REF_BASES': int,\n",
       "  'FWD_CXT_ALT_BASES': int,\n",
       "  'REV_CXT_REF_BASES': int,\n",
       "  'REV_CXT_ALT_BASES': int,\n",
       "  'FWD_ERROR_RATE': float,\n",
       "  'REV_ERROR_RATE': float,\n",
       "  'ERROR_RATE': int,\n",
       "  'QSCORE': int}}"
      ]
     },
     "execution_count": 5,
     "metadata": {},
     "output_type": "execute_result"
    }
   ],
   "source": [
    "all_metrics_and_names"
   ]
  },
  {
   "cell_type": "markdown",
   "metadata": {},
   "source": [
    "Below, files that didn't convert are just printed to console to get a sense of their metric names"
   ]
  },
  {
   "cell_type": "code",
   "execution_count": 6,
   "metadata": {},
   "outputs": [
    {
     "name": "stdout",
     "output_type": "stream",
     "text": [
      "## htsjdk.samtools.metrics.StringHeader\r\n",
      "# CollectMultipleMetrics INPUT=/cromwell_root/broad-dsde-mint-dev-cromwell-execution/cromwell-executions/TestSmartSeq2SingleCellPR/dbec853f-f908-44d5-abf8-c2b3e9a1c1dd/call-target_workflow/SmartSeq2SingleCell/efca6617-3b23-4620-8227-dd9484b9547f/call-HISAT2PairedEnd/SRR1294925_qc.bam ASSUME_SORTED=true OUTPUT=SRR1294925_qc METRIC_ACCUMULATION_LEVEL=[ALL_READS] FILE_EXTENSION=.txt PROGRAM=[CollectAlignmentSummaryMetrics, CollectInsertSizeMetrics, CollectGcBiasMetrics, CollectBaseDistributionByCycle, QualityScoreDistribution, MeanQualityByCycle, CollectSequencingArtifactMetrics, CollectQualityYieldMetrics] VALIDATION_STRINGENCY=SILENT REFERENCE_SEQUENCE=/cromwell_root/hca-dcp-mint-test-data/reference/GRCh38_Gencode/GRCh38.primary_assembly.genome.fa    STOP_AFTER=0 INCLUDE_UNPAIRED=false VERBOSITY=INFO QUIET=false COMPRESSION_LEVEL=5 MAX_RECORDS_IN_RAM=500000 CREATE_INDEX=false CREATE_MD5_FILE=false GA4GH_CLIENT_SECRETS=client_secrets.json USE_JDK_DEFLATER=false USE_JDK_INFLATER=false\r\n",
      "## htsjdk.samtools.metrics.StringHeader\r\n",
      "# Started on: Mon Jun 11 18:18:02 UTC 2018\r\n",
      "\r\n",
      "## METRICS CLASS\tpicard.analysis.BaseDistributionByCycleMetrics\r\n",
      "READ_END\tCYCLE\tPCT_A\tPCT_C\tPCT_G\tPCT_T\tPCT_N\r\n",
      "1\t1\t16.843199\t31.608099\t35.496511\t16.015775\t0.036417\r\n",
      "1\t2\t27.934517\t21.088439\t20.640992\t30.319254\t0.016797\r\n",
      "1\t3\t27.393629\t22.746251\t22.536078\t27.322772\t0.00127\r\n",
      "1\t4\t25.838434\t25.342007\t21.509914\t27.309362\t0.000282\r\n",
      "1\t5\t35.648671\t15.606439\t14.24476\t34.50013\t0\r\n",
      "1\t6\t28.040098\t23.321863\t23.476846\t25.150325\t0.010869\r\n",
      "1\t7\t29.10649\t22.773775\t22.996934\t25.122801\t0\r\n",
      "1\t8\t28.060141\t22.590421\t23.231667\t26.11777\t0\r\n",
      "1\t9\t18.417591\t31.886447\t31.26962\t18.426342\t0\r\n",
      "1\t10\t31.398208\t19.680887\t19.639107\t29.281798\t0\r\n",
      "1\t11\t24.55947\t26.55576\t26.531623\t22.353147\t0\r\n",
      "1\t12\t29.07713\t21.277157\t22.849291\t26.796422\t0\r\n",
      "1\t13\t24.649241\t24.876352\t26.627041\t23.847366\t0\r\n",
      "1\t14\t25.105298\t24.556788\t25.794112\t24.543802\t0\r\n",
      "1\t15\t26.357585\t22.661702\t24.352543\t26.62817\t0\r\n",
      "1\t16\t27.633726\t23.049442\t22.53509\t26.781742\t0\r\n",
      "1\t17\t27.954843\t22.851408\t21.867166\t27.326583\t0\r\n",
      "1\t18\t27.330676\t22.558803\t21.50201\t28.608511\t0\r\n",
      "1\t19\t26.901014\t21.900195\t22.130553\t29.068238\t0\r\n",
      "1\t20\t26.019953\t22.098371\t23.008226\t28.87345\t0\r\n",
      "1\t21\t26.012049\t22.130976\t23.5007\t28.356275\t0\r\n",
      "1\t22\t25.976761\t22.242062\t23.420527\t28.360651\t0\r\n",
      "1\t23\t26.097021\t22.338044\t23.30563\t28.259305\t0\r\n",
      "1\t24\t26.090669\t22.569248\t23.008367\t28.331715\t0\r\n",
      "1\t25\t26.101679\t22.680616\t22.796501\t28.421204\t0\r\n",
      "2\t26\t17.694336\t31.36038\t34.690683\t16.130954\t0.123648\r\n",
      "2\t27\t28.507588\t20.77932\t20.044208\t30.59605\t0.072834\r\n",
      "2\t28\t28.300803\t22.472702\t22.248837\t26.926421\t0.051238\r\n",
      "2\t29\t26.558724\t24.645995\t21.778524\t26.935172\t0.081585\r\n",
      "2\t30\t36.585204\t14.887983\t14.270309\t34.187199\t0.069305\r\n",
      "2\t31\t29.076848\t22.570095\t23.071744\t25.215254\t0.066058\r\n",
      "2\t32\t29.330213\t22.345243\t23.044643\t25.214408\t0.065494\r\n",
      "2\t33\t29.170713\t21.752693\t22.683298\t26.323568\t0.069728\r\n",
      "2\t34\t20.070039\t30.951749\t30.358353\t18.550131\t0.069728\r\n",
      "2\t35\t32.113699\t19.043734\t19.083821\t29.696075\t0.062671\r\n",
      "2\t36\t25.600313\t25.446318\t26.226315\t22.661278\t0.065776\r\n",
      "2\t37\t29.707226\t21.185833\t22.174027\t26.863891\t0.069023\r\n",
      "2\t38\t25.639694\t24.675495\t25.669477\t23.94603\t0.069305\r\n",
      "2\t39\t25.962505\t24.634279\t25.017644\t24.323184\t0.062388\r\n",
      "2\t40\t27.552706\t22.64434\t23.543328\t26.199496\t0.06013\r\n",
      "2\t41\t28.331291\t22.803135\t22.524221\t26.273459\t0.067893\r\n",
      "2\t42\t28.658902\t22.388435\t22.002388\t26.877583\t0.072692\r\n",
      "2\t43\t28.559532\t22.16457\t21.750999\t27.454183\t0.070716\r\n",
      "2\t44\t27.928025\t22.100911\t22.386459\t27.516853\t0.067752\r\n",
      "2\t45\t27.31402\t22.050803\t23.206684\t27.350719\t0.077774\r\n",
      "2\t46\t27.057409\t22.290053\t23.800927\t26.776378\t0.075233\r\n",
      "2\t47\t27.144357\t22.367968\t23.731481\t26.682231\t0.073963\r\n",
      "2\t48\t27.141111\t22.547652\t23.669234\t26.563523\t0.07848\r\n",
      "2\t49\t27.138853\t22.741028\t23.237737\t26.79628\t0.086102\r\n",
      "2\t50\t26.963403\t22.930452\t23.198779\t26.826628\t0.080738\r\n",
      "\r\n",
      "\r\n"
     ]
    }
   ],
   "source": [
    "!cat $picard_metric_dir/SRR1294925_qc.base_distribution_by_cycle_metrics.txt"
   ]
  },
  {
   "cell_type": "code",
   "execution_count": 7,
   "metadata": {},
   "outputs": [
    {
     "name": "stdout",
     "output_type": "stream",
     "text": [
      "## htsjdk.samtools.metrics.StringHeader\r\n",
      "# CollectMultipleMetrics INPUT=/cromwell_root/broad-dsde-mint-dev-cromwell-execution/cromwell-executions/TestSmartSeq2SingleCellPR/dbec853f-f908-44d5-abf8-c2b3e9a1c1dd/call-target_workflow/SmartSeq2SingleCell/efca6617-3b23-4620-8227-dd9484b9547f/call-HISAT2PairedEnd/SRR1294925_qc.bam ASSUME_SORTED=true OUTPUT=SRR1294925_qc METRIC_ACCUMULATION_LEVEL=[ALL_READS] FILE_EXTENSION=.txt PROGRAM=[CollectAlignmentSummaryMetrics, CollectInsertSizeMetrics, CollectGcBiasMetrics, CollectBaseDistributionByCycle, QualityScoreDistribution, MeanQualityByCycle, CollectSequencingArtifactMetrics, CollectQualityYieldMetrics] VALIDATION_STRINGENCY=SILENT REFERENCE_SEQUENCE=/cromwell_root/hca-dcp-mint-test-data/reference/GRCh38_Gencode/GRCh38.primary_assembly.genome.fa    STOP_AFTER=0 INCLUDE_UNPAIRED=false VERBOSITY=INFO QUIET=false COMPRESSION_LEVEL=5 MAX_RECORDS_IN_RAM=500000 CREATE_INDEX=false CREATE_MD5_FILE=false GA4GH_CLIENT_SECRETS=client_secrets.json USE_JDK_DEFLATER=false USE_JDK_INFLATER=false\r\n",
      "## htsjdk.samtools.metrics.StringHeader\r\n",
      "# Started on: Mon Jun 11 18:18:02 UTC 2018\r\n",
      "\r\n",
      "## METRICS CLASS\tpicard.analysis.GcBiasSummaryMetrics\r\n",
      "ACCUMULATION_LEVEL\tREADS_USED\tWINDOW_SIZE\tTOTAL_CLUSTERS\tALIGNED_READS\tAT_DROPOUT\tGC_DROPOUT\tGC_NC_0_19\tGC_NC_20_39\tGC_NC_40_59\tGC_NC_60_79\tGC_NC_80_100\tSAMPLE\tLIBRARY\tREAD_GROUP\r\n",
      "All Reads\tALL\t100\t954414\t1733195\t20.194765\t0.06383\t0.191182\t0.630475\t1.251049\t2.461779\t0.349734\t\t\t\r\n",
      "\r\n",
      "\r\n"
     ]
    }
   ],
   "source": [
    "!cat $picard_metric_dir/SRR1294925_qc.gc_bias.summary_metrics.txt"
   ]
  },
  {
   "cell_type": "code",
   "execution_count": 8,
   "metadata": {
    "scrolled": false
   },
   "outputs": [
    {
     "name": "stdout",
     "output_type": "stream",
     "text": [
      "## htsjdk.samtools.metrics.StringHeader\r\n",
      "# CollectMultipleMetrics INPUT=/cromwell_root/broad-dsde-mint-dev-cromwell-execution/cromwell-executions/TestSmartSeq2SingleCellPR/dbec853f-f908-44d5-abf8-c2b3e9a1c1dd/call-target_workflow/SmartSeq2SingleCell/efca6617-3b23-4620-8227-dd9484b9547f/call-HISAT2PairedEnd/SRR1294925_qc.bam ASSUME_SORTED=true OUTPUT=SRR1294925_qc METRIC_ACCUMULATION_LEVEL=[ALL_READS] FILE_EXTENSION=.txt PROGRAM=[CollectAlignmentSummaryMetrics, CollectInsertSizeMetrics, CollectGcBiasMetrics, CollectBaseDistributionByCycle, QualityScoreDistribution, MeanQualityByCycle, CollectSequencingArtifactMetrics, CollectQualityYieldMetrics] VALIDATION_STRINGENCY=SILENT REFERENCE_SEQUENCE=/cromwell_root/hca-dcp-mint-test-data/reference/GRCh38_Gencode/GRCh38.primary_assembly.genome.fa    STOP_AFTER=0 INCLUDE_UNPAIRED=false VERBOSITY=INFO QUIET=false COMPRESSION_LEVEL=5 MAX_RECORDS_IN_RAM=500000 CREATE_INDEX=false CREATE_MD5_FILE=false GA4GH_CLIENT_SECRETS=client_secrets.json USE_JDK_DEFLATER=false USE_JDK_INFLATER=false\r\n",
      "## htsjdk.samtools.metrics.StringHeader\r\n",
      "# Started on: Mon Jun 11 18:18:02 UTC 2018\r\n",
      "\r\n",
      "## METRICS CLASS\tpicard.analysis.GcBiasDetailMetrics\r\n",
      "ACCUMULATION_LEVEL\tREADS_USED\tGC\tWINDOWS\tREAD_STARTS\tMEAN_BASE_QUALITY\tNORMALIZED_COVERAGE\tERROR_BAR_WIDTH\tSAMPLE\tLIBRARY\tREAD_GROUP\r\n",
      "All Reads\tALL\t0\t133991\t5\t14\t0.063484\t0.028391\t\t\t\r\n",
      "All Reads\tALL\t1\t97310\t0\t0\t0\t0\t\t\t\r\n",
      "All Reads\tALL\t2\t113309\t0\t0\t0\t0\t\t\t\r\n",
      "All Reads\tALL\t3\t144788\t3\t19\t0.03525\t0.020351\t\t\t\r\n",
      "All Reads\tALL\t4\t156354\t2\t17\t0.021762\t0.015388\t\t\t\r\n",
      "All Reads\tALL\t5\t159374\t5\t18\t0.053373\t0.023869\t\t\t\r\n",
      "All Reads\tALL\t6\t180686\t5\t18\t0.047077\t0.021054\t\t\t\r\n",
      "All Reads\tALL\t7\t193926\t19\t21\t0.166681\t0.038239\t\t\t\r\n",
      "All Reads\tALL\t8\t221138\t22\t18\t0.169249\t0.036084\t\t\t\r\n",
      "All Reads\tALL\t9\t249762\t4\t9\t0.027246\t0.013623\t\t\t\r\n",
      "All Reads\tALL\t10\t293996\t22\t15\t0.127306\t0.027142\t\t\t\r\n",
      "All Reads\tALL\t11\t359126\t50\t20\t0.23686\t0.033497\t\t\t\r\n",
      "All Reads\tALL\t12\t468259\t43\t20\t0.156225\t0.023824\t\t\t\r\n",
      "All Reads\tALL\t13\t617262\t47\t17\t0.129538\t0.018895\t\t\t\r\n",
      "All Reads\tALL\t14\t875031\t72\t17\t0.139984\t0.016497\t\t\t\r\n",
      "All Reads\tALL\t15\t1287666\t94\t19\t0.124192\t0.012809\t\t\t\r\n",
      "All Reads\tALL\t16\t1926755\t174\t19\t0.153635\t0.011647\t\t\t\r\n",
      "All Reads\tALL\t17\t2893377\t309\t19\t0.181686\t0.010336\t\t\t\r\n",
      "All Reads\tALL\t18\t4338636\t600\t18\t0.23527\t0.009605\t\t\t\r\n",
      "All Reads\tALL\t19\t6405541\t897\t20\t0.238234\t0.007954\t\t\t\r\n",
      "All Reads\tALL\t20\t9251334\t1367\t21\t0.251381\t0.006799\t\t\t\r\n",
      "All Reads\tALL\t21\t13011224\t2241\t21\t0.293016\t0.00619\t\t\t\r\n",
      "All Reads\tALL\t22\t17764279\t3591\t22\t0.343903\t0.005739\t\t\t\r\n",
      "All Reads\tALL\t23\t23579588\t4882\t23\t0.352233\t0.005041\t\t\t\r\n",
      "All Reads\tALL\t24\t30432176\t7246\t24\t0.405073\t0.004759\t\t\t\r\n",
      "All Reads\tALL\t25\t38160938\t8726\t24\t0.389013\t0.004164\t\t\t\r\n",
      "All Reads\tALL\t26\t46475111\t12120\t24\t0.44366\t0.00403\t\t\t\r\n",
      "All Reads\tALL\t27\t55161101\t15489\t25\t0.477703\t0.003838\t\t\t\r\n",
      "All Reads\tALL\t28\t63927578\t19867\t26\t0.528703\t0.003751\t\t\t\r\n",
      "All Reads\tALL\t29\t72471907\t25156\t26\t0.590527\t0.003723\t\t\t\r\n",
      "All Reads\tALL\t30\t80618887\t28794\t26\t0.607621\t0.003581\t\t\t\r\n",
      "All Reads\tALL\t31\t88220871\t34741\t27\t0.669945\t0.003594\t\t\t\r\n",
      "All Reads\tALL\t32\t95136615\t34702\t27\t0.620547\t0.003331\t\t\t\r\n",
      "All Reads\tALL\t33\t101300086\t37645\t27\t0.632216\t0.003258\t\t\t\r\n",
      "All Reads\tALL\t34\t106784063\t41574\t27\t0.662343\t0.003248\t\t\t\r\n",
      "All Reads\tALL\t35\t111497256\t44209\t28\t0.67455\t0.003208\t\t\t\r\n",
      "All Reads\tALL\t36\t115303884\t50151\t28\t0.739952\t0.003304\t\t\t\r\n",
      "All Reads\tALL\t37\t117410201\t49155\t28\t0.712246\t0.003213\t\t\t\r\n",
      "All Reads\tALL\t38\t117436503\t51328\t28\t0.743565\t0.003282\t\t\t\r\n",
      "All Reads\tALL\t39\t115571655\t53082\t28\t0.781383\t0.003391\t\t\t\r\n",
      "All Reads\tALL\t40\t111956765\t53221\t28\t0.808724\t0.003506\t\t\t\r\n",
      "All Reads\tALL\t41\t106709181\t53401\t28\t0.851364\t0.003684\t\t\t\r\n",
      "All Reads\tALL\t42\t100492270\t53044\t28\t0.89799\t0.003899\t\t\t\r\n",
      "All Reads\tALL\t43\t94111272\t51617\t28\t0.93308\t0.004107\t\t\t\r\n",
      "All Reads\tALL\t44\t88435968\t52357\t28\t1.007195\t0.004402\t\t\t\r\n",
      "All Reads\tALL\t45\t83913605\t52560\t28\t1.065592\t0.004648\t\t\t\r\n",
      "All Reads\tALL\t46\t80478967\t49960\t28\t1.056107\t0.004725\t\t\t\r\n",
      "All Reads\tALL\t47\t77765420\t50490\t27\t1.104553\t0.004916\t\t\t\r\n",
      "All Reads\tALL\t48\t75064198\t50758\t28\t1.150375\t0.005106\t\t\t\r\n",
      "All Reads\tALL\t49\t71777385\t53457\t27\t1.267024\t0.00548\t\t\t\r\n",
      "All Reads\tALL\t50\t67622796\t53238\t28\t1.339357\t0.005805\t\t\t\r\n",
      "All Reads\tALL\t51\t62771215\t56607\t28\t1.534184\t0.006448\t\t\t\r\n",
      "All Reads\tALL\t52\t57747512\t54719\t28\t1.612029\t0.006891\t\t\t\r\n",
      "All Reads\tALL\t53\t53055512\t54269\t28\t1.74016\t0.00747\t\t\t\r\n",
      "All Reads\tALL\t54\t48878497\t54455\t29\t1.895343\t0.008122\t\t\t\r\n",
      "All Reads\tALL\t55\t45194940\t52278\t29\t1.967873\t0.008607\t\t\t\r\n",
      "All Reads\tALL\t56\t41643978\t47620\t29\t1.945383\t0.008915\t\t\t\r\n",
      "All Reads\tALL\t57\t37866336\t40148\t29\t1.803759\t0.009002\t\t\t\r\n",
      "All Reads\tALL\t58\t33705229\t36268\t28\t1.830603\t0.009612\t\t\t\r\n",
      "All Reads\tALL\t59\t29198744\t35807\t29\t2.086275\t0.011025\t\t\t\r\n",
      "All Reads\tALL\t60\t24681149\t32070\t29\t2.210556\t0.012344\t\t\t\r\n",
      "All Reads\tALL\t61\t20509824\t29385\t28\t2.437427\t0.014219\t\t\t\r\n",
      "All Reads\tALL\t62\t16948234\t26273\t29\t2.637261\t0.01627\t\t\t\r\n",
      "All Reads\tALL\t63\t14007399\t22225\t30\t2.699306\t0.018106\t\t\t\r\n",
      "All Reads\tALL\t64\t11581597\t18860\t30\t2.770391\t0.020173\t\t\t\r\n",
      "All Reads\tALL\t65\t9558271\t15385\t29\t2.738332\t0.022077\t\t\t\r\n",
      "All Reads\tALL\t66\t7880743\t11715\t30\t2.528966\t0.023365\t\t\t\r\n",
      "All Reads\tALL\t67\t6406473\t9549\t29\t2.535752\t0.025949\t\t\t\r\n",
      "All Reads\tALL\t68\t5126924\t7628\t29\t2.531172\t0.028981\t\t\t\r\n",
      "All Reads\tALL\t69\t4105025\t6003\t29\t2.487828\t0.03211\t\t\t\r\n",
      "All Reads\tALL\t70\t3294272\t4474\t31\t2.310492\t0.034543\t\t\t\r\n",
      "All Reads\tALL\t71\t2637674\t3475\t28\t2.241308\t0.038021\t\t\t\r\n",
      "All Reads\tALL\t72\t2133679\t2638\t30\t2.10336\t0.040952\t\t\t\r\n",
      "All Reads\tALL\t73\t1741452\t2249\t33\t2.19708\t0.046329\t\t\t\r\n",
      "All Reads\tALL\t74\t1436686\t1756\t31\t2.079364\t0.049621\t\t\t\r\n",
      "All Reads\tALL\t75\t1208741\t1449\t30\t2.039403\t0.053576\t\t\t\r\n",
      "All Reads\tALL\t76\t1042097\t1097\t29\t1.790879\t0.054071\t\t\t\r\n",
      "All Reads\tALL\t77\t917232\t764\t27\t1.41704\t0.051267\t\t\t\r\n",
      "All Reads\tALL\t78\t816099\t503\t29\t1.048559\t0.046753\t\t\t\r\n",
      "All Reads\tALL\t79\t712256\t379\t27\t0.905255\t0.0465\t\t\t\r\n",
      "All Reads\tALL\t80\t607496\t180\t23\t0.504077\t0.037572\t\t\t\r\n",
      "All Reads\tALL\t81\t511324\t126\t32\t0.41922\t0.037347\t\t\t\r\n",
      "All Reads\tALL\t82\t430109\t73\t27\t0.288743\t0.033795\t\t\t\r\n",
      "All Reads\tALL\t83\t354188\t41\t25\t0.196933\t0.030756\t\t\t\r\n",
      "All Reads\tALL\t84\t275398\t25\t28\t0.154435\t0.030887\t\t\t\r\n",
      "All Reads\tALL\t85\t200255\t20\t22\t0.169908\t0.037993\t\t\t\r\n",
      "All Reads\tALL\t86\t134426\t16\t0\t0.20249\t0.050623\t\t\t\r\n",
      "All Reads\tALL\t87\t88096\t10\t24\t0.193113\t0.061068\t\t\t\r\n",
      "All Reads\tALL\t88\t60921\t27\t0\t0.753988\t0.145105\t\t\t\r\n",
      "All Reads\tALL\t89\t39450\t26\t0\t1.121229\t0.219891\t\t\t\r\n",
      "All Reads\tALL\t90\t25735\t12\t25\t0.793277\t0.228999\t\t\t\r\n",
      "All Reads\tALL\t91\t16578\t4\t0\t0.410484\t0.205242\t\t\t\r\n",
      "All Reads\tALL\t92\t9919\t1\t0\t0.171514\t0.171514\t\t\t\r\n",
      "All Reads\tALL\t93\t6257\t0\t0\t0\t0\t\t\t\r\n",
      "All Reads\tALL\t94\t3553\t0\t0\t0\t0\t\t\t\r\n",
      "All Reads\tALL\t95\t1701\t1\t0\t1.000146\t1.000146\t\t\t\r\n",
      "All Reads\tALL\t96\t986\t1\t0\t1.725405\t1.725405\t\t\t\r\n",
      "All Reads\tALL\t97\t658\t3\t0\t7.756454\t4.478191\t\t\t\r\n",
      "All Reads\tALL\t98\t328\t3\t0\t15.560204\t8.983688\t\t\t\r\n",
      "All Reads\tALL\t99\t133\t0\t0\t0\t0\t\t\t\r\n",
      "All Reads\tALL\t100\t339\t0\t0\t0\t0\t\t\t\r\n",
      "\r\n",
      "\r\n"
     ]
    }
   ],
   "source": [
    "!cat $picard_metric_dir/SRR1294925_qc.gc_bias.detail_metrics.txt"
   ]
  },
  {
   "cell_type": "code",
   "execution_count": 9,
   "metadata": {},
   "outputs": [
    {
     "name": "stdout",
     "output_type": "stream",
     "text": [
      "## htsjdk.samtools.metrics.StringHeader\r\n",
      "# CollectMultipleMetrics INPUT=/cromwell_root/broad-dsde-mint-dev-cromwell-execution/cromwell-executions/TestSmartSeq2SingleCellPR/dbec853f-f908-44d5-abf8-c2b3e9a1c1dd/call-target_workflow/SmartSeq2SingleCell/efca6617-3b23-4620-8227-dd9484b9547f/call-HISAT2PairedEnd/SRR1294925_qc.bam ASSUME_SORTED=true OUTPUT=SRR1294925_qc METRIC_ACCUMULATION_LEVEL=[ALL_READS] FILE_EXTENSION=.txt PROGRAM=[CollectAlignmentSummaryMetrics, CollectInsertSizeMetrics, CollectGcBiasMetrics, CollectBaseDistributionByCycle, QualityScoreDistribution, MeanQualityByCycle, CollectSequencingArtifactMetrics, CollectQualityYieldMetrics] VALIDATION_STRINGENCY=SILENT REFERENCE_SEQUENCE=/cromwell_root/hca-dcp-mint-test-data/reference/GRCh38_Gencode/GRCh38.primary_assembly.genome.fa    STOP_AFTER=0 INCLUDE_UNPAIRED=false VERBOSITY=INFO QUIET=false COMPRESSION_LEVEL=5 MAX_RECORDS_IN_RAM=500000 CREATE_INDEX=false CREATE_MD5_FILE=false GA4GH_CLIENT_SECRETS=client_secrets.json USE_JDK_DEFLATER=false USE_JDK_INFLATER=false\r\n",
      "## htsjdk.samtools.metrics.StringHeader\r\n",
      "# Started on: Mon Jun 11 18:18:02 UTC 2018\r\n",
      "\r\n",
      "## METRICS CLASS\tpicard.analysis.artifacts.ErrorSummaryMetrics\r\n",
      "REF_BASE\tALT_BASE\tSUBSTITUTION\tREF_COUNT\tALT_COUNT\tSUBSTITUTION_RATE\r\n",
      "A\tC\tA>C\t24401010\t2760\t0.000113\r\n",
      "A\tG\tA>G\t24401010\t16630\t0.000681\r\n",
      "A\tT\tA>T\t24401010\t1734\t0.000071\r\n",
      "C\tA\tC>A\t21445638\t2022\t0.000094\r\n",
      "C\tG\tC>G\t21445638\t2412\t0.000112\r\n",
      "C\tT\tC>T\t21445638\t8860\t0.000413\r\n",
      "\r\n",
      "\r\n"
     ]
    }
   ],
   "source": [
    "!cat $picard_metric_dir/SRR1294925_qc.error_summary_metrics.txt"
   ]
  },
  {
   "cell_type": "code",
   "execution_count": 10,
   "metadata": {},
   "outputs": [
    {
     "name": "stdout",
     "output_type": "stream",
     "text": [
      "## htsjdk.samtools.metrics.StringHeader\r\n",
      "# CollectMultipleMetrics INPUT=/cromwell_root/broad-dsde-mint-dev-cromwell-execution/cromwell-executions/TestSmartSeq2SingleCellPR/dbec853f-f908-44d5-abf8-c2b3e9a1c1dd/call-target_workflow/SmartSeq2SingleCell/efca6617-3b23-4620-8227-dd9484b9547f/call-HISAT2PairedEnd/SRR1294925_qc.bam ASSUME_SORTED=true OUTPUT=SRR1294925_qc METRIC_ACCUMULATION_LEVEL=[ALL_READS] FILE_EXTENSION=.txt PROGRAM=[CollectAlignmentSummaryMetrics, CollectInsertSizeMetrics, CollectGcBiasMetrics, CollectBaseDistributionByCycle, QualityScoreDistribution, MeanQualityByCycle, CollectSequencingArtifactMetrics, CollectQualityYieldMetrics] VALIDATION_STRINGENCY=SILENT REFERENCE_SEQUENCE=/cromwell_root/hca-dcp-mint-test-data/reference/GRCh38_Gencode/GRCh38.primary_assembly.genome.fa    STOP_AFTER=0 INCLUDE_UNPAIRED=false VERBOSITY=INFO QUIET=false COMPRESSION_LEVEL=5 MAX_RECORDS_IN_RAM=500000 CREATE_INDEX=false CREATE_MD5_FILE=false GA4GH_CLIENT_SECRETS=client_secrets.json USE_JDK_DEFLATER=false USE_JDK_INFLATER=false\r\n",
      "## htsjdk.samtools.metrics.StringHeader\r\n",
      "# Started on: Mon Jun 11 18:18:02 UTC 2018\r\n",
      "\r\n",
      "\r\n",
      "## HISTOGRAM\tjava.lang.Integer\r\n",
      "CYCLE\tMEAN_QUALITY\r\n",
      "1\t31.963452\r\n",
      "2\t32.113368\r\n",
      "3\t32.184564\r\n",
      "4\t35.673597\r\n",
      "5\t35.742471\r\n",
      "6\t35.565782\r\n",
      "7\t35.521744\r\n",
      "8\t35.533292\r\n",
      "9\t37.238942\r\n",
      "10\t37.249274\r\n",
      "11\t37.27154\r\n",
      "12\t37.225097\r\n",
      "13\t37.143059\r\n",
      "14\t38.464909\r\n",
      "15\t38.449831\r\n",
      "16\t38.439777\r\n",
      "17\t38.47355\r\n",
      "18\t38.483869\r\n",
      "19\t38.581331\r\n",
      "20\t38.552279\r\n",
      "21\t38.537437\r\n",
      "22\t38.535268\r\n",
      "23\t38.48709\r\n",
      "24\t38.489727\r\n",
      "25\t37.399591\r\n",
      "26\t30.823857\r\n",
      "27\t31.013066\r\n",
      "28\t30.996483\r\n",
      "29\t34.435844\r\n",
      "30\t34.752189\r\n",
      "31\t34.852554\r\n",
      "32\t34.853331\r\n",
      "33\t34.859781\r\n",
      "34\t36.362958\r\n",
      "35\t36.476673\r\n",
      "36\t36.502879\r\n",
      "37\t36.455737\r\n",
      "38\t36.347936\r\n",
      "39\t37.571333\r\n",
      "40\t37.662116\r\n",
      "41\t37.604896\r\n",
      "42\t37.572207\r\n",
      "43\t37.537861\r\n",
      "44\t37.631276\r\n",
      "45\t37.64334\r\n",
      "46\t37.597318\r\n",
      "47\t37.580142\r\n",
      "48\t37.52147\r\n",
      "49\t37.564058\r\n",
      "50\t36.508983\r\n",
      "\r\n"
     ]
    }
   ],
   "source": [
    "!cat $picard_metric_dir/SRR1294925_qc.quality_by_cycle_metrics.txt"
   ]
  },
  {
   "cell_type": "code",
   "execution_count": 11,
   "metadata": {},
   "outputs": [
    {
     "name": "stdout",
     "output_type": "stream",
     "text": [
      "## htsjdk.samtools.metrics.StringHeader\r\n",
      "# CollectMultipleMetrics INPUT=/cromwell_root/broad-dsde-mint-dev-cromwell-execution/cromwell-executions/TestSmartSeq2SingleCellPR/dbec853f-f908-44d5-abf8-c2b3e9a1c1dd/call-target_workflow/SmartSeq2SingleCell/efca6617-3b23-4620-8227-dd9484b9547f/call-HISAT2PairedEnd/SRR1294925_qc.bam ASSUME_SORTED=true OUTPUT=SRR1294925_qc METRIC_ACCUMULATION_LEVEL=[ALL_READS] FILE_EXTENSION=.txt PROGRAM=[CollectAlignmentSummaryMetrics, CollectInsertSizeMetrics, CollectGcBiasMetrics, CollectBaseDistributionByCycle, QualityScoreDistribution, MeanQualityByCycle, CollectSequencingArtifactMetrics, CollectQualityYieldMetrics] VALIDATION_STRINGENCY=SILENT REFERENCE_SEQUENCE=/cromwell_root/hca-dcp-mint-test-data/reference/GRCh38_Gencode/GRCh38.primary_assembly.genome.fa    STOP_AFTER=0 INCLUDE_UNPAIRED=false VERBOSITY=INFO QUIET=false COMPRESSION_LEVEL=5 MAX_RECORDS_IN_RAM=500000 CREATE_INDEX=false CREATE_MD5_FILE=false GA4GH_CLIENT_SECRETS=client_secrets.json USE_JDK_DEFLATER=false USE_JDK_INFLATER=false\r\n",
      "## htsjdk.samtools.metrics.StringHeader\r\n",
      "# Started on: Mon Jun 11 18:18:02 UTC 2018\r\n",
      "\r\n",
      "## METRICS CLASS\tpicard.analysis.AlignmentSummaryMetrics\r\n",
      "CATEGORY\tTOTAL_READS\tPF_READS\tPCT_PF_READS\tPF_NOISE_READS\tPF_READS_ALIGNED\tPCT_PF_READS_ALIGNED\tPF_ALIGNED_BASES\tPF_HQ_ALIGNED_READS\tPF_HQ_ALIGNED_BASES\tPF_HQ_ALIGNED_Q20_BASES\tPF_HQ_MEDIAN_MISMATCHES\tPF_MISMATCH_RATE\tPF_HQ_ERROR_RATE\tPF_INDEL_RATE\tMEAN_READ_LENGTH\tREADS_ALIGNED_IN_PAIRS\tPCT_READS_ALIGNED_IN_PAIRS\tPF_READS_IMPROPER_PAIRS\tPCT_PF_READS_IMPROPER_PAIRS\tBAD_CYCLES\tSTRAND_BALANCE\tPCT_CHIMERAS\tPCT_ADAPTER\tSAMPLE\tLIBRARY\tREAD_GROUP\r\n",
      "FIRST_OF_PAIR\t708464\t708464\t1\t0\t620557\t0.875919\t15474854\t545623\t13614147\t13481269\t0\t0.000979\t0.000904\t0.000052\t25\t569427\t0.917606\t57860\t0.093239\t0\t0.50191\t0.012\t0.000001\t\t\t\r\n",
      "SECOND_OF_PAIR\t708464\t708464\t1\t0\t613894\t0.866514\t15296633\t539174\t13442337\t13231754\t0\t0.001114\t0.001002\t0.000123\t25\t569427\t0.927566\t51197\t0.083397\t0\t0.500181\t0.012132\t0.000001\t\t\t\r\n",
      "PAIR\t1416928\t1416928\t1\t0\t1234451\t0.871216\t30771487\t1084797\t27056484\t26713023\t0\t0.001046\t0.000953\t0.000088\t25\t1138854\t0.922559\t109057\t0.088345\t0\t0.50105\t0.012066\t0.000001\t\t\t\r\n",
      "\r\n",
      "\r\n"
     ]
    }
   ],
   "source": [
    "!cat $picard_metric_dir/SRR1294925_qc.alignment_summary_metrics.txt"
   ]
  },
  {
   "cell_type": "markdown",
   "metadata": {},
   "source": [
    "## Optimus Metrics\n",
    "\n",
    "Now, do the same for Optimus metrics. Optimus has all of the metrics in one file, although may not have the depth of analysis that the picard ones do. We could use picard + user research to identify missing metrics and expand our complement as recommended. "
   ]
  },
  {
   "cell_type": "code",
   "execution_count": 12,
   "metadata": {},
   "outputs": [
    {
     "name": "stdout",
     "output_type": "stream",
     "text": [
      "cell metrics\n",
      "\n",
      "n_reads\n",
      "noise_reads\n",
      "perfect_molecule_barcodes\n",
      "reads_mapped_exonic\n",
      "reads_mapped_intronic\n",
      "reads_mapped_utr\n",
      "reads_mapped_uniquely\n",
      "reads_mapped_multiple\n",
      "duplicate_reads\n",
      "spliced_reads\n",
      "antisense_reads\n",
      "molecule_barcode_fraction_bases_above_30_mean\n",
      "molecule_barcode_fraction_bases_above_30_variance\n",
      "genomic_reads_fraction_bases_quality_above_30_mean\n",
      "genomic_reads_fraction_bases_quality_above_30_variance\n",
      "genomic_read_quality_mean\n",
      "genomic_read_quality_variance\n",
      "n_molecules\n",
      "n_fragments\n",
      "reads_per_molecule\n",
      "reads_per_fragment\n",
      "fragments_per_molecule\n",
      "fragments_with_single_read_evidence\n",
      "molecules_with_single_read_evidence\n",
      "perfect_cell_barcodes\n",
      "reads_mapped_intergenic\n",
      "reads_unmapped\n",
      "reads_mapped_too_many_loci\n",
      "cell_barcode_fraction_bases_above_30_variance\n",
      "cell_barcode_fraction_bases_above_30_mean\n",
      "n_genes\n",
      "genes_detected_multiple_observations\n",
      "\n",
      "gene metrics\n",
      "\n",
      "n_reads\n",
      "noise_reads\n",
      "perfect_molecule_barcodes\n",
      "reads_mapped_exonic\n",
      "reads_mapped_intronic\n",
      "reads_mapped_utr\n",
      "reads_mapped_uniquely\n",
      "reads_mapped_multiple\n",
      "duplicate_reads\n",
      "spliced_reads\n",
      "antisense_reads\n",
      "molecule_barcode_fraction_bases_above_30_mean\n",
      "molecule_barcode_fraction_bases_above_30_variance\n",
      "genomic_reads_fraction_bases_quality_above_30_mean\n",
      "genomic_reads_fraction_bases_quality_above_30_variance\n",
      "genomic_read_quality_mean\n",
      "genomic_read_quality_variance\n",
      "n_molecules\n",
      "n_fragments\n",
      "reads_per_molecule\n",
      "reads_per_fragment\n",
      "fragments_per_molecule\n",
      "fragments_with_single_read_evidence\n",
      "molecules_with_single_read_evidence\n",
      "number_cells_detected_multiple\n",
      "number_cells_expressing\n"
     ]
    }
   ],
   "source": [
    "import pandas as pd\n",
    "\n",
    "optimus_metric_dir = os.path.expanduser('~/Desktop/optimus')\n",
    "\n",
    "print('cell metrics\\n')\n",
    "for c in pd.read_csv(os.path.join(optimus_metric_dir, 'merged-cell-metrics.csv.gz')).columns[1:]:\n",
    "    print(c)\n",
    "\n",
    "print('\\ngene metrics\\n')\n",
    "for c in pd.read_csv(os.path.join(optimus_metric_dir, 'merged-gene-metrics.csv.gz')).columns[1:]:\n",
    "    print(c)"
   ]
  },
  {
   "cell_type": "markdown",
   "metadata": {},
   "source": [
    "## Schema\n",
    "\n",
    "Picard does not appear to follow a consistent schema, although one can map their results into JSON using Crimson, which is helpful. The matrix service will require the data be shipped in the same storage format recommend for sequencing data. Currently this appears to be Zarr. \n",
    "\n",
    "## ACs for ticket humancellatlas/secondary-analysis#105: \n",
    "1. List of metrics to be updated: \n",
    "    1. All, both pipelines. This is a small epic that will span multiple tickets to implement in a forward-compatible fashion.\n",
    "2. names to be changed:\n",
    "    2. Both SS2 and Optimus metrics will need to be mapped to a schema that we generate. Many of the picard names will work as is, however some will need to change by nature of their specificity to the files that generated them. For example, \"REF_BASE\" and \"ALT_BASE\" lose substantial meaning when combined into a columnar file. \n",
    "3. Generally, the conclusion here is that a simple mapping from Optimus -> picard is neither possible nor practical, and that a larger effort should be undertaken to future-proof this aspect of secondary analysis. \n",
    "4. conclusion on this effort: 1.5\n",
    "\n",
    "\n",
    "## Further Implementation Suggestions: \n",
    "1. Approach Crimson developer about willingness to receive PRs that expand his tool to encompass additional formats (as we receive them). \n",
    "  1. Is BSD format OK for HCA? Ask about licensing if no. \n",
    "2. Expand it to read any other metrics. \n",
    "3. Write some kind of json-metric-to-zarr converter. Keep the 'to-zarr' part separated, in case we need to change things around later. \n",
    "4. In the process of doing this, determine our own internal schema and a series of maps from other tools' QC metrics. \n",
    "5. Around our schema, design a glossary that describes each metric. \n",
    "\n",
    "## Concrete Proposal: QC metrics Tool\n",
    "1. Maps of tool-specific names to HCA schema: enables conversion of names to internal notation\n",
    "2. Metric Converter library (Crimson?): enables conversion of metric data files to internal notation\n",
    "3. Metric formatter library: dumps the json internal representation to disk using a swappable format backend\n",
    "\n",
    "It is possible that (3) could be shared by the software used for the matrix service. Most of the code is hopefully embedded in library-specific writers (zarr has a fairly good one). "
   ]
  }
 ],
 "metadata": {
  "kernelspec": {
   "display_name": "Python 3",
   "language": "python",
   "name": "python3"
  },
  "language_info": {
   "codemirror_mode": {
    "name": "ipython",
    "version": 3
   },
   "file_extension": ".py",
   "mimetype": "text/x-python",
   "name": "python",
   "nbconvert_exporter": "python",
   "pygments_lexer": "ipython3",
   "version": "3.6.5"
  }
 },
 "nbformat": 4,
 "nbformat_minor": 2
}

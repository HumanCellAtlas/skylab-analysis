{
 "cells": [
  {
   "cell_type": "code",
   "execution_count": 1,
   "metadata": {},
   "outputs": [],
   "source": [
    "import json\n",
    "import os\n",
    "from google.cloud import storage\n",
    "import cromwell_manager as cwm\n",
    "with open(os.path.expanduser('~/.ssh/mint_cwm_config.json')) as f:\n",
    "    cromwell_server = cwm.Cromwell(**json.load(f))\n",
    "storage_client = storage.Client(project='broad-dsde-mint-dev')\n",
    "os.environ['wdltool'] = '/Users/jishuxu/Works/softwares/wdltool/target/scala-2.12/wdltool-0.15.jar'"
   ]
  },
  {
   "cell_type": "code",
   "execution_count": 2,
   "metadata": {},
   "outputs": [],
   "source": [
    "wdl_bm = '/Users/jishuxu/Works/github/HCA/skylab/benchmarking/smartseq2/RunBenchmarkingAnalysis.wdl'\n",
    "local_options={\n",
    "    \"monitoring_script\": \"gs://broad-dsde-mint-dev-teststorage/10x/benchmark/scripts/monitor.sh\",\n",
    "    \"workflow_failure_mode\": \"ContinueWhilePossible\",\n",
    "    \"read_from_cache\":true,\n",
    "    \"write_to_cache\":true\n",
    "}"
   ]
  },
  {
   "cell_type": "code",
   "execution_count": 72,
   "metadata": {},
   "outputs": [],
   "source": [
    "inputs_json = {\n",
    "  \"RunBenchmarkingAnalysis.scripts_dir\": \"gs://broad-dsde-mint-dev-teststorage/pipeline_testing_scripts\",\n",
    "  \"RunBenchmarkingAnalysis.base_datafile\": \"gs://broad-dsde-mint-dev-teststorage/benchmarking/ss2/STAR_rsem_merged_tpm.csv\",\n",
    "  \"RunBenchmarkingAnalysis.gtf_file\": \"gs://hca-dcp-mint-test-data/reference/GRCh38_Gencode/gencode.v27.primary_assembly.annotation.gtf\",\n",
    "  \"RunBenchmarkingAnalysis.metadata_file\":\"gs://broad-dsde-mint-dev-teststorage/sloan_sa_astrocytes/Sra_meta_groups_iPSC_730.csv\",\n",
    "  \"RunBenchmarkingAnalysis.updated_datafile\": \"gs://broad-dsde-mint-dev-teststorage/benchmarking/ss2/HISAT2_rsem_merged_tpm.csv\",\n",
    "  \"RunBenchmarkingAnalysis.base_metrics\":\"gs://broad-dsde-mint-dev-teststorage/benchmarking/ss2/STAR_metrics_combined.csv\",\n",
    "  \"RunBenchmarkingAnalysis.updated_metrics\":\"gs://broad-dsde-mint-dev-teststorage/benchmarking/ss2/HISAT2_metrics_combined.csv\",\n",
    "  \"RunBenchmarkingAnalysis.output_name\": \"STAR_HISAT2\",\n",
    "  \"RunBenchmarkingAnalysis.metKeys\":\"detected_ratio,MT_ratio,PCT_PF_READS_ALIGNED,PCT_PF_READS_IMPROPER_PAIRS,PCT_READS_ALIGNED_IN_PAIRS,PCT_CODING_BASES,PCT_INTERGENIC_BASES,PCT_INTRONIC_BASES,PCT_UTR_BASES,PCT_USABLE_BASES,PCT_MRNA_BASES,PCT_RIBOSOMAL_BASES,PERCENT_DUPLICATION,MEDIAN_5PRIME_TO_3PRIME_BIAS,MEDIAN_3PRIME_BIAS,MEDIAN_5PRIME_BIAS,MEDIAN_CV_COVERAGE,PF_MISMATCH_RATE,MEDIAN_INSERT_SIZE\",\n",
    "  \"RunBenchmarkingAnalysis.npcs\": 10,\n",
    "  \"RunBenchmarkingAnalysis.metadata_keys\": \"cell,lineage\"\n",
    "}"
   ]
  },
  {
   "cell_type": "code",
   "execution_count": 89,
   "metadata": {},
   "outputs": [],
   "source": []
  },
  {
   "cell_type": "code",
   "execution_count": 73,
   "metadata": {},
   "outputs": [
    {
     "name": "stdout",
     "output_type": "stream",
     "text": [
      "CWM:2018-04-27 11:08:48.224574:creating temporary directory\n",
      "CWM:2018-04-27 11:08:48.225750:writing wdl\n",
      "CWM:2018-04-27 11:08:48.226390:running wdltool validate\n",
      "CWM:2018-04-27 11:08:49.563502:validation successful\n",
      "CWM:2018-04-27 11:08:50.230077:checking docker image gcr.io/broad-dsde-mint-dev/benchmarking-tools:0.0.1... not found. Is image private?\n"
     ]
    }
   ],
   "source": [
    "cwm.Workflow.validate(\n",
    "    wdl=wdl_bm,\n",
    "    inputs_json=inputs_json,\n",
    "    storage_client=storage_client,\n",
    "    cromwell_server=cromwell_server\n",
    ")"
   ]
  },
  {
   "cell_type": "code",
   "execution_count": 92,
   "metadata": {},
   "outputs": [],
   "source": [
    "wf_bm = cwm.Workflow.from_submission(\n",
    "    wdl=wdl_bm,\n",
    "    inputs_json=inputs_json,\n",
    "    storage_client=storage_client,\n",
    "    cromwell_server=cromwell_server,\n",
    "    options_json=local_options\n",
    ")\n"
   ]
  },
  {
   "cell_type": "code",
   "execution_count": 95,
   "metadata": {},
   "outputs": [
    {
     "data": {
      "text/plain": [
       "{'id': 'd5dc9892-b83c-483d-bf1b-70b845634343', 'status': 'Succeeded'}"
      ]
     },
     "execution_count": 95,
     "metadata": {},
     "output_type": "execute_result"
    }
   ],
   "source": [
    "wf_bm.status"
   ]
  },
  {
   "cell_type": "code",
   "execution_count": null,
   "metadata": {},
   "outputs": [],
   "source": []
  }
 ],
 "metadata": {
  "kernelspec": {
   "display_name": "Python 3",
   "language": "python",
   "name": "python3"
  },
  "language_info": {
   "codemirror_mode": {
    "name": "ipython",
    "version": 3
   },
   "file_extension": ".py",
   "mimetype": "text/x-python",
   "name": "python",
   "nbconvert_exporter": "python",
   "pygments_lexer": "ipython3",
   "version": "3.6.4"
  }
 },
 "nbformat": 4,
 "nbformat_minor": 2
}

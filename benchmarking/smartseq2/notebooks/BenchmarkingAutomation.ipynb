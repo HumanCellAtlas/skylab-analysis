{
 "cells": [
  {
   "cell_type": "code",
   "execution_count": 1,
   "metadata": {},
   "outputs": [],
   "source": [
    "import json\n",
    "import os\n",
    "from google.cloud import storage\n",
    "import cromwell_manager as cwm\n",
    "with open(os.path.expanduser('~/.ssh/mint_cwm_config.json')) as f:\n",
    "    cromwell_server = cwm.Cromwell(**json.load(f))\n",
    "storage_client = storage.Client(project='broad-dsde-mint-dev')\n",
    "os.environ['wdltool'] = '/Users/jishuxu/Works/softwares/wdltool/target/scala-2.12/wdltool-0.15.jar'"
   ]
  },
  {
   "cell_type": "code",
   "execution_count": 13,
   "metadata": {},
   "outputs": [],
   "source": [
    "wdl_bm = '/Users/jishuxu/Works/github/HCA/skylab/benchmarking/smartseq2/RunBenchmarkingAnalysis.wdl'\n",
    "local_options={\n",
    "    \"monitoring_script\": \"gs://broad-dsde-mint-dev-teststorage/10x/benchmark/scripts/monitor.sh\",\n",
    "    \"workflow_failure_mode\": \"ContinueWhilePossible\",\n",
    "    \"read_from_cache\":False,\n",
    "    \"write_to_cache\":True\n",
    "}\n",
    "dependencies_json={\n",
    "    \"BenchmarkingTasks.wdl\":\"/Users/jishuxu/Works/github/HCA/skylab/benchmarking/smartseq2/BenchmarkingTasks.wdl\"\n",
    "}"
   ]
  },
  {
   "cell_type": "markdown",
   "metadata": {},
   "source": [
    "iPSC data"
   ]
  },
  {
   "cell_type": "code",
   "execution_count": 14,
   "metadata": {},
   "outputs": [],
   "source": [
    "inputs_json_iPSC = {\n",
    "  \"RunBenchmarkingAnalysis.base_datafile\": \"gs://hca-dcp-mint-test-data/benchmarking/iPSC_Sloan/STAR_rsem_merged_tpm.csv\",\n",
    "  \"RunBenchmarkingAnalysis.gtf_file\": \"gs://hca-dcp-mint-test-data/reference/GRCh38_Gencode/gencode.v27.primary_assembly.annotation.gtf\",\n",
    "  \"RunBenchmarkingAnalysis.metadata_file\":\"gs://hca-dcp-mint-test-data/benchmarking/iPSC_Sloan/Sra_meta_groups_iPSC_730.csv\",\n",
    "  \"RunBenchmarkingAnalysis.updated_datafile\": \"gs://hca-dcp-mint-test-data/benchmarking/iPSC_Sloan/HISAT2_rsem_merged_tpm.csv\",\n",
    "  \"RunBenchmarkingAnalysis.base_metrics\":\"gs://hca-dcp-mint-test-data/benchmarking/iPSC_Sloan/STAR_metrics_combined.csv\",\n",
    "  \"RunBenchmarkingAnalysis.updated_metrics\":\"gs://hca-dcp-mint-test-data/benchmarking/iPSC_Sloan/HISAT2_metrics_combined.csv\",\n",
    "  \"RunBenchmarkingAnalysis.output_name\": \"STAR_HISAT2_iPSC\",\n",
    "  \"RunBenchmarkingAnalysis.met_keys\":\"detected_ratio,MT_ratio,MEDIAN_INSERT_SIZE,MEAN_INSERT_SIZE,PCT_CHIMERAS,PCT_PF_READS_ALIGNED,PCT_PF_READS_IMPROPER_PAIRS,PCT_READS_ALIGNED_IN_PAIRS,PCT_CODING_BASES,PCT_INTERGENIC_BASES,PCT_INTRONIC_BASES,PCT_UTR_BASES,PCT_USABLE_BASES,PCT_MRNA_BASES,PCT_RIBOSOMAL_BASES,PERCENT_DUPLICATION,MEDIAN_5PRIME_TO_3PRIME_BIAS,MEDIAN_3PRIME_BIAS,MEDIAN_5PRIME_BIAS,MEDIAN_CV_COVERAGE,PF_MISMATCH_RATE,MEDIAN_INSERT_SIZE\",\n",
    "  \"RunBenchmarkingAnalysis.npcs\": 10,\n",
    "  \"RunBenchmarkingAnalysis.metadata_keys\": \"cell,lineage\",\n",
    "  \"RunBenchmarkingAnalysis.groups\": \"population\",\n",
    "  \"RunBenchmarkingAnalysis.low_cut\": \"5\",\n",
    "  \"RunBenchmarkingAnalysis.high_cut\": \"15\"\n",
    "}"
   ]
  },
  {
   "cell_type": "code",
   "execution_count": 89,
   "metadata": {},
   "outputs": [],
   "source": []
  },
  {
   "cell_type": "code",
   "execution_count": 15,
   "metadata": {},
   "outputs": [
    {
     "name": "stdout",
     "output_type": "stream",
     "text": [
      "CWM:2018-05-30 11:22:32.788971:creating temporary directory\n",
      "CWM:2018-05-30 11:22:32.789613:writing dependencies\n",
      "CWM:2018-05-30 11:22:32.803736:writing wdl\n",
      "CWM:2018-05-30 11:22:32.805318:running wdltool validate\n",
      "CWM:2018-05-30 11:22:34.197151:validation successful\n",
      "CWM:2018-05-30 11:22:34.606946:checking docker image gcr.io/broad-dsde-mint-dev/benchmarking-tools:0.0.1... not found. Is image private?\n"
     ]
    }
   ],
   "source": [
    "cwm.Workflow.validate(\n",
    "    wdl=wdl_bm,\n",
    "    inputs_json=inputs_json_iPSC,\n",
    "    storage_client=storage_client,\n",
    "    cromwell_server=cromwell_server,\n",
    "    workflow_dependencies=dependencies_json\n",
    ")"
   ]
  },
  {
   "cell_type": "code",
   "execution_count": 16,
   "metadata": {},
   "outputs": [],
   "source": [
    "wf_bm_iPSC = cwm.Workflow.from_submission(\n",
    "    wdl=wdl_bm,\n",
    "    inputs_json=inputs_json_iPSC,\n",
    "    storage_client=storage_client,\n",
    "    cromwell_server=cromwell_server,\n",
    "    options_json=local_options,\n",
    "    workflow_dependencies=dependencies_json\n",
    ")\n"
   ]
  },
  {
   "cell_type": "code",
   "execution_count": 17,
   "metadata": {},
   "outputs": [
    {
     "data": {
      "text/plain": [
       "{'id': 'f99b70fe-a4aa-4bc0-bf6f-302ed15b6517', 'status': 'Submitted'}"
      ]
     },
     "execution_count": 17,
     "metadata": {},
     "output_type": "execute_result"
    }
   ],
   "source": [
    "wf_bm_iPSC.status"
   ]
  },
  {
   "cell_type": "markdown",
   "metadata": {},
   "source": [
    "Run another dataset"
   ]
  },
  {
   "cell_type": "code",
   "execution_count": 18,
   "metadata": {},
   "outputs": [],
   "source": [
    "inputs_json_Tcell = {\n",
    "  \"RunBenchmarkingAnalysis.base_datafile\": \"gs://hca-dcp-mint-test-data/benchmarking/Tcell_Afik_S/STAR_rsem_merged_tpm.csv\",\n",
    "  \"RunBenchmarkingAnalysis.gtf_file\": \"gs://hca-dcp-mint-test-data/reference/GRCh38_Gencode/gencode.v27.primary_assembly.annotation.gtf\",\n",
    "  \"RunBenchmarkingAnalysis.metadata_file\":\"gs://hca-dcp-mint-test-data/benchmarking/Tcell_Afik_S/Sra_HS_Tcell_Afik_S.csv\",\n",
    "  \"RunBenchmarkingAnalysis.updated_datafile\": \"gs://hca-dcp-mint-test-data/benchmarking/Tcell_Afik_S/HISAT2_rsem_merged_tpm.csv\",\n",
    "  \"RunBenchmarkingAnalysis.base_metrics\":\"gs://hca-dcp-mint-test-data/benchmarking/Tcell_Afik_S/STAR_combined_metrics.csv\",\n",
    "  \"RunBenchmarkingAnalysis.updated_metrics\":\"gs://hca-dcp-mint-test-data/benchmarking/Tcell_Afik_S/HISAT2_combined_metrics.csv\",\n",
    "  \"RunBenchmarkingAnalysis.output_name\": \"STAR_HISAT2_TCell\",\n",
    "  \"RunBenchmarkingAnalysis.met_keys\":\"detected_ratio,MT_ratio,MEDIAN_INSERT_SIZE,MEAN_INSERT_SIZE,PCT_CHIMERAS,PCT_PF_READS_ALIGNED,PCT_PF_READS_IMPROPER_PAIRS,PCT_READS_ALIGNED_IN_PAIRS,PCT_CODING_BASES,PCT_INTERGENIC_BASES,PCT_INTRONIC_BASES,PCT_UTR_BASES,PCT_USABLE_BASES,PCT_MRNA_BASES,PCT_RIBOSOMAL_BASES,PERCENT_DUPLICATION,MEDIAN_5PRIME_TO_3PRIME_BIAS,MEDIAN_3PRIME_BIAS,MEDIAN_5PRIME_BIAS,MEDIAN_CV_COVERAGE,PF_MISMATCH_RATE,MEDIAN_INSERT_SIZE\",\n",
    "  \"RunBenchmarkingAnalysis.npcs\": 10,\n",
    "  \"RunBenchmarkingAnalysis.metadata_keys\": \"source,population\",\n",
    "  \"RunBenchmarkingAnalysis.groups\": \"population\",\n",
    "      \"RunBenchmarkingAnalysis.low_cut\": \"5\",\n",
    "  \"RunBenchmarkingAnalysis.high_cut\": \"15\"\n",
    "\n",
    "}"
   ]
  },
  {
   "cell_type": "code",
   "execution_count": 19,
   "metadata": {},
   "outputs": [
    {
     "name": "stdout",
     "output_type": "stream",
     "text": [
      "CWM:2018-05-30 11:23:21.498401:creating temporary directory\n",
      "CWM:2018-05-30 11:23:21.503251:writing dependencies\n",
      "CWM:2018-05-30 11:23:21.512875:writing wdl\n",
      "CWM:2018-05-30 11:23:21.514333:running wdltool validate\n",
      "CWM:2018-05-30 11:23:22.656486:validation successful\n",
      "CWM:2018-05-30 11:23:23.072044:checking docker image gcr.io/broad-dsde-mint-dev/benchmarking-tools:0.0.1... not found. Is image private?\n"
     ]
    }
   ],
   "source": [
    "cwm.Workflow.validate(\n",
    "    wdl=wdl_bm,\n",
    "    inputs_json=inputs_json_Tcell,\n",
    "    storage_client=storage_client,\n",
    "    cromwell_server=cromwell_server,\n",
    "    workflow_dependencies=dependencies_json\n",
    ")"
   ]
  },
  {
   "cell_type": "code",
   "execution_count": 20,
   "metadata": {},
   "outputs": [],
   "source": [
    "wf_bm_tcell = cwm.Workflow.from_submission(\n",
    "    wdl=wdl_bm,\n",
    "    inputs_json=inputs_json_Tcell,\n",
    "    storage_client=storage_client,\n",
    "    cromwell_server=cromwell_server,\n",
    "    options_json=local_options,\n",
    "    workflow_dependencies=dependencies_json\n",
    ")"
   ]
  },
  {
   "cell_type": "code",
   "execution_count": 9,
   "metadata": {},
   "outputs": [
    {
     "data": {
      "text/plain": [
       "{'id': '9ed5098c-391f-45fa-892a-ea8b2fc10520', 'status': 'Submitted'}"
      ]
     },
     "execution_count": 9,
     "metadata": {},
     "output_type": "execute_result"
    }
   ],
   "source": [
    "wf_bm_tcell.status"
   ]
  },
  {
   "cell_type": "markdown",
   "metadata": {},
   "source": [
    "GBM"
   ]
  },
  {
   "cell_type": "code",
   "execution_count": 21,
   "metadata": {},
   "outputs": [],
   "source": [
    "inputs_json_GBM = {\n",
    "  \"RunBenchmarkingAnalysis.base_datafile\": \"gs://hca-dcp-mint-test-data/benchmarking/GBM/star_rsem_gene_results_TPM.csv\",\n",
    "  \"RunBenchmarkingAnalysis.gtf_file\": \"gs://hca-dcp-mint-test-data/reference/GRCh38_Gencode/gencode.v27.primary_assembly.annotation.gtf\",\n",
    "  \"RunBenchmarkingAnalysis.metadata_file\":\"gs://hca-dcp-mint-test-data/benchmarking/GBM/GBM_meta.csv\",\n",
    "  \"RunBenchmarkingAnalysis.updated_datafile\": \"gs://hca-dcp-mint-test-data/benchmarking/GBM/hisat2rsem_genes_TPM.csv\",\n",
    "  \"RunBenchmarkingAnalysis.base_metrics\":\"gs://hca-dcp-mint-test-data/benchmarking/GBM/star_combined_QC.csv\",\n",
    "  \"RunBenchmarkingAnalysis.updated_metrics\":\"gs://hca-dcp-mint-test-data/benchmarking/GBM/hisat2_combined_QC.csv\",\n",
    "  \"RunBenchmarkingAnalysis.output_name\": \"STAR_HISAT2_GBM\",\n",
    "  \"RunBenchmarkingAnalysis.met_keys\":\"detected_ratio,MT_ratio,MEDIAN_INSERT_SIZE,MEAN_INSERT_SIZE,PCT_CHIMERAS,PCT_PF_READS_ALIGNED,PCT_PF_READS_IMPROPER_PAIRS,PCT_READS_ALIGNED_IN_PAIRS,PCT_CODING_BASES,PCT_INTERGENIC_BASES,PCT_INTRONIC_BASES,PCT_UTR_BASES,PCT_USABLE_BASES,PCT_MRNA_BASES,PCT_RIBOSOMAL_BASES,PERCENT_DUPLICATION,MEDIAN_5PRIME_TO_3PRIME_BIAS,MEDIAN_3PRIME_BIAS,MEDIAN_5PRIME_BIAS,MEDIAN_CV_COVERAGE,PF_MISMATCH_RATE,MEDIAN_INSERT_SIZE\",\n",
    "  \"RunBenchmarkingAnalysis.npcs\": 10,\n",
    "  \"RunBenchmarkingAnalysis.metadata_keys\": \"patient_id,population\",\n",
    "  \"RunBenchmarkingAnalysis.groups\": \"population\",\n",
    "  \"RunBenchmarkingAnalysis.low_cut\": \"5\",\n",
    "  \"RunBenchmarkingAnalysis.high_cut\": \"15\"\n",
    "\n",
    "}"
   ]
  },
  {
   "cell_type": "code",
   "execution_count": 22,
   "metadata": {},
   "outputs": [
    {
     "name": "stdout",
     "output_type": "stream",
     "text": [
      "CWM:2018-05-30 11:23:38.874984:creating temporary directory\n",
      "CWM:2018-05-30 11:23:38.875975:writing dependencies\n",
      "CWM:2018-05-30 11:23:38.884995:writing wdl\n",
      "CWM:2018-05-30 11:23:38.887113:running wdltool validate\n",
      "CWM:2018-05-30 11:23:39.967097:validation successful\n",
      "CWM:2018-05-30 11:23:40.718998:checking docker image gcr.io/broad-dsde-mint-dev/benchmarking-tools:0.0.1... not found. Is image private?\n"
     ]
    }
   ],
   "source": [
    "cwm.Workflow.validate(\n",
    "    wdl=wdl_bm,\n",
    "    inputs_json=inputs_json_GBM,\n",
    "    storage_client=storage_client,\n",
    "    cromwell_server=cromwell_server,\n",
    "    workflow_dependencies=dependencies_json\n",
    ")"
   ]
  },
  {
   "cell_type": "code",
   "execution_count": 23,
   "metadata": {},
   "outputs": [],
   "source": [
    "wf_bm_GBM = cwm.Workflow.from_submission(\n",
    "    wdl=wdl_bm,\n",
    "    inputs_json=inputs_json_GBM,\n",
    "    storage_client=storage_client,\n",
    "    cromwell_server=cromwell_server,\n",
    "    options_json=local_options,\n",
    "    workflow_dependencies=dependencies_json\n",
    ")"
   ]
  },
  {
   "cell_type": "code",
   "execution_count": 12,
   "metadata": {},
   "outputs": [
    {
     "data": {
      "text/plain": [
       "{'id': '4a4ce912-bb0c-459e-87e0-2bc927f1cdd0', 'status': 'Running'}"
      ]
     },
     "execution_count": 12,
     "metadata": {},
     "output_type": "execute_result"
    }
   ],
   "source": [
    "wf_bm_GBM.status"
   ]
  },
  {
   "cell_type": "code",
   "execution_count": null,
   "metadata": {},
   "outputs": [],
   "source": []
  }
 ],
 "metadata": {
  "kernelspec": {
   "display_name": "Python 3",
   "language": "python",
   "name": "python3"
  },
  "language_info": {
   "codemirror_mode": {
    "name": "ipython",
    "version": 3
   },
   "file_extension": ".py",
   "mimetype": "text/x-python",
   "name": "python",
   "nbconvert_exporter": "python",
   "pygments_lexer": "ipython3",
   "version": "3.6.4"
  }
 },
 "nbformat": 4,
 "nbformat_minor": 2
}

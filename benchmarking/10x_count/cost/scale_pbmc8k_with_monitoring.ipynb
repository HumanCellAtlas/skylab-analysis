{
 "cells": [
  {
   "cell_type": "markdown",
   "metadata": {},
   "source": [
    "## Imports and server setup"
   ]
  },
  {
   "cell_type": "code",
   "execution_count": 2,
   "metadata": {
    "collapsed": true,
    "deletable": true,
    "editable": true
   },
   "outputs": [],
   "source": [
    "# parsing & plotting, later\n",
    "import pandas as pd\n",
    "import numpy as np\n",
    "import matplotlib.pyplot as plt\n",
    "from collections import defaultdict\n",
    "%matplotlib inline"
   ]
  },
  {
   "cell_type": "code",
   "execution_count": 3,
   "metadata": {
    "collapsed": true,
    "deletable": true,
    "editable": true
   },
   "outputs": [],
   "source": [
    "# for workflow management\n",
    "import json\n",
    "import os\n",
    "from google.cloud import storage\n",
    "import cromwell_manager as cwm\n",
    "\n",
    "with open(os.path.expanduser('~/.ssh/mint_cromwell_config.json')) as f:\n",
    "    cromwell_server = cwm.Cromwell(**json.load(f))\n",
    "    storage_client = storage.Client(project='broad-dsde-mint-dev')"
   ]
  },
  {
   "cell_type": "markdown",
   "metadata": {},
   "source": [
    "## Define and run the un-optimized workflows"
   ]
  },
  {
   "cell_type": "code",
   "execution_count": 1,
   "metadata": {
    "collapsed": true,
    "deletable": true,
    "editable": true
   },
   "outputs": [],
   "source": [
    "wdl = '../count/count.wdl'\n",
    "inputs = 'pbmc8k_inputs.json'\n",
    "options = 'https://raw.githubusercontent.com/ambrosejcarr/cromwell-manager/master/src/accessories/long_call_caching.json'"
   ]
  },
  {
   "cell_type": "code",
   "execution_count": 6,
   "metadata": {
    "collapsed": true,
    "deletable": true,
    "editable": true
   },
   "outputs": [],
   "source": [
    "full_monitored = cwm.Workflow.from_submission(wdl=wdl, inputs_json=inputs, options_json=options, cromwell_server=cromwell_server, storage_client=storage_client)\n",
    "full_monitored_from_get_trimmed_aligned = cwm.Workflow.from_submission(wdl=wdl, inputs_json=inputs, options_json=options, cromwell_server=cromwell_server, storage_client=storage_client)"
   ]
  },
  {
   "cell_type": "code",
   "execution_count": 7,
   "metadata": {
    "collapsed": true,
    "deletable": true,
    "editable": true
   },
   "outputs": [],
   "source": [
    "full_monitored = cwm.Workflow('52b9df91-088d-44b0-b3a8-5c5a6b542268', cromwell_server=cromwell_server, storage_client=storage_client)\n",
    "full_monitored_from_get_trimmed_aligned = cwm.Workflow('d89225c5-b804-4b13-a8fb-98a71557c800', cromwell_server=cromwell_server, storage_client=storage_client)"
   ]
  },
  {
   "cell_type": "markdown",
   "metadata": {},
   "source": [
    "## Parse the data; identify and save cost information"
   ]
  },
  {
   "cell_type": "code",
   "execution_count": 18,
   "metadata": {
    "collapsed": true,
    "deletable": true,
    "editable": true
   },
   "outputs": [],
   "source": [
    "# here's what I did last time. This time I'll need to: \n",
    "# 1. merge the two tasks -- shouldn't be too bad, the second is a superset of the first. Account for possibility of None's (also make sure to commit that change! if it works)\n",
    "# 2. find the average of each task over all the shards when possible, otherwise use the max \n",
    "\n",
    "max_memory = defaultdict(list)\n",
    "available_memory = defaultdict(list)\n",
    "max_disk = defaultdict(list)\n",
    "available_disk = defaultdict(list)\n",
    "\n",
    "def extract_info(task):\n",
    "    \"\"\"awful little side-effecting function to fill dictionaries\"\"\"\n",
    "    ru = task.resource_utilization\n",
    "    if ru is None:  # allow for None\n",
    "        return\n",
    "    max_memory[ru.task_name].append(ru.max_memory)\n",
    "    max_disk[ru.task_name].append(ru.max_disk)\n",
    "    available_memory[ru.task_name].append(ru.total_memory)\n",
    "    available_disk[ru.task_name].append(ru.total_disk)\n",
    "\n",
    "for task_name, calledtask1 in full_monitored_from_get_trimmed_aligned.tasks.items():\n",
    "    \n",
    "    # get the other run's tasks\n",
    "    if task_name in full_monitored.tasks:\n",
    "        calledtask2 = full_monitored.tasks[task_name]\n",
    "        for shard in calledtask2._shards:\n",
    "            extract_info(shard)\n",
    "    \n",
    "    for shard in calledtask1._shards:\n",
    "        extract_info(shard)\n",
    "    \n",
    "mean_max_memory = {key: np.mean(val) for key, val in max_memory.items()}\n",
    "max_max_memory = {key: np.max(val) for key, val in max_memory.items()}\n",
    "std_max_memory = {key: np.std(val) for key, val in max_memory.items()}\n",
    "mean_max_disk = {key: np.mean(val) for key, val in max_disk.items()}\n",
    "max_max_disk = {key: np.max(val) for key, val in max_disk.items()}\n",
    "std_max_disk = {key: np.std(val) for key, val in max_disk.items()}\n",
    "available_memory = {key: np.mean(val) for key, val in available_memory.items()}\n",
    "available_disk = {key: np.mean(val) for key, val in available_disk.items()}\n",
    "\n",
    "parsed_data = pd.DataFrame({\n",
    "    'mean_max_memory': mean_max_memory,\n",
    "    'max_max_memory': max_max_memory,\n",
    "    'std_max_memory': std_max_memory,\n",
    "    'available_memory': available_memory,\n",
    "    'mean_max_disk': mean_max_disk,\n",
    "    'max_max_disk': max_max_disk,\n",
    "    'std_max_disk': std_max_disk,\n",
    "    'available_disk': available_disk\n",
    "    \n",
    "})"
   ]
  },
  {
   "cell_type": "code",
   "execution_count": 17,
   "metadata": {
    "collapsed": false,
    "deletable": true,
    "editable": true,
    "scrolled": false
   },
   "outputs": [
    {
     "data": {
      "text/html": [
       "<div>\n",
       "<style>\n",
       "    .dataframe thead tr:only-child th {\n",
       "        text-align: right;\n",
       "    }\n",
       "\n",
       "    .dataframe thead th {\n",
       "        text-align: left;\n",
       "    }\n",
       "\n",
       "    .dataframe tbody tr th {\n",
       "        vertical-align: top;\n",
       "    }\n",
       "</style>\n",
       "<table border=\"1\" class=\"dataframe\">\n",
       "  <thead>\n",
       "    <tr style=\"text-align: right;\">\n",
       "      <th></th>\n",
       "      <th>available_disk</th>\n",
       "      <th>available_memory</th>\n",
       "      <th>max_max_disk</th>\n",
       "      <th>max_max_memory</th>\n",
       "      <th>mean_max_disk</th>\n",
       "      <th>mean_max_memory</th>\n",
       "      <th>var_max_disk</th>\n",
       "      <th>var_max_memory</th>\n",
       "    </tr>\n",
       "  </thead>\n",
       "  <tbody>\n",
       "    <tr>\n",
       "      <th>align_reads_main</th>\n",
       "      <td>1.031992e+09</td>\n",
       "      <td>60402.0</td>\n",
       "      <td>38558320</td>\n",
       "      <td>16527</td>\n",
       "      <td>3.801333e+07</td>\n",
       "      <td>16497.968354</td>\n",
       "      <td>432717.967862</td>\n",
       "      <td>11.990725</td>\n",
       "    </tr>\n",
       "    <tr>\n",
       "      <th>align_reads_split</th>\n",
       "      <td>1.031992e+09</td>\n",
       "      <td>30163.0</td>\n",
       "      <td>34067928</td>\n",
       "      <td>306</td>\n",
       "      <td>3.406793e+07</td>\n",
       "      <td>306.000000</td>\n",
       "      <td>0.000000</td>\n",
       "      <td>0.000000</td>\n",
       "    </tr>\n",
       "    <tr>\n",
       "      <th>attach_bcs_and_umis_join</th>\n",
       "      <td>1.031992e+09</td>\n",
       "      <td>30163.0</td>\n",
       "      <td>196448904</td>\n",
       "      <td>3590</td>\n",
       "      <td>1.964489e+08</td>\n",
       "      <td>3590.000000</td>\n",
       "      <td>0.000000</td>\n",
       "      <td>0.000000</td>\n",
       "    </tr>\n",
       "    <tr>\n",
       "      <th>chunk_reads_join</th>\n",
       "      <td>1.031992e+09</td>\n",
       "      <td>30163.0</td>\n",
       "      <td>73492</td>\n",
       "      <td>284</td>\n",
       "      <td>7.348200e+04</td>\n",
       "      <td>283.000000</td>\n",
       "      <td>10.000000</td>\n",
       "      <td>1.000000</td>\n",
       "    </tr>\n",
       "    <tr>\n",
       "      <th>chunk_reads_main</th>\n",
       "      <td>1.031992e+09</td>\n",
       "      <td>30163.0</td>\n",
       "      <td>285167928</td>\n",
       "      <td>366</td>\n",
       "      <td>2.849237e+08</td>\n",
       "      <td>330.250000</td>\n",
       "      <td>219745.497974</td>\n",
       "      <td>35.280129</td>\n",
       "    </tr>\n",
       "    <tr>\n",
       "      <th>chunk_reads_split</th>\n",
       "      <td>1.031992e+09</td>\n",
       "      <td>30163.0</td>\n",
       "      <td>73108</td>\n",
       "      <td>279</td>\n",
       "      <td>7.310800e+04</td>\n",
       "      <td>279.000000</td>\n",
       "      <td>0.000000</td>\n",
       "      <td>0.000000</td>\n",
       "    </tr>\n",
       "    <tr>\n",
       "      <th>count_genes_join</th>\n",
       "      <td>1.031992e+09</td>\n",
       "      <td>30163.0</td>\n",
       "      <td>19144628</td>\n",
       "      <td>2161</td>\n",
       "      <td>1.914463e+07</td>\n",
       "      <td>2161.000000</td>\n",
       "      <td>0.000000</td>\n",
       "      <td>0.000000</td>\n",
       "    </tr>\n",
       "    <tr>\n",
       "      <th>count_genes_main</th>\n",
       "      <td>1.031992e+09</td>\n",
       "      <td>30163.0</td>\n",
       "      <td>129857068</td>\n",
       "      <td>1621</td>\n",
       "      <td>1.297686e+08</td>\n",
       "      <td>1053.324873</td>\n",
       "      <td>19869.105920</td>\n",
       "      <td>131.910545</td>\n",
       "    </tr>\n",
       "    <tr>\n",
       "      <th>count_genes_split</th>\n",
       "      <td>1.031992e+09</td>\n",
       "      <td>30163.0</td>\n",
       "      <td>129761828</td>\n",
       "      <td>332</td>\n",
       "      <td>1.297618e+08</td>\n",
       "      <td>332.000000</td>\n",
       "      <td>0.000000</td>\n",
       "      <td>0.000000</td>\n",
       "    </tr>\n",
       "    <tr>\n",
       "      <th>extract_reads_join</th>\n",
       "      <td>1.031992e+09</td>\n",
       "      <td>30163.0</td>\n",
       "      <td>305387868</td>\n",
       "      <td>562</td>\n",
       "      <td>3.053865e+08</td>\n",
       "      <td>538.000000</td>\n",
       "      <td>1380.000000</td>\n",
       "      <td>24.000000</td>\n",
       "    </tr>\n",
       "    <tr>\n",
       "      <th>extract_reads_main</th>\n",
       "      <td>1.031992e+09</td>\n",
       "      <td>30163.0</td>\n",
       "      <td>4698864</td>\n",
       "      <td>641</td>\n",
       "      <td>4.527025e+06</td>\n",
       "      <td>550.579114</td>\n",
       "      <td>310827.609266</td>\n",
       "      <td>11.921025</td>\n",
       "    </tr>\n",
       "    <tr>\n",
       "      <th>extract_reads_split</th>\n",
       "      <td>1.031992e+09</td>\n",
       "      <td>30163.0</td>\n",
       "      <td>73284</td>\n",
       "      <td>296</td>\n",
       "      <td>7.328400e+04</td>\n",
       "      <td>296.000000</td>\n",
       "      <td>0.000000</td>\n",
       "      <td>0.000000</td>\n",
       "    </tr>\n",
       "    <tr>\n",
       "      <th>filter_barcodes</th>\n",
       "      <td>1.031992e+09</td>\n",
       "      <td>30163.0</td>\n",
       "      <td>420044</td>\n",
       "      <td>1001</td>\n",
       "      <td>4.200440e+05</td>\n",
       "      <td>1001.000000</td>\n",
       "      <td>0.000000</td>\n",
       "      <td>0.000000</td>\n",
       "    </tr>\n",
       "    <tr>\n",
       "      <th>get_trimmed_and_aligned</th>\n",
       "      <td>1.031992e+09</td>\n",
       "      <td>30163.0</td>\n",
       "      <td>114236936</td>\n",
       "      <td>291</td>\n",
       "      <td>1.142369e+08</td>\n",
       "      <td>291.000000</td>\n",
       "      <td>0.000000</td>\n",
       "      <td>0.000000</td>\n",
       "    </tr>\n",
       "    <tr>\n",
       "      <th>mark_duplicates_join</th>\n",
       "      <td>1.031992e+09</td>\n",
       "      <td>30163.0</td>\n",
       "      <td>95614872</td>\n",
       "      <td>284</td>\n",
       "      <td>9.561487e+07</td>\n",
       "      <td>284.000000</td>\n",
       "      <td>0.000000</td>\n",
       "      <td>0.000000</td>\n",
       "    </tr>\n",
       "    <tr>\n",
       "      <th>mark_duplicates_main</th>\n",
       "      <td>1.031992e+09</td>\n",
       "      <td>30163.0</td>\n",
       "      <td>130065876</td>\n",
       "      <td>459</td>\n",
       "      <td>1.299336e+08</td>\n",
       "      <td>366.680203</td>\n",
       "      <td>39680.060224</td>\n",
       "      <td>12.741645</td>\n",
       "    </tr>\n",
       "    <tr>\n",
       "      <th>setup_chunks</th>\n",
       "      <td>1.031992e+09</td>\n",
       "      <td>3704.0</td>\n",
       "      <td>77261248</td>\n",
       "      <td>124</td>\n",
       "      <td>7.726124e+07</td>\n",
       "      <td>122.500000</td>\n",
       "      <td>4.000000</td>\n",
       "      <td>1.500000</td>\n",
       "    </tr>\n",
       "  </tbody>\n",
       "</table>\n",
       "</div>"
      ],
      "text/plain": [
       "                          available_disk  available_memory  max_max_disk  \\\n",
       "align_reads_main            1.031992e+09           60402.0      38558320   \n",
       "align_reads_split           1.031992e+09           30163.0      34067928   \n",
       "attach_bcs_and_umis_join    1.031992e+09           30163.0     196448904   \n",
       "chunk_reads_join            1.031992e+09           30163.0         73492   \n",
       "chunk_reads_main            1.031992e+09           30163.0     285167928   \n",
       "chunk_reads_split           1.031992e+09           30163.0         73108   \n",
       "count_genes_join            1.031992e+09           30163.0      19144628   \n",
       "count_genes_main            1.031992e+09           30163.0     129857068   \n",
       "count_genes_split           1.031992e+09           30163.0     129761828   \n",
       "extract_reads_join          1.031992e+09           30163.0     305387868   \n",
       "extract_reads_main          1.031992e+09           30163.0       4698864   \n",
       "extract_reads_split         1.031992e+09           30163.0         73284   \n",
       "filter_barcodes             1.031992e+09           30163.0        420044   \n",
       "get_trimmed_and_aligned     1.031992e+09           30163.0     114236936   \n",
       "mark_duplicates_join        1.031992e+09           30163.0      95614872   \n",
       "mark_duplicates_main        1.031992e+09           30163.0     130065876   \n",
       "setup_chunks                1.031992e+09            3704.0      77261248   \n",
       "\n",
       "                          max_max_memory  mean_max_disk  mean_max_memory  \\\n",
       "align_reads_main                   16527   3.801333e+07     16497.968354   \n",
       "align_reads_split                    306   3.406793e+07       306.000000   \n",
       "attach_bcs_and_umis_join            3590   1.964489e+08      3590.000000   \n",
       "chunk_reads_join                     284   7.348200e+04       283.000000   \n",
       "chunk_reads_main                     366   2.849237e+08       330.250000   \n",
       "chunk_reads_split                    279   7.310800e+04       279.000000   \n",
       "count_genes_join                    2161   1.914463e+07      2161.000000   \n",
       "count_genes_main                    1621   1.297686e+08      1053.324873   \n",
       "count_genes_split                    332   1.297618e+08       332.000000   \n",
       "extract_reads_join                   562   3.053865e+08       538.000000   \n",
       "extract_reads_main                   641   4.527025e+06       550.579114   \n",
       "extract_reads_split                  296   7.328400e+04       296.000000   \n",
       "filter_barcodes                     1001   4.200440e+05      1001.000000   \n",
       "get_trimmed_and_aligned              291   1.142369e+08       291.000000   \n",
       "mark_duplicates_join                 284   9.561487e+07       284.000000   \n",
       "mark_duplicates_main                 459   1.299336e+08       366.680203   \n",
       "setup_chunks                         124   7.726124e+07       122.500000   \n",
       "\n",
       "                           var_max_disk  var_max_memory  \n",
       "align_reads_main          432717.967862       11.990725  \n",
       "align_reads_split              0.000000        0.000000  \n",
       "attach_bcs_and_umis_join       0.000000        0.000000  \n",
       "chunk_reads_join              10.000000        1.000000  \n",
       "chunk_reads_main          219745.497974       35.280129  \n",
       "chunk_reads_split              0.000000        0.000000  \n",
       "count_genes_join               0.000000        0.000000  \n",
       "count_genes_main           19869.105920      131.910545  \n",
       "count_genes_split              0.000000        0.000000  \n",
       "extract_reads_join          1380.000000       24.000000  \n",
       "extract_reads_main        310827.609266       11.921025  \n",
       "extract_reads_split            0.000000        0.000000  \n",
       "filter_barcodes                0.000000        0.000000  \n",
       "get_trimmed_and_aligned        0.000000        0.000000  \n",
       "mark_duplicates_join           0.000000        0.000000  \n",
       "mark_duplicates_main       39680.060224       12.741645  \n",
       "setup_chunks                   4.000000        1.500000  "
      ]
     },
     "execution_count": 17,
     "metadata": {},
     "output_type": "execute_result"
    }
   ],
   "source": [
    "parsed_data  # memory utilization"
   ]
  },
  {
   "cell_type": "code",
   "execution_count": 7,
   "metadata": {
    "collapsed": true,
    "deletable": true,
    "editable": true
   },
   "outputs": [],
   "source": [
    "# save the data to file\n",
    "parsed_data = pd.read_csv('pbmc8k_mem_diskusage_data.csv', index_col=0)\n",
    "parsed_data.to_csv('pbmc8k_mem_diskusage_data.csv')"
   ]
  },
  {
   "cell_type": "markdown",
   "metadata": {},
   "source": [
    "## Plot utilization vs requested resources"
   ]
  },
  {
   "cell_type": "code",
   "execution_count": 19,
   "metadata": {
    "collapsed": true,
    "deletable": true,
    "editable": true
   },
   "outputs": [],
   "source": [
    "def barplot(dataframe, column, label, ax, *args, **kwargs):\n",
    "    ax.bar(left=np.arange(dataframe.shape[0]), height=dataframe[column], *args, **kwargs)\n",
    "    ax.set_xticks(np.arange(dataframe.shape[0]));\n",
    "    ax.set_xticklabels(list(i.replace('singlesample.Ss2RunSingleSample.', '') for i in dataframe.index), rotation=90)\n",
    "    ax.set_xlim((-0.6, dataframe.shape[0] - 0.4));\n",
    "    ax.set_ylabel(label)"
   ]
  },
  {
   "cell_type": "code",
   "execution_count": 25,
   "metadata": {
    "collapsed": false,
    "deletable": true,
    "editable": true
   },
   "outputs": [
    {
     "name": "stderr",
     "output_type": "stream",
     "text": [
      "/usr/local/lib/python3.6/site-packages/matplotlib/__init__.py:1710: MatplotlibDeprecationWarning: The *left* kwarg to `bar` is deprecated use *x* instead. Support for *left* will be removed in Matplotlib 3.0\n",
      "  return func(ax, *args, **kwargs)\n"
     ]
    },
    {
     "data": {
      "image/png": "[encoded data removed]",
      "text/plain": [
       "<matplotlib.figure.Figure at 0x112b7b710>"
      ]
     },
     "metadata": {},
     "output_type": "display_data"
    }
   ],
   "source": [
    "f, ax = plt.subplots(figsize=(12, 5))\n",
    "barplot(dataframe=parsed_data, column='available_memory', label='memory (MB)', zorder=0, ax=ax, facecolor='b')\n",
    "barplot(dataframe=parsed_data, column='mean_max_memory', label='memory (MB)', zorder=1, ax=ax, facecolor='r', \n",
    "        yerr=parsed_data['std_max_memory'])\n",
    "plt.scatter(np.arange(parsed_data.shape[0]), parsed_data['max_max_memory'], c='r')\n",
    "plt.title('memory usage (red) vs. allocation (blue) by task');"
   ]
  },
  {
   "cell_type": "code",
   "execution_count": 26,
   "metadata": {
    "collapsed": false,
    "deletable": true,
    "editable": true
   },
   "outputs": [
    {
     "name": "stderr",
     "output_type": "stream",
     "text": [
      "/usr/local/lib/python3.6/site-packages/matplotlib/__init__.py:1710: MatplotlibDeprecationWarning: The *left* kwarg to `bar` is deprecated use *x* instead. Support for *left* will be removed in Matplotlib 3.0\n",
      "  return func(ax, *args, **kwargs)\n"
     ]
    },
    {
     "data": {
      "image/png": "[encoded data removed]",
      "text/plain": [
       "<matplotlib.figure.Figure at 0x1127b3ef0>"
      ]
     },
     "metadata": {},
     "output_type": "display_data"
    }
   ],
   "source": [
    "f, ax = plt.subplots(figsize=(12, 5))\n",
    "barplot(dataframe=parsed_data, column='available_disk', label='disk (KB)', zorder=0, ax=ax, facecolor='b')\n",
    "barplot(dataframe=parsed_data, column='mean_max_disk', label='disk (KB)', zorder=1, ax=ax, facecolor='r', \n",
    "        yerr=parsed_data['std_max_disk'])\n",
    "plt.scatter(np.arange(parsed_data.shape[0]), parsed_data['max_max_disk'], c='r')\n",
    "plt.title('disk usage (red) vs. allocation (blue) by task');"
   ]
  },
  {
   "cell_type": "markdown",
   "metadata": {
    "deletable": true,
    "editable": true
   },
   "source": [
    "## Run the resource-optimized count on test data. "
   ]
  },
  {
   "cell_type": "markdown",
   "metadata": {},
   "source": [
    "I'm running with call caching, and docker was doing weird things, so the cost won't be accurate. "
   ]
  },
  {
   "cell_type": "code",
   "execution_count": 65,
   "metadata": {
    "collapsed": true,
    "deletable": true,
    "editable": true
   },
   "outputs": [],
   "source": [
    "wdl = '/Users/carra1/projects/skylab/10x/count/count.wdl'\n",
    "pbmc8k_inputs = 'pbmc8k_inputs.json'\n",
    "inputs_json = '/Users/carra1/projects/skylab/10x/count/example_count_input.json'\n",
    "options = '/Users/carra1/projects/cromwell-manager/src/accessories/options.json'\n",
    "monitor = {\"monitoring_script\": \"gs://broad-dsde-mint-dev-teststorage/10x/benchmark/scripts/monitor.sh\"}"
   ]
  },
  {
   "cell_type": "code",
   "execution_count": 99,
   "metadata": {
    "collapsed": true,
    "deletable": true,
    "editable": true
   },
   "outputs": [],
   "source": [
    "test_monitored_small = cwm.Workflow.from_submission(wdl=wdl, inputs_json=inputs_json, cromwell_server=cromwell_server, storage_client=storage_client)"
   ]
  },
  {
   "cell_type": "code",
   "execution_count": 61,
   "metadata": {
    "collapsed": false,
    "deletable": true,
    "editable": true
   },
   "outputs": [
    {
     "data": {
      "text/plain": [
       "{'id': '9d7ac6a4-fc02-41cf-82e4-af841d720634', 'status': 'Succeeded'}"
      ]
     },
     "execution_count": 61,
     "metadata": {},
     "output_type": "execute_result"
    }
   ],
   "source": [
    "test_monitored_small.status"
   ]
  },
  {
   "cell_type": "code",
   "execution_count": 124,
   "metadata": {
    "collapsed": false,
    "deletable": true,
    "editable": true
   },
   "outputs": [
    {
     "name": "stdout",
     "output_type": "stream",
     "text": [
      "CWM:2017-10-25 09:50:47.700076:creating temporary directory\n",
      "CWM:2017-10-25 09:50:47.700664:writing wdl\n",
      "CWM:2017-10-25 09:50:47.701140:running wdltool validate\n",
      "CWM:2017-10-25 09:50:48.966942:validation successful\n",
      "CWM:2017-10-25 09:50:49.265370:checking docker image marcusczi/cellranger_clean:cromwell... OK.\n"
     ]
    }
   ],
   "source": [
    "os.environ['wdltool'] = os.path.expanduser('~/google_drive/software/wdltool-0.14.jar')\n",
    "test_monitored = cwm.Workflow.validate(\n",
    "    wdl=wdl, \n",
    "    inputs_json=pbmc8k_inputs, \n",
    "    options_json={\"monitoring_script\": \"gs://broad-dsde-mint-dev-teststorage/10x/benchmark/scripts/monitor_long.sh\"},\n",
    "    cromwell_server=cromwell_server, \n",
    "    storage_client=storage_client)"
   ]
  },
  {
   "cell_type": "code",
   "execution_count": 122,
   "metadata": {
    "collapsed": false,
    "deletable": true,
    "editable": true
   },
   "outputs": [],
   "source": [
    "test_monitored = cwm.Workflow.from_submission(\n",
    "    wdl=wdl, \n",
    "    inputs_json=pbmc8k_inputs, \n",
    "    options_json={\"monitoring_script\": \"gs://broad-dsde-mint-dev-teststorage/10x/benchmark/scripts/monitor_long.sh\"},\n",
    "    cromwell_server=cromwell_server, \n",
    "    storage_client=storage_client)"
   ]
  },
  {
   "cell_type": "code",
   "execution_count": 137,
   "metadata": {
    "collapsed": false,
    "deletable": true,
    "editable": true
   },
   "outputs": [
    {
     "data": {
      "text/plain": [
       "{'id': 'cbf9c3cd-4a23-4ac2-9e12-78969151a44a', 'status': 'Succeeded'}"
      ]
     },
     "execution_count": 137,
     "metadata": {},
     "output_type": "execute_result"
    }
   ],
   "source": [
    "test_monitored.status"
   ]
  },
  {
   "cell_type": "markdown",
   "metadata": {},
   "source": [
    "Carry out the cost analysis even though docker took 100x longer than it should have. "
   ]
  },
  {
   "cell_type": "code",
   "execution_count": 141,
   "metadata": {
    "collapsed": true
   },
   "outputs": [],
   "source": [
    "import requests\n",
    "\n",
    "script_data = requests.get('https://raw.githubusercontent.com/ambrosejcarr/cromwell-manager/master/src/accessories/calculate_workflow_cost.py')\n",
    "with open('get_cost.py', 'wb') as f:\n",
    "    f.write(script_data.content)\n",
    "\n",
    "md = test_monitored.metadata\n",
    "with open('run_metadata.json', 'w') as f:\n",
    "    json.dump(md, f)"
   ]
  },
  {
   "cell_type": "code",
   "execution_count": 150,
   "metadata": {
    "collapsed": false
   },
   "outputs": [
    {
     "name": "stdout",
     "output_type": "stream",
     "text": [
      "Total Cost: 188.704169977\r\n"
     ]
    }
   ],
   "source": [
    "!python2.7 get_cost.py -m run_metadata.json --only_total"
   ]
  }
 ],
 "metadata": {
  "hide_input": false,
  "kernelspec": {
   "display_name": "Python 3",
   "language": "python",
   "name": "python3"
  },
  "language_info": {
   "codemirror_mode": {
    "name": "ipython",
    "version": 3
   },
   "file_extension": ".py",
   "mimetype": "text/x-python",
   "name": "python",
   "nbconvert_exporter": "python",
   "pygments_lexer": "ipython3",
   "version": "3.6.0"
  },
  "nav_menu": {},
  "toc": {
   "nav_menu": {},
   "number_sections": true,
   "sideBar": true,
   "skip_h1_title": false,
   "toc_cell": false,
   "toc_position": {},
   "toc_section_display": "block",
   "toc_window_display": false
  }
 },
 "nbformat": 4,
 "nbformat_minor": 2
}
